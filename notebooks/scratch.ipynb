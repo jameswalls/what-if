{
 "cells": [
  {
   "cell_type": "code",
   "execution_count": 92,
   "id": "25437434-e2de-44ea-abb6-d27edddd5b97",
   "metadata": {},
   "outputs": [],
   "source": [
    "import json\n",
    "import os\n",
    "\n",
    "import numpy as np\n",
    "import pandas as pd\n",
    "import plotly.express as px\n",
    "import requests\n",
    "\n",
    "from itertools import pairwise"
   ]
  },
  {
   "cell_type": "code",
   "execution_count": 2,
   "id": "62a91251-08e3-43f9-8b74-bf3b4915a4b0",
   "metadata": {},
   "outputs": [],
   "source": [
    "os.chdir(\"..\")"
   ]
  },
  {
   "cell_type": "markdown",
   "id": "190af059-9de0-4947-a527-ffc83b37e8ee",
   "metadata": {},
   "source": [
    "# fetch data"
   ]
  },
  {
   "cell_type": "code",
   "execution_count": 3,
   "id": "34e7683a-368b-4238-bd22-2301e753770b",
   "metadata": {},
   "outputs": [],
   "source": [
    "api_key = os.environ.get(\"MARKETSTACK_API_KEY\")"
   ]
  },
  {
   "cell_type": "code",
   "execution_count": 4,
   "id": "38b048ce-66a0-4dbc-bdf6-2d09e48dcf79",
   "metadata": {},
   "outputs": [],
   "source": [
    "dates = [\"2020-01-01\", \"2021-01-01\", \"2022-01-01\", \"2023-01-01\", \"2024-11-10\"]"
   ]
  },
  {
   "cell_type": "code",
   "execution_count": 50,
   "id": "52ce682f-a469-4ec7-aa74-5ae5339d6535",
   "metadata": {},
   "outputs": [],
   "source": [
    "ticker = \"PLTR\""
   ]
  },
  {
   "cell_type": "code",
   "execution_count": 51,
   "id": "801a8491-f1ce-4957-86e1-7908ef77b169",
   "metadata": {},
   "outputs": [],
   "source": [
    "url = f\"https://api.marketstack.com/v1/eod?access_key={api_key}\""
   ]
  },
  {
   "cell_type": "code",
   "execution_count": 52,
   "id": "32c14f3d-45a1-417d-8b9a-73b393ca843c",
   "metadata": {},
   "outputs": [],
   "source": [
    "file_path = f\"data/daily/{ticker}.json\""
   ]
  },
  {
   "cell_type": "code",
   "execution_count": 53,
   "id": "00ab2694-bef3-4aaa-9b85-5300df20c953",
   "metadata": {},
   "outputs": [],
   "source": [
    "data = []\n",
    "\n",
    "if os.path.exists(file_path):\n",
    "    print(\"File exists!\")\n",
    "else:\n",
    "    for date_from, date_to in pairwise(dates):\n",
    "        params = {\n",
    "            \"symbols\": ticker,\n",
    "            \"date_from\": date_from,\n",
    "            \"date_to\": date_to,\n",
    "            \"sort\": \"ASC\",\n",
    "            \"limit\": 1000\n",
    "        }\n",
    "        response = requests.get(url, params=params)\n",
    "        if response.ok:\n",
    "            data += response.json()[\"data\"]\n",
    "\n",
    "    with open(file_path, \"w\") as file:\n",
    "        json.dump(data, file, indent=4)"
   ]
  },
  {
   "cell_type": "code",
   "execution_count": 54,
   "id": "b47c6088-36f2-4d7d-81f4-852b6f708862",
   "metadata": {},
   "outputs": [],
   "source": [
    "with open(file_path, \"r\") as file:\n",
    "    data = json.load(file)"
   ]
  },
  {
   "cell_type": "markdown",
   "id": "cdf10684-ab17-4420-8bd3-31fc9d3b176a",
   "metadata": {},
   "source": [
    "# load data"
   ]
  },
  {
   "cell_type": "code",
   "execution_count": 55,
   "id": "814cda54-2a90-4362-8016-ac4ec8216cb7",
   "metadata": {},
   "outputs": [],
   "source": [
    "df = pd.DataFrame(data)"
   ]
  },
  {
   "cell_type": "code",
   "execution_count": 56,
   "id": "f5a6346d-495d-403f-a70f-1d282e74cb20",
   "metadata": {},
   "outputs": [],
   "source": [
    "df[\"date\"] = pd.to_datetime(df[\"date\"])\n",
    "df[\"week\"] = df[\"date\"] - pd.offsets.Week(weekday=6)"
   ]
  },
  {
   "cell_type": "code",
   "execution_count": 57,
   "id": "f1427902-4e4c-4d91-b42d-e39c28740808",
   "metadata": {},
   "outputs": [
    {
     "data": {
      "text/html": [
       "<div>\n",
       "<style scoped>\n",
       "    .dataframe tbody tr th:only-of-type {\n",
       "        vertical-align: middle;\n",
       "    }\n",
       "\n",
       "    .dataframe tbody tr th {\n",
       "        vertical-align: top;\n",
       "    }\n",
       "\n",
       "    .dataframe thead th {\n",
       "        text-align: right;\n",
       "    }\n",
       "</style>\n",
       "<table border=\"1\" class=\"dataframe\">\n",
       "  <thead>\n",
       "    <tr style=\"text-align: right;\">\n",
       "      <th></th>\n",
       "      <th>symbol</th>\n",
       "      <th>date</th>\n",
       "      <th>close</th>\n",
       "      <th>adj_close</th>\n",
       "      <th>split_factor</th>\n",
       "    </tr>\n",
       "  </thead>\n",
       "  <tbody>\n",
       "    <tr>\n",
       "      <th>371</th>\n",
       "      <td>PLTR</td>\n",
       "      <td>2022-08-10 00:00:00+00:00</td>\n",
       "      <td>9.59</td>\n",
       "      <td>9.59</td>\n",
       "      <td>1.0</td>\n",
       "    </tr>\n",
       "    <tr>\n",
       "      <th>372</th>\n",
       "      <td>PLTR</td>\n",
       "      <td>2022-08-11 00:00:00+00:00</td>\n",
       "      <td>9.42</td>\n",
       "      <td>9.42</td>\n",
       "      <td>1.0</td>\n",
       "    </tr>\n",
       "    <tr>\n",
       "      <th>373</th>\n",
       "      <td>PLTR</td>\n",
       "      <td>2022-08-12 00:00:00+00:00</td>\n",
       "      <td>9.91</td>\n",
       "      <td>9.91</td>\n",
       "      <td>1.0</td>\n",
       "    </tr>\n",
       "    <tr>\n",
       "      <th>374</th>\n",
       "      <td>PLTR</td>\n",
       "      <td>2022-08-15 00:00:00+00:00</td>\n",
       "      <td>9.91</td>\n",
       "      <td>9.91</td>\n",
       "      <td>1.0</td>\n",
       "    </tr>\n",
       "    <tr>\n",
       "      <th>375</th>\n",
       "      <td>PLTR</td>\n",
       "      <td>2022-08-16 00:00:00+00:00</td>\n",
       "      <td>9.74</td>\n",
       "      <td>9.74</td>\n",
       "      <td>1.0</td>\n",
       "    </tr>\n",
       "    <tr>\n",
       "      <th>376</th>\n",
       "      <td>PLTR</td>\n",
       "      <td>2022-08-17 00:00:00+00:00</td>\n",
       "      <td>9.43</td>\n",
       "      <td>9.43</td>\n",
       "      <td>1.0</td>\n",
       "    </tr>\n",
       "    <tr>\n",
       "      <th>377</th>\n",
       "      <td>PLTR</td>\n",
       "      <td>2022-08-18 00:00:00+00:00</td>\n",
       "      <td>9.15</td>\n",
       "      <td>9.15</td>\n",
       "      <td>1.0</td>\n",
       "    </tr>\n",
       "    <tr>\n",
       "      <th>378</th>\n",
       "      <td>PLTR</td>\n",
       "      <td>2022-08-19 00:00:00+00:00</td>\n",
       "      <td>8.51</td>\n",
       "      <td>8.51</td>\n",
       "      <td>1.0</td>\n",
       "    </tr>\n",
       "    <tr>\n",
       "      <th>379</th>\n",
       "      <td>PLTR</td>\n",
       "      <td>2022-08-22 00:00:00+00:00</td>\n",
       "      <td>8.07</td>\n",
       "      <td>8.07</td>\n",
       "      <td>1.0</td>\n",
       "    </tr>\n",
       "    <tr>\n",
       "      <th>380</th>\n",
       "      <td>PLTR</td>\n",
       "      <td>2022-08-23 00:00:00+00:00</td>\n",
       "      <td>8.01</td>\n",
       "      <td>8.01</td>\n",
       "      <td>1.0</td>\n",
       "    </tr>\n",
       "    <tr>\n",
       "      <th>381</th>\n",
       "      <td>PLTR</td>\n",
       "      <td>2022-08-24 00:00:00+00:00</td>\n",
       "      <td>8.10</td>\n",
       "      <td>8.10</td>\n",
       "      <td>1.0</td>\n",
       "    </tr>\n",
       "    <tr>\n",
       "      <th>382</th>\n",
       "      <td>PLTR</td>\n",
       "      <td>2022-08-25 00:00:00+00:00</td>\n",
       "      <td>8.42</td>\n",
       "      <td>8.42</td>\n",
       "      <td>1.0</td>\n",
       "    </tr>\n",
       "    <tr>\n",
       "      <th>383</th>\n",
       "      <td>PLTR</td>\n",
       "      <td>2022-08-26 00:00:00+00:00</td>\n",
       "      <td>7.94</td>\n",
       "      <td>7.94</td>\n",
       "      <td>1.0</td>\n",
       "    </tr>\n",
       "    <tr>\n",
       "      <th>384</th>\n",
       "      <td>PLTR</td>\n",
       "      <td>2022-08-29 00:00:00+00:00</td>\n",
       "      <td>7.81</td>\n",
       "      <td>7.81</td>\n",
       "      <td>1.0</td>\n",
       "    </tr>\n",
       "    <tr>\n",
       "      <th>385</th>\n",
       "      <td>PLTR</td>\n",
       "      <td>2022-08-30 00:00:00+00:00</td>\n",
       "      <td>7.79</td>\n",
       "      <td>7.79</td>\n",
       "      <td>1.0</td>\n",
       "    </tr>\n",
       "    <tr>\n",
       "      <th>386</th>\n",
       "      <td>PLTR</td>\n",
       "      <td>2022-08-31 00:00:00+00:00</td>\n",
       "      <td>7.72</td>\n",
       "      <td>7.72</td>\n",
       "      <td>1.0</td>\n",
       "    </tr>\n",
       "  </tbody>\n",
       "</table>\n",
       "</div>"
      ],
      "text/plain": [
       "    symbol                      date  close  adj_close  split_factor\n",
       "371   PLTR 2022-08-10 00:00:00+00:00   9.59       9.59           1.0\n",
       "372   PLTR 2022-08-11 00:00:00+00:00   9.42       9.42           1.0\n",
       "373   PLTR 2022-08-12 00:00:00+00:00   9.91       9.91           1.0\n",
       "374   PLTR 2022-08-15 00:00:00+00:00   9.91       9.91           1.0\n",
       "375   PLTR 2022-08-16 00:00:00+00:00   9.74       9.74           1.0\n",
       "376   PLTR 2022-08-17 00:00:00+00:00   9.43       9.43           1.0\n",
       "377   PLTR 2022-08-18 00:00:00+00:00   9.15       9.15           1.0\n",
       "378   PLTR 2022-08-19 00:00:00+00:00   8.51       8.51           1.0\n",
       "379   PLTR 2022-08-22 00:00:00+00:00   8.07       8.07           1.0\n",
       "380   PLTR 2022-08-23 00:00:00+00:00   8.01       8.01           1.0\n",
       "381   PLTR 2022-08-24 00:00:00+00:00   8.10       8.10           1.0\n",
       "382   PLTR 2022-08-25 00:00:00+00:00   8.42       8.42           1.0\n",
       "383   PLTR 2022-08-26 00:00:00+00:00   7.94       7.94           1.0\n",
       "384   PLTR 2022-08-29 00:00:00+00:00   7.81       7.81           1.0\n",
       "385   PLTR 2022-08-30 00:00:00+00:00   7.79       7.79           1.0\n",
       "386   PLTR 2022-08-31 00:00:00+00:00   7.72       7.72           1.0"
      ]
     },
     "execution_count": 57,
     "metadata": {},
     "output_type": "execute_result"
    }
   ],
   "source": [
    "df[df[\"date\"].between(\"2022-08-10\", \"2022-08-31\")][[\"symbol\", \"date\", \"close\", \"adj_close\", \"split_factor\"]]"
   ]
  },
  {
   "cell_type": "code",
   "execution_count": 58,
   "id": "a1a0cb5f-9c2f-452f-9651-f338cee6f4e8",
   "metadata": {},
   "outputs": [
    {
     "data": {
      "text/html": [
       "<div>\n",
       "<style scoped>\n",
       "    .dataframe tbody tr th:only-of-type {\n",
       "        vertical-align: middle;\n",
       "    }\n",
       "\n",
       "    .dataframe tbody tr th {\n",
       "        vertical-align: top;\n",
       "    }\n",
       "\n",
       "    .dataframe thead th {\n",
       "        text-align: right;\n",
       "    }\n",
       "</style>\n",
       "<table border=\"1\" class=\"dataframe\">\n",
       "  <thead>\n",
       "    <tr style=\"text-align: right;\">\n",
       "      <th></th>\n",
       "      <th>open</th>\n",
       "      <th>high</th>\n",
       "      <th>low</th>\n",
       "      <th>close</th>\n",
       "      <th>volume</th>\n",
       "      <th>adj_high</th>\n",
       "      <th>adj_low</th>\n",
       "      <th>adj_close</th>\n",
       "      <th>adj_open</th>\n",
       "      <th>adj_volume</th>\n",
       "      <th>split_factor</th>\n",
       "      <th>dividend</th>\n",
       "      <th>symbol</th>\n",
       "      <th>exchange</th>\n",
       "      <th>date</th>\n",
       "      <th>week</th>\n",
       "    </tr>\n",
       "  </thead>\n",
       "  <tbody>\n",
       "  </tbody>\n",
       "</table>\n",
       "</div>"
      ],
      "text/plain": [
       "Empty DataFrame\n",
       "Columns: [open, high, low, close, volume, adj_high, adj_low, adj_close, adj_open, adj_volume, split_factor, dividend, symbol, exchange, date, week]\n",
       "Index: []"
      ]
     },
     "execution_count": 58,
     "metadata": {},
     "output_type": "execute_result"
    }
   ],
   "source": [
    "df[df[\"split_factor\"]!=1]"
   ]
  },
  {
   "cell_type": "code",
   "execution_count": 59,
   "id": "9c4dcd9f-9706-42e7-8b83-61b16f2d3aae",
   "metadata": {},
   "outputs": [],
   "source": [
    "def calculate_split_factor(x):\n",
    "    split_factor = [1] + df[\"split_factor\"].to_list()[::-1][:-1]\n",
    "    current = 1\n",
    "    new_split_factor = []\n",
    "    for previous in split_factor:\n",
    "        new_factor = previous * current\n",
    "        new_split_factor.append(new_factor)\n",
    "        current = new_factor\n",
    "    return new_split_factor[::-1]"
   ]
  },
  {
   "cell_type": "code",
   "execution_count": 60,
   "id": "66727c6c-91bf-43b5-b5fd-cb9015220ce2",
   "metadata": {},
   "outputs": [],
   "source": [
    "df[\"net_split_factor\"] = calculate_split_factor(df[\"split_factor\"])\n",
    "df[\"real_adj_close\"] = (df[\"close\"] / df[\"net_split_factor\"]).round(4)"
   ]
  },
  {
   "cell_type": "markdown",
   "id": "51bb2170-650e-42ec-992b-d765bd8d8b7f",
   "metadata": {},
   "source": [
    "# some plots"
   ]
  },
  {
   "cell_type": "code",
   "execution_count": 61,
   "id": "6484ce09-7794-4249-8f80-8b2fa5995f40",
   "metadata": {},
   "outputs": [
    {
     "data": {
      "text/plain": [
       "<Axes: xlabel='date'>"
      ]
     },
     "execution_count": 61,
     "metadata": {},
     "output_type": "execute_result"
    },
    {
     "data": {
      "image/png": "[encoded data removed]",
      "text/plain": [
       "<Figure size 640x480 with 1 Axes>"
      ]
     },
     "metadata": {},
     "output_type": "display_data"
    }
   ],
   "source": [
    "df.set_index(\"date\")[\"close\"].plot.line()"
   ]
  },
  {
   "cell_type": "code",
   "execution_count": 62,
   "id": "4a9469ad-71aa-4ce4-bcd4-662aba0b12b0",
   "metadata": {},
   "outputs": [
    {
     "data": {
      "text/plain": [
       "<Axes: xlabel='date'>"
      ]
     },
     "execution_count": 62,
     "metadata": {},
     "output_type": "execute_result"
    },
    {
     "data": {
      "image/png": "[encoded data removed]",
      "text/plain": [
       "<Figure size 640x480 with 1 Axes>"
      ]
     },
     "metadata": {},
     "output_type": "display_data"
    }
   ],
   "source": [
    "df.set_index(\"date\")[\"adj_close\"].plot.line()"
   ]
  },
  {
   "cell_type": "code",
   "execution_count": 63,
   "id": "7aa0f5ed-58e0-49aa-ad80-530efc804e1e",
   "metadata": {},
   "outputs": [
    {
     "data": {
      "text/plain": [
       "<Axes: xlabel='date'>"
      ]
     },
     "execution_count": 63,
     "metadata": {},
     "output_type": "execute_result"
    },
    {
     "data": {
      "image/png": "[encoded data removed]",
      "text/plain": [
       "<Figure size 640x480 with 1 Axes>"
      ]
     },
     "metadata": {},
     "output_type": "display_data"
    }
   ],
   "source": [
    "df.set_index(\"date\")[\"real_adj_close\"].plot.line()"
   ]
  },
  {
   "cell_type": "code",
   "execution_count": 64,
   "id": "2c3662b7-6cd8-4ae2-a5f0-c26578901b44",
   "metadata": {},
   "outputs": [
    {
     "data": {
      "application/vnd.plotly.v1+json": {
       "config": {
        "plotlyServerURL": "https://plot.ly"
       },
       "data": [
        {
         "hovertemplate": "week=%{x}<br>real_adj_close=%{y}<extra></extra>",
         "legendgroup": "",
         "line": {
          "color": "#636efa",
          "dash": "solid"
         },
         "marker": {
          "symbol": "circle"
         },
         "mode": "lines",
         "name": "",
         "orientation": "v",
         "showlegend": false,
         "type": "scatter",
         "x": [
          "2021-02-14T00:00:00+00:00",
          "2021-02-21T00:00:00+00:00",
          "2021-02-28T00:00:00+00:00",
          "2021-03-07T00:00:00+00:00",
          "2021-03-14T00:00:00+00:00",
          "2021-03-21T00:00:00+00:00",
          "2021-03-28T00:00:00+00:00",
          "2021-04-04T00:00:00+00:00",
          "2021-04-11T00:00:00+00:00",
          "2021-04-18T00:00:00+00:00",
          "2021-04-25T00:00:00+00:00",
          "2021-05-02T00:00:00+00:00",
          "2021-05-09T00:00:00+00:00",
          "2021-05-16T00:00:00+00:00",
          "2021-05-23T00:00:00+00:00",
          "2021-05-30T00:00:00+00:00",
          "2021-06-06T00:00:00+00:00",
          "2021-06-13T00:00:00+00:00",
          "2021-06-20T00:00:00+00:00",
          "2021-06-27T00:00:00+00:00",
          "2021-07-04T00:00:00+00:00",
          "2021-07-11T00:00:00+00:00",
          "2021-07-18T00:00:00+00:00",
          "2021-07-25T00:00:00+00:00",
          "2021-08-01T00:00:00+00:00",
          "2021-08-08T00:00:00+00:00",
          "2021-08-15T00:00:00+00:00",
          "2021-08-22T00:00:00+00:00",
          "2021-08-29T00:00:00+00:00",
          "2021-09-05T00:00:00+00:00",
          "2021-09-12T00:00:00+00:00",
          "2021-09-19T00:00:00+00:00",
          "2021-09-26T00:00:00+00:00",
          "2021-10-03T00:00:00+00:00",
          "2021-10-10T00:00:00+00:00",
          "2021-10-17T00:00:00+00:00",
          "2021-10-24T00:00:00+00:00",
          "2021-10-31T00:00:00+00:00",
          "2021-11-07T00:00:00+00:00",
          "2021-11-14T00:00:00+00:00",
          "2021-11-21T00:00:00+00:00",
          "2021-11-28T00:00:00+00:00",
          "2021-12-05T00:00:00+00:00",
          "2021-12-12T00:00:00+00:00",
          "2021-12-19T00:00:00+00:00",
          "2021-12-26T00:00:00+00:00",
          "2022-01-02T00:00:00+00:00",
          "2022-01-09T00:00:00+00:00",
          "2022-01-16T00:00:00+00:00",
          "2022-01-23T00:00:00+00:00",
          "2022-01-30T00:00:00+00:00",
          "2022-02-06T00:00:00+00:00",
          "2022-02-13T00:00:00+00:00",
          "2022-02-20T00:00:00+00:00",
          "2022-02-27T00:00:00+00:00",
          "2022-03-06T00:00:00+00:00",
          "2022-03-13T00:00:00+00:00",
          "2022-03-20T00:00:00+00:00",
          "2022-03-27T00:00:00+00:00",
          "2022-04-03T00:00:00+00:00",
          "2022-04-10T00:00:00+00:00",
          "2022-04-17T00:00:00+00:00",
          "2022-04-24T00:00:00+00:00",
          "2022-05-01T00:00:00+00:00",
          "2022-05-08T00:00:00+00:00",
          "2022-05-15T00:00:00+00:00",
          "2022-05-22T00:00:00+00:00",
          "2022-05-29T00:00:00+00:00",
          "2022-06-05T00:00:00+00:00",
          "2022-06-12T00:00:00+00:00",
          "2022-06-19T00:00:00+00:00",
          "2022-06-26T00:00:00+00:00",
          "2022-07-03T00:00:00+00:00",
          "2022-07-10T00:00:00+00:00",
          "2022-07-17T00:00:00+00:00",
          "2022-07-24T00:00:00+00:00",
          "2022-07-31T00:00:00+00:00",
          "2022-08-07T00:00:00+00:00",
          "2022-08-14T00:00:00+00:00",
          "2022-08-21T00:00:00+00:00",
          "2022-08-28T00:00:00+00:00",
          "2022-09-04T00:00:00+00:00",
          "2022-09-11T00:00:00+00:00",
          "2022-09-18T00:00:00+00:00",
          "2022-09-25T00:00:00+00:00",
          "2022-10-02T00:00:00+00:00",
          "2022-10-09T00:00:00+00:00",
          "2022-10-16T00:00:00+00:00",
          "2022-10-23T00:00:00+00:00",
          "2022-10-30T00:00:00+00:00",
          "2022-11-06T00:00:00+00:00",
          "2022-11-13T00:00:00+00:00",
          "2022-11-20T00:00:00+00:00",
          "2022-11-27T00:00:00+00:00",
          "2022-12-04T00:00:00+00:00",
          "2022-12-11T00:00:00+00:00",
          "2022-12-18T00:00:00+00:00",
          "2022-12-25T00:00:00+00:00",
          "2023-01-01T00:00:00+00:00",
          "2023-01-08T00:00:00+00:00",
          "2023-01-15T00:00:00+00:00",
          "2023-01-22T00:00:00+00:00",
          "2023-01-29T00:00:00+00:00",
          "2023-02-05T00:00:00+00:00",
          "2023-02-12T00:00:00+00:00",
          "2023-02-19T00:00:00+00:00",
          "2023-02-26T00:00:00+00:00",
          "2023-03-05T00:00:00+00:00",
          "2023-03-12T00:00:00+00:00",
          "2023-03-19T00:00:00+00:00",
          "2023-03-26T00:00:00+00:00",
          "2023-04-02T00:00:00+00:00",
          "2023-04-09T00:00:00+00:00",
          "2023-04-16T00:00:00+00:00",
          "2023-04-23T00:00:00+00:00",
          "2023-04-30T00:00:00+00:00",
          "2023-05-07T00:00:00+00:00",
          "2023-05-14T00:00:00+00:00",
          "2023-05-21T00:00:00+00:00",
          "2023-05-28T00:00:00+00:00",
          "2023-06-04T00:00:00+00:00",
          "2023-06-11T00:00:00+00:00",
          "2023-06-18T00:00:00+00:00",
          "2023-06-25T00:00:00+00:00",
          "2023-07-02T00:00:00+00:00",
          "2023-07-09T00:00:00+00:00",
          "2023-07-16T00:00:00+00:00",
          "2023-07-23T00:00:00+00:00",
          "2023-07-30T00:00:00+00:00",
          "2023-08-06T00:00:00+00:00",
          "2023-08-13T00:00:00+00:00",
          "2023-08-20T00:00:00+00:00",
          "2023-08-27T00:00:00+00:00",
          "2023-09-03T00:00:00+00:00",
          "2023-09-10T00:00:00+00:00",
          "2023-09-17T00:00:00+00:00",
          "2023-09-24T00:00:00+00:00",
          "2023-10-01T00:00:00+00:00",
          "2023-10-08T00:00:00+00:00",
          "2023-10-15T00:00:00+00:00",
          "2023-10-22T00:00:00+00:00",
          "2023-10-29T00:00:00+00:00",
          "2023-11-05T00:00:00+00:00",
          "2023-11-12T00:00:00+00:00",
          "2023-11-19T00:00:00+00:00",
          "2023-11-26T00:00:00+00:00",
          "2023-12-03T00:00:00+00:00",
          "2023-12-10T00:00:00+00:00",
          "2023-12-17T00:00:00+00:00",
          "2023-12-24T00:00:00+00:00",
          "2023-12-31T00:00:00+00:00",
          "2024-01-07T00:00:00+00:00",
          "2024-01-14T00:00:00+00:00",
          "2024-01-21T00:00:00+00:00",
          "2024-01-28T00:00:00+00:00",
          "2024-02-04T00:00:00+00:00",
          "2024-02-11T00:00:00+00:00",
          "2024-02-18T00:00:00+00:00",
          "2024-02-25T00:00:00+00:00",
          "2024-03-03T00:00:00+00:00",
          "2024-03-10T00:00:00+00:00",
          "2024-03-17T00:00:00+00:00",
          "2024-03-24T00:00:00+00:00",
          "2024-03-31T00:00:00+00:00",
          "2024-04-07T00:00:00+00:00",
          "2024-04-14T00:00:00+00:00",
          "2024-04-21T00:00:00+00:00",
          "2024-04-28T00:00:00+00:00",
          "2024-05-05T00:00:00+00:00",
          "2024-05-12T00:00:00+00:00",
          "2024-05-19T00:00:00+00:00",
          "2024-05-26T00:00:00+00:00",
          "2024-06-02T00:00:00+00:00",
          "2024-06-09T00:00:00+00:00",
          "2024-06-16T00:00:00+00:00",
          "2024-06-23T00:00:00+00:00",
          "2024-06-30T00:00:00+00:00",
          "2024-07-07T00:00:00+00:00",
          "2024-07-14T00:00:00+00:00",
          "2024-07-21T00:00:00+00:00",
          "2024-07-28T00:00:00+00:00",
          "2024-08-04T00:00:00+00:00",
          "2024-08-11T00:00:00+00:00",
          "2024-08-18T00:00:00+00:00",
          "2024-08-25T00:00:00+00:00",
          "2024-09-01T00:00:00+00:00",
          "2024-09-08T00:00:00+00:00",
          "2024-09-15T00:00:00+00:00",
          "2024-09-22T00:00:00+00:00",
          "2024-09-29T00:00:00+00:00",
          "2024-10-06T00:00:00+00:00",
          "2024-10-13T00:00:00+00:00",
          "2024-10-20T00:00:00+00:00",
          "2024-10-27T00:00:00+00:00",
          "2024-11-03T00:00:00+00:00"
         ],
         "xaxis": "x",
         "y": [
          null,
          23.9,
          23.95,
          26.92,
          24.32,
          22.58,
          23.07,
          24.04,
          22.47,
          23.41,
          23.04,
          19.75,
          20.08,
          20.75,
          22.95,
          24.03,
          24.67,
          25.37,
          26.78,
          24.44,
          23.29,
          21.37,
          21.81,
          21.71,
          21.82,
          24.9,
          24.01,
          25.71,
          26.64,
          26.28,
          28.71,
          28.56,
          24.33,
          23.5,
          24,
          24.43,
          25.88,
          26,
          22.83,
          21.41,
          21.03,
          18.98,
          18.94,
          19.06,
          18.93,
          18.21,
          16.56,
          16.01,
          13.53,
          12.71,
          12.94,
          13.13,
          11.02,
          11.47,
          10.96,
          11.39,
          12.82,
          12.97,
          13.83,
          12.7,
          12.42,
          11.96,
          10.4,
          9.48,
          8.34,
          8.08,
          8.85,
          8.94,
          8.26,
          8.24,
          10.19,
          9.27,
          10.17,
          9.04,
          9.84,
          10.35,
          11.45,
          9.91,
          8.51,
          7.94,
          7.4,
          7.79,
          7.78,
          7.4,
          8.13,
          8.15,
          7.53,
          8.29,
          8.64,
          7.93,
          8.41,
          7.39,
          7.28,
          7.66,
          7.11,
          6.9,
          6.29,
          6.42,
          6.4,
          6.96,
          7.02,
          7.55,
          8.41,
          7.51,
          9.2,
          8.09,
          8.33,
          7.35,
          7.88,
          8.2,
          8.45,
          8.09,
          8.81,
          8.18,
          7.75,
          7.41,
          9.5,
          11.71,
          13.65,
          14.52,
          15.02,
          16.3,
          14.03,
          15.33,
          15.34,
          16.4,
          16.43,
          17.81,
          18.2,
          15.41,
          14.4,
          14.53,
          15.18,
          15.13,
          15.33,
          14.13,
          16,
          16.61,
          17.36,
          16.11,
          15.07,
          18.89,
          19.67,
          20.49,
          19.2,
          20.27,
          17.77,
          18.2,
          17.41,
          17.17,
          15.98,
          16.76,
          16.78,
          16.35,
          17.02,
          24.38,
          24.44,
          22.97,
          24.93,
          26.04,
          23.49,
          24.18,
          23.01,
          22.96,
          22.67,
          20.47,
          22.52,
          23.33,
          20.6,
          21.76,
          21.01,
          21.68,
          23.31,
          23.57,
          23.84,
          25.33,
          27.23,
          28.07,
          28.58,
          27.18,
          24.74,
          30.01,
          32.08,
          31.78,
          31.48,
          30.33,
          35.59,
          37.2,
          36.84,
          40.01,
          43.51,
          42.97,
          44.86,
          41.92,
          58.39
         ],
         "yaxis": "y"
        }
       ],
       "layout": {
        "autosize": true,
        "hovermode": "x",
        "legend": {
         "tracegroupgap": 0
        },
        "margin": {
         "t": 60
        },
        "template": {
         "data": {
          "bar": [
           {
            "error_x": {
             "color": "#2a3f5f"
            },
            "error_y": {
             "color": "#2a3f5f"
            },
            "marker": {
             "line": {
              "color": "#E5ECF6",
              "width": 0.5
             },
             "pattern": {
              "fillmode": "overlay",
              "size": 10,
              "solidity": 0.2
             }
            },
            "type": "bar"
           }
          ],
          "barpolar": [
           {
            "marker": {
             "line": {
              "color": "#E5ECF6",
              "width": 0.5
             },
             "pattern": {
              "fillmode": "overlay",
              "size": 10,
              "solidity": 0.2
             }
            },
            "type": "barpolar"
           }
          ],
          "carpet": [
           {
            "aaxis": {
             "endlinecolor": "#2a3f5f",
             "gridcolor": "white",
             "linecolor": "white",
             "minorgridcolor": "white",
             "startlinecolor": "#2a3f5f"
            },
            "baxis": {
             "endlinecolor": "#2a3f5f",
             "gridcolor": "white",
             "linecolor": "white",
             "minorgridcolor": "white",
             "startlinecolor": "#2a3f5f"
            },
            "type": "carpet"
           }
          ],
          "choropleth": [
           {
            "colorbar": {
             "outlinewidth": 0,
             "ticks": ""
            },
            "type": "choropleth"
           }
          ],
          "contour": [
           {
            "colorbar": {
             "outlinewidth": 0,
             "ticks": ""
            },
            "colorscale": [
             [
              0,
              "#0d0887"
             ],
             [
              0.1111111111111111,
              "#46039f"
             ],
             [
              0.2222222222222222,
              "#7201a8"
             ],
             [
              0.3333333333333333,
              "#9c179e"
             ],
             [
              0.4444444444444444,
              "#bd3786"
             ],
             [
              0.5555555555555556,
              "#d8576b"
             ],
             [
              0.6666666666666666,
              "#ed7953"
             ],
             [
              0.7777777777777778,
              "#fb9f3a"
             ],
             [
              0.8888888888888888,
              "#fdca26"
             ],
             [
              1,
              "#f0f921"
             ]
            ],
            "type": "contour"
           }
          ],
          "contourcarpet": [
           {
            "colorbar": {
             "outlinewidth": 0,
             "ticks": ""
            },
            "type": "contourcarpet"
           }
          ],
          "heatmap": [
           {
            "colorbar": {
             "outlinewidth": 0,
             "ticks": ""
            },
            "colorscale": [
             [
              0,
              "#0d0887"
             ],
             [
              0.1111111111111111,
              "#46039f"
             ],
             [
              0.2222222222222222,
              "#7201a8"
             ],
             [
              0.3333333333333333,
              "#9c179e"
             ],
             [
              0.4444444444444444,
              "#bd3786"
             ],
             [
              0.5555555555555556,
              "#d8576b"
             ],
             [
              0.6666666666666666,
              "#ed7953"
             ],
             [
              0.7777777777777778,
              "#fb9f3a"
             ],
             [
              0.8888888888888888,
              "#fdca26"
             ],
             [
              1,
              "#f0f921"
             ]
            ],
            "type": "heatmap"
           }
          ],
          "heatmapgl": [
           {
            "colorbar": {
             "outlinewidth": 0,
             "ticks": ""
            },
            "colorscale": [
             [
              0,
              "#0d0887"
             ],
             [
              0.1111111111111111,
              "#46039f"
             ],
             [
              0.2222222222222222,
              "#7201a8"
             ],
             [
              0.3333333333333333,
              "#9c179e"
             ],
             [
              0.4444444444444444,
              "#bd3786"
             ],
             [
              0.5555555555555556,
              "#d8576b"
             ],
             [
              0.6666666666666666,
              "#ed7953"
             ],
             [
              0.7777777777777778,
              "#fb9f3a"
             ],
             [
              0.8888888888888888,
              "#fdca26"
             ],
             [
              1,
              "#f0f921"
             ]
            ],
            "type": "heatmapgl"
           }
          ],
          "histogram": [
           {
            "marker": {
             "pattern": {
              "fillmode": "overlay",
              "size": 10,
              "solidity": 0.2
             }
            },
            "type": "histogram"
           }
          ],
          "histogram2d": [
           {
            "colorbar": {
             "outlinewidth": 0,
             "ticks": ""
            },
            "colorscale": [
             [
              0,
              "#0d0887"
             ],
             [
              0.1111111111111111,
              "#46039f"
             ],
             [
              0.2222222222222222,
              "#7201a8"
             ],
             [
              0.3333333333333333,
              "#9c179e"
             ],
             [
              0.4444444444444444,
              "#bd3786"
             ],
             [
              0.5555555555555556,
              "#d8576b"
             ],
             [
              0.6666666666666666,
              "#ed7953"
             ],
             [
              0.7777777777777778,
              "#fb9f3a"
             ],
             [
              0.8888888888888888,
              "#fdca26"
             ],
             [
              1,
              "#f0f921"
             ]
            ],
            "type": "histogram2d"
           }
          ],
          "histogram2dcontour": [
           {
            "colorbar": {
             "outlinewidth": 0,
             "ticks": ""
            },
            "colorscale": [
             [
              0,
              "#0d0887"
             ],
             [
              0.1111111111111111,
              "#46039f"
             ],
             [
              0.2222222222222222,
              "#7201a8"
             ],
             [
              0.3333333333333333,
              "#9c179e"
             ],
             [
              0.4444444444444444,
              "#bd3786"
             ],
             [
              0.5555555555555556,
              "#d8576b"
             ],
             [
              0.6666666666666666,
              "#ed7953"
             ],
             [
              0.7777777777777778,
              "#fb9f3a"
             ],
             [
              0.8888888888888888,
              "#fdca26"
             ],
             [
              1,
              "#f0f921"
             ]
            ],
            "type": "histogram2dcontour"
           }
          ],
          "mesh3d": [
           {
            "colorbar": {
             "outlinewidth": 0,
             "ticks": ""
            },
            "type": "mesh3d"
           }
          ],
          "parcoords": [
           {
            "line": {
             "colorbar": {
              "outlinewidth": 0,
              "ticks": ""
             }
            },
            "type": "parcoords"
           }
          ],
          "pie": [
           {
            "automargin": true,
            "type": "pie"
           }
          ],
          "scatter": [
           {
            "fillpattern": {
             "fillmode": "overlay",
             "size": 10,
             "solidity": 0.2
            },
            "type": "scatter"
           }
          ],
          "scatter3d": [
           {
            "line": {
             "colorbar": {
              "outlinewidth": 0,
              "ticks": ""
             }
            },
            "marker": {
             "colorbar": {
              "outlinewidth": 0,
              "ticks": ""
             }
            },
            "type": "scatter3d"
           }
          ],
          "scattercarpet": [
           {
            "marker": {
             "colorbar": {
              "outlinewidth": 0,
              "ticks": ""
             }
            },
            "type": "scattercarpet"
           }
          ],
          "scattergeo": [
           {
            "marker": {
             "colorbar": {
              "outlinewidth": 0,
              "ticks": ""
             }
            },
            "type": "scattergeo"
           }
          ],
          "scattergl": [
           {
            "marker": {
             "colorbar": {
              "outlinewidth": 0,
              "ticks": ""
             }
            },
            "type": "scattergl"
           }
          ],
          "scattermapbox": [
           {
            "marker": {
             "colorbar": {
              "outlinewidth": 0,
              "ticks": ""
             }
            },
            "type": "scattermapbox"
           }
          ],
          "scatterpolar": [
           {
            "marker": {
             "colorbar": {
              "outlinewidth": 0,
              "ticks": ""
             }
            },
            "type": "scatterpolar"
           }
          ],
          "scatterpolargl": [
           {
            "marker": {
             "colorbar": {
              "outlinewidth": 0,
              "ticks": ""
             }
            },
            "type": "scatterpolargl"
           }
          ],
          "scatterternary": [
           {
            "marker": {
             "colorbar": {
              "outlinewidth": 0,
              "ticks": ""
             }
            },
            "type": "scatterternary"
           }
          ],
          "surface": [
           {
            "colorbar": {
             "outlinewidth": 0,
             "ticks": ""
            },
            "colorscale": [
             [
              0,
              "#0d0887"
             ],
             [
              0.1111111111111111,
              "#46039f"
             ],
             [
              0.2222222222222222,
              "#7201a8"
             ],
             [
              0.3333333333333333,
              "#9c179e"
             ],
             [
              0.4444444444444444,
              "#bd3786"
             ],
             [
              0.5555555555555556,
              "#d8576b"
             ],
             [
              0.6666666666666666,
              "#ed7953"
             ],
             [
              0.7777777777777778,
              "#fb9f3a"
             ],
             [
              0.8888888888888888,
              "#fdca26"
             ],
             [
              1,
              "#f0f921"
             ]
            ],
            "type": "surface"
           }
          ],
          "table": [
           {
            "cells": {
             "fill": {
              "color": "#EBF0F8"
             },
             "line": {
              "color": "white"
             }
            },
            "header": {
             "fill": {
              "color": "#C8D4E3"
             },
             "line": {
              "color": "white"
             }
            },
            "type": "table"
           }
          ]
         },
         "layout": {
          "annotationdefaults": {
           "arrowcolor": "#2a3f5f",
           "arrowhead": 0,
           "arrowwidth": 1
          },
          "autotypenumbers": "strict",
          "coloraxis": {
           "colorbar": {
            "outlinewidth": 0,
            "ticks": ""
           }
          },
          "colorscale": {
           "diverging": [
            [
             0,
             "#8e0152"
            ],
            [
             0.1,
             "#c51b7d"
            ],
            [
             0.2,
             "#de77ae"
            ],
            [
             0.3,
             "#f1b6da"
            ],
            [
             0.4,
             "#fde0ef"
            ],
            [
             0.5,
             "#f7f7f7"
            ],
            [
             0.6,
             "#e6f5d0"
            ],
            [
             0.7,
             "#b8e186"
            ],
            [
             0.8,
             "#7fbc41"
            ],
            [
             0.9,
             "#4d9221"
            ],
            [
             1,
             "#276419"
            ]
           ],
           "sequential": [
            [
             0,
             "#0d0887"
            ],
            [
             0.1111111111111111,
             "#46039f"
            ],
            [
             0.2222222222222222,
             "#7201a8"
            ],
            [
             0.3333333333333333,
             "#9c179e"
            ],
            [
             0.4444444444444444,
             "#bd3786"
            ],
            [
             0.5555555555555556,
             "#d8576b"
            ],
            [
             0.6666666666666666,
             "#ed7953"
            ],
            [
             0.7777777777777778,
             "#fb9f3a"
            ],
            [
             0.8888888888888888,
             "#fdca26"
            ],
            [
             1,
             "#f0f921"
            ]
           ],
           "sequentialminus": [
            [
             0,
             "#0d0887"
            ],
            [
             0.1111111111111111,
             "#46039f"
            ],
            [
             0.2222222222222222,
             "#7201a8"
            ],
            [
             0.3333333333333333,
             "#9c179e"
            ],
            [
             0.4444444444444444,
             "#bd3786"
            ],
            [
             0.5555555555555556,
             "#d8576b"
            ],
            [
             0.6666666666666666,
             "#ed7953"
            ],
            [
             0.7777777777777778,
             "#fb9f3a"
            ],
            [
             0.8888888888888888,
             "#fdca26"
            ],
            [
             1,
             "#f0f921"
            ]
           ]
          },
          "colorway": [
           "#636efa",
           "#EF553B",
           "#00cc96",
           "#ab63fa",
           "#FFA15A",
           "#19d3f3",
           "#FF6692",
           "#B6E880",
           "#FF97FF",
           "#FECB52"
          ],
          "font": {
           "color": "#2a3f5f"
          },
          "geo": {
           "bgcolor": "white",
           "lakecolor": "white",
           "landcolor": "#E5ECF6",
           "showlakes": true,
           "showland": true,
           "subunitcolor": "white"
          },
          "hoverlabel": {
           "align": "left"
          },
          "hovermode": "closest",
          "mapbox": {
           "style": "light"
          },
          "paper_bgcolor": "white",
          "plot_bgcolor": "#E5ECF6",
          "polar": {
           "angularaxis": {
            "gridcolor": "white",
            "linecolor": "white",
            "ticks": ""
           },
           "bgcolor": "#E5ECF6",
           "radialaxis": {
            "gridcolor": "white",
            "linecolor": "white",
            "ticks": ""
           }
          },
          "scene": {
           "xaxis": {
            "backgroundcolor": "#E5ECF6",
            "gridcolor": "white",
            "gridwidth": 2,
            "linecolor": "white",
            "showbackground": true,
            "ticks": "",
            "zerolinecolor": "white"
           },
           "yaxis": {
            "backgroundcolor": "#E5ECF6",
            "gridcolor": "white",
            "gridwidth": 2,
            "linecolor": "white",
            "showbackground": true,
            "ticks": "",
            "zerolinecolor": "white"
           },
           "zaxis": {
            "backgroundcolor": "#E5ECF6",
            "gridcolor": "white",
            "gridwidth": 2,
            "linecolor": "white",
            "showbackground": true,
            "ticks": "",
            "zerolinecolor": "white"
           }
          },
          "shapedefaults": {
           "line": {
            "color": "#2a3f5f"
           }
          },
          "ternary": {
           "aaxis": {
            "gridcolor": "white",
            "linecolor": "white",
            "ticks": ""
           },
           "baxis": {
            "gridcolor": "white",
            "linecolor": "white",
            "ticks": ""
           },
           "bgcolor": "#E5ECF6",
           "caxis": {
            "gridcolor": "white",
            "linecolor": "white",
            "ticks": ""
           }
          },
          "title": {
           "x": 0.05
          },
          "xaxis": {
           "automargin": true,
           "gridcolor": "white",
           "linecolor": "white",
           "ticks": "",
           "title": {
            "standoff": 15
           },
           "zerolinecolor": "white",
           "zerolinewidth": 2
          },
          "yaxis": {
           "automargin": true,
           "gridcolor": "white",
           "linecolor": "white",
           "ticks": "",
           "title": {
            "standoff": 15
           },
           "zerolinecolor": "white",
           "zerolinewidth": 2
          }
         }
        },
        "xaxis": {
         "anchor": "y",
         "autorange": true,
         "domain": [
          0,
          1
         ],
         "range": [
          "2021-02-14",
          "2024-11-03"
         ],
         "title": {
          "text": "week"
         },
         "type": "date"
        },
        "yaxis": {
         "anchor": "x",
         "autorange": true,
         "domain": [
          0,
          1
         ],
         "range": [
          3.395555555555555,
          61.284444444444446
         ],
         "title": {
          "text": "real_adj_close"
         },
         "type": "linear"
        }
       }
      },
      "image/png": "[encoded data removed]",
      "text/html": [
       "<div>                            <div id=\"2af530b3-2b3b-4b08-b6d5-47e6fdecb2a7\" class=\"plotly-graph-div\" style=\"height:525px; width:100%;\"></div>            <script type=\"text/javascript\">                require([\"plotly\"], function(Plotly) {                    window.PLOTLYENV=window.PLOTLYENV || {};                                    if (document.getElementById(\"2af530b3-2b3b-4b08-b6d5-47e6fdecb2a7\")) {                    Plotly.newPlot(                        \"2af530b3-2b3b-4b08-b6d5-47e6fdecb2a7\",                        [{\"hovertemplate\":\"week=%{x}\\u003cbr\\u003ereal_adj_close=%{y}\\u003cextra\\u003e\\u003c\\u002fextra\\u003e\",\"legendgroup\":\"\",\"line\":{\"color\":\"#636efa\",\"dash\":\"solid\"},\"marker\":{\"symbol\":\"circle\"},\"mode\":\"lines\",\"name\":\"\",\"orientation\":\"v\",\"showlegend\":false,\"x\":[\"2021-02-14T00:00:00+00:00\",\"2021-02-21T00:00:00+00:00\",\"2021-02-28T00:00:00+00:00\",\"2021-03-07T00:00:00+00:00\",\"2021-03-14T00:00:00+00:00\",\"2021-03-21T00:00:00+00:00\",\"2021-03-28T00:00:00+00:00\",\"2021-04-04T00:00:00+00:00\",\"2021-04-11T00:00:00+00:00\",\"2021-04-18T00:00:00+00:00\",\"2021-04-25T00:00:00+00:00\",\"2021-05-02T00:00:00+00:00\",\"2021-05-09T00:00:00+00:00\",\"2021-05-16T00:00:00+00:00\",\"2021-05-23T00:00:00+00:00\",\"2021-05-30T00:00:00+00:00\",\"2021-06-06T00:00:00+00:00\",\"2021-06-13T00:00:00+00:00\",\"2021-06-20T00:00:00+00:00\",\"2021-06-27T00:00:00+00:00\",\"2021-07-04T00:00:00+00:00\",\"2021-07-11T00:00:00+00:00\",\"2021-07-18T00:00:00+00:00\",\"2021-07-25T00:00:00+00:00\",\"2021-08-01T00:00:00+00:00\",\"2021-08-08T00:00:00+00:00\",\"2021-08-15T00:00:00+00:00\",\"2021-08-22T00:00:00+00:00\",\"2021-08-29T00:00:00+00:00\",\"2021-09-05T00:00:00+00:00\",\"2021-09-12T00:00:00+00:00\",\"2021-09-19T00:00:00+00:00\",\"2021-09-26T00:00:00+00:00\",\"2021-10-03T00:00:00+00:00\",\"2021-10-10T00:00:00+00:00\",\"2021-10-17T00:00:00+00:00\",\"2021-10-24T00:00:00+00:00\",\"2021-10-31T00:00:00+00:00\",\"2021-11-07T00:00:00+00:00\",\"2021-11-14T00:00:00+00:00\",\"2021-11-21T00:00:00+00:00\",\"2021-11-28T00:00:00+00:00\",\"2021-12-05T00:00:00+00:00\",\"2021-12-12T00:00:00+00:00\",\"2021-12-19T00:00:00+00:00\",\"2021-12-26T00:00:00+00:00\",\"2022-01-02T00:00:00+00:00\",\"2022-01-09T00:00:00+00:00\",\"2022-01-16T00:00:00+00:00\",\"2022-01-23T00:00:00+00:00\",\"2022-01-30T00:00:00+00:00\",\"2022-02-06T00:00:00+00:00\",\"2022-02-13T00:00:00+00:00\",\"2022-02-20T00:00:00+00:00\",\"2022-02-27T00:00:00+00:00\",\"2022-03-06T00:00:00+00:00\",\"2022-03-13T00:00:00+00:00\",\"2022-03-20T00:00:00+00:00\",\"2022-03-27T00:00:00+00:00\",\"2022-04-03T00:00:00+00:00\",\"2022-04-10T00:00:00+00:00\",\"2022-04-17T00:00:00+00:00\",\"2022-04-24T00:00:00+00:00\",\"2022-05-01T00:00:00+00:00\",\"2022-05-08T00:00:00+00:00\",\"2022-05-15T00:00:00+00:00\",\"2022-05-22T00:00:00+00:00\",\"2022-05-29T00:00:00+00:00\",\"2022-06-05T00:00:00+00:00\",\"2022-06-12T00:00:00+00:00\",\"2022-06-19T00:00:00+00:00\",\"2022-06-26T00:00:00+00:00\",\"2022-07-03T00:00:00+00:00\",\"2022-07-10T00:00:00+00:00\",\"2022-07-17T00:00:00+00:00\",\"2022-07-24T00:00:00+00:00\",\"2022-07-31T00:00:00+00:00\",\"2022-08-07T00:00:00+00:00\",\"2022-08-14T00:00:00+00:00\",\"2022-08-21T00:00:00+00:00\",\"2022-08-28T00:00:00+00:00\",\"2022-09-04T00:00:00+00:00\",\"2022-09-11T00:00:00+00:00\",\"2022-09-18T00:00:00+00:00\",\"2022-09-25T00:00:00+00:00\",\"2022-10-02T00:00:00+00:00\",\"2022-10-09T00:00:00+00:00\",\"2022-10-16T00:00:00+00:00\",\"2022-10-23T00:00:00+00:00\",\"2022-10-30T00:00:00+00:00\",\"2022-11-06T00:00:00+00:00\",\"2022-11-13T00:00:00+00:00\",\"2022-11-20T00:00:00+00:00\",\"2022-11-27T00:00:00+00:00\",\"2022-12-04T00:00:00+00:00\",\"2022-12-11T00:00:00+00:00\",\"2022-12-18T00:00:00+00:00\",\"2022-12-25T00:00:00+00:00\",\"2023-01-01T00:00:00+00:00\",\"2023-01-08T00:00:00+00:00\",\"2023-01-15T00:00:00+00:00\",\"2023-01-22T00:00:00+00:00\",\"2023-01-29T00:00:00+00:00\",\"2023-02-05T00:00:00+00:00\",\"2023-02-12T00:00:00+00:00\",\"2023-02-19T00:00:00+00:00\",\"2023-02-26T00:00:00+00:00\",\"2023-03-05T00:00:00+00:00\",\"2023-03-12T00:00:00+00:00\",\"2023-03-19T00:00:00+00:00\",\"2023-03-26T00:00:00+00:00\",\"2023-04-02T00:00:00+00:00\",\"2023-04-09T00:00:00+00:00\",\"2023-04-16T00:00:00+00:00\",\"2023-04-23T00:00:00+00:00\",\"2023-04-30T00:00:00+00:00\",\"2023-05-07T00:00:00+00:00\",\"2023-05-14T00:00:00+00:00\",\"2023-05-21T00:00:00+00:00\",\"2023-05-28T00:00:00+00:00\",\"2023-06-04T00:00:00+00:00\",\"2023-06-11T00:00:00+00:00\",\"2023-06-18T00:00:00+00:00\",\"2023-06-25T00:00:00+00:00\",\"2023-07-02T00:00:00+00:00\",\"2023-07-09T00:00:00+00:00\",\"2023-07-16T00:00:00+00:00\",\"2023-07-23T00:00:00+00:00\",\"2023-07-30T00:00:00+00:00\",\"2023-08-06T00:00:00+00:00\",\"2023-08-13T00:00:00+00:00\",\"2023-08-20T00:00:00+00:00\",\"2023-08-27T00:00:00+00:00\",\"2023-09-03T00:00:00+00:00\",\"2023-09-10T00:00:00+00:00\",\"2023-09-17T00:00:00+00:00\",\"2023-09-24T00:00:00+00:00\",\"2023-10-01T00:00:00+00:00\",\"2023-10-08T00:00:00+00:00\",\"2023-10-15T00:00:00+00:00\",\"2023-10-22T00:00:00+00:00\",\"2023-10-29T00:00:00+00:00\",\"2023-11-05T00:00:00+00:00\",\"2023-11-12T00:00:00+00:00\",\"2023-11-19T00:00:00+00:00\",\"2023-11-26T00:00:00+00:00\",\"2023-12-03T00:00:00+00:00\",\"2023-12-10T00:00:00+00:00\",\"2023-12-17T00:00:00+00:00\",\"2023-12-24T00:00:00+00:00\",\"2023-12-31T00:00:00+00:00\",\"2024-01-07T00:00:00+00:00\",\"2024-01-14T00:00:00+00:00\",\"2024-01-21T00:00:00+00:00\",\"2024-01-28T00:00:00+00:00\",\"2024-02-04T00:00:00+00:00\",\"2024-02-11T00:00:00+00:00\",\"2024-02-18T00:00:00+00:00\",\"2024-02-25T00:00:00+00:00\",\"2024-03-03T00:00:00+00:00\",\"2024-03-10T00:00:00+00:00\",\"2024-03-17T00:00:00+00:00\",\"2024-03-24T00:00:00+00:00\",\"2024-03-31T00:00:00+00:00\",\"2024-04-07T00:00:00+00:00\",\"2024-04-14T00:00:00+00:00\",\"2024-04-21T00:00:00+00:00\",\"2024-04-28T00:00:00+00:00\",\"2024-05-05T00:00:00+00:00\",\"2024-05-12T00:00:00+00:00\",\"2024-05-19T00:00:00+00:00\",\"2024-05-26T00:00:00+00:00\",\"2024-06-02T00:00:00+00:00\",\"2024-06-09T00:00:00+00:00\",\"2024-06-16T00:00:00+00:00\",\"2024-06-23T00:00:00+00:00\",\"2024-06-30T00:00:00+00:00\",\"2024-07-07T00:00:00+00:00\",\"2024-07-14T00:00:00+00:00\",\"2024-07-21T00:00:00+00:00\",\"2024-07-28T00:00:00+00:00\",\"2024-08-04T00:00:00+00:00\",\"2024-08-11T00:00:00+00:00\",\"2024-08-18T00:00:00+00:00\",\"2024-08-25T00:00:00+00:00\",\"2024-09-01T00:00:00+00:00\",\"2024-09-08T00:00:00+00:00\",\"2024-09-15T00:00:00+00:00\",\"2024-09-22T00:00:00+00:00\",\"2024-09-29T00:00:00+00:00\",\"2024-10-06T00:00:00+00:00\",\"2024-10-13T00:00:00+00:00\",\"2024-10-20T00:00:00+00:00\",\"2024-10-27T00:00:00+00:00\",\"2024-11-03T00:00:00+00:00\"],\"xaxis\":\"x\",\"y\":[null,23.9,23.95,26.92,24.32,22.58,23.07,24.04,22.47,23.41,23.04,19.75,20.08,20.75,22.95,24.03,24.67,25.37,26.78,24.44,23.29,21.37,21.81,21.71,21.82,24.9,24.01,25.71,26.64,26.28,28.71,28.56,24.33,23.5,24.0,24.43,25.88,26.0,22.83,21.41,21.03,18.98,18.94,19.06,18.93,18.21,16.56,16.01,13.53,12.71,12.94,13.13,11.02,11.47,10.96,11.39,12.82,12.97,13.83,12.7,12.42,11.96,10.4,9.48,8.34,8.08,8.85,8.94,8.26,8.24,10.19,9.27,10.17,9.04,9.84,10.35,11.45,9.91,8.51,7.94,7.4,7.79,7.78,7.4,8.13,8.15,7.53,8.29,8.64,7.93,8.41,7.39,7.28,7.66,7.11,6.9,6.29,6.42,6.4,6.96,7.02,7.55,8.41,7.51,9.2,8.09,8.33,7.35,7.88,8.2,8.45,8.09,8.81,8.18,7.75,7.41,9.5,11.71,13.65,14.52,15.02,16.3,14.03,15.33,15.34,16.4,16.43,17.81,18.2,15.41,14.4,14.53,15.18,15.13,15.33,14.13,16.0,16.61,17.36,16.11,15.07,18.89,19.67,20.49,19.2,20.27,17.77,18.2,17.41,17.17,15.98,16.76,16.78,16.35,17.02,24.38,24.44,22.97,24.93,26.04,23.49,24.18,23.01,22.96,22.67,20.47,22.52,23.33,20.6,21.76,21.01,21.68,23.31,23.57,23.84,25.33,27.23,28.07,28.58,27.18,24.74,30.01,32.08,31.78,31.48,30.33,35.59,37.2,36.84,40.01,43.51,42.97,44.86,41.92,58.39],\"yaxis\":\"y\",\"type\":\"scatter\"}],                        {\"template\":{\"data\":{\"histogram2dcontour\":[{\"type\":\"histogram2dcontour\",\"colorbar\":{\"outlinewidth\":0,\"ticks\":\"\"},\"colorscale\":[[0.0,\"#0d0887\"],[0.1111111111111111,\"#46039f\"],[0.2222222222222222,\"#7201a8\"],[0.3333333333333333,\"#9c179e\"],[0.4444444444444444,\"#bd3786\"],[0.5555555555555556,\"#d8576b\"],[0.6666666666666666,\"#ed7953\"],[0.7777777777777778,\"#fb9f3a\"],[0.8888888888888888,\"#fdca26\"],[1.0,\"#f0f921\"]]}],\"choropleth\":[{\"type\":\"choropleth\",\"colorbar\":{\"outlinewidth\":0,\"ticks\":\"\"}}],\"histogram2d\":[{\"type\":\"histogram2d\",\"colorbar\":{\"outlinewidth\":0,\"ticks\":\"\"},\"colorscale\":[[0.0,\"#0d0887\"],[0.1111111111111111,\"#46039f\"],[0.2222222222222222,\"#7201a8\"],[0.3333333333333333,\"#9c179e\"],[0.4444444444444444,\"#bd3786\"],[0.5555555555555556,\"#d8576b\"],[0.6666666666666666,\"#ed7953\"],[0.7777777777777778,\"#fb9f3a\"],[0.8888888888888888,\"#fdca26\"],[1.0,\"#f0f921\"]]}],\"heatmap\":[{\"type\":\"heatmap\",\"colorbar\":{\"outlinewidth\":0,\"ticks\":\"\"},\"colorscale\":[[0.0,\"#0d0887\"],[0.1111111111111111,\"#46039f\"],[0.2222222222222222,\"#7201a8\"],[0.3333333333333333,\"#9c179e\"],[0.4444444444444444,\"#bd3786\"],[0.5555555555555556,\"#d8576b\"],[0.6666666666666666,\"#ed7953\"],[0.7777777777777778,\"#fb9f3a\"],[0.8888888888888888,\"#fdca26\"],[1.0,\"#f0f921\"]]}],\"heatmapgl\":[{\"type\":\"heatmapgl\",\"colorbar\":{\"outlinewidth\":0,\"ticks\":\"\"},\"colorscale\":[[0.0,\"#0d0887\"],[0.1111111111111111,\"#46039f\"],[0.2222222222222222,\"#7201a8\"],[0.3333333333333333,\"#9c179e\"],[0.4444444444444444,\"#bd3786\"],[0.5555555555555556,\"#d8576b\"],[0.6666666666666666,\"#ed7953\"],[0.7777777777777778,\"#fb9f3a\"],[0.8888888888888888,\"#fdca26\"],[1.0,\"#f0f921\"]]}],\"contourcarpet\":[{\"type\":\"contourcarpet\",\"colorbar\":{\"outlinewidth\":0,\"ticks\":\"\"}}],\"contour\":[{\"type\":\"contour\",\"colorbar\":{\"outlinewidth\":0,\"ticks\":\"\"},\"colorscale\":[[0.0,\"#0d0887\"],[0.1111111111111111,\"#46039f\"],[0.2222222222222222,\"#7201a8\"],[0.3333333333333333,\"#9c179e\"],[0.4444444444444444,\"#bd3786\"],[0.5555555555555556,\"#d8576b\"],[0.6666666666666666,\"#ed7953\"],[0.7777777777777778,\"#fb9f3a\"],[0.8888888888888888,\"#fdca26\"],[1.0,\"#f0f921\"]]}],\"surface\":[{\"type\":\"surface\",\"colorbar\":{\"outlinewidth\":0,\"ticks\":\"\"},\"colorscale\":[[0.0,\"#0d0887\"],[0.1111111111111111,\"#46039f\"],[0.2222222222222222,\"#7201a8\"],[0.3333333333333333,\"#9c179e\"],[0.4444444444444444,\"#bd3786\"],[0.5555555555555556,\"#d8576b\"],[0.6666666666666666,\"#ed7953\"],[0.7777777777777778,\"#fb9f3a\"],[0.8888888888888888,\"#fdca26\"],[1.0,\"#f0f921\"]]}],\"mesh3d\":[{\"type\":\"mesh3d\",\"colorbar\":{\"outlinewidth\":0,\"ticks\":\"\"}}],\"scatter\":[{\"fillpattern\":{\"fillmode\":\"overlay\",\"size\":10,\"solidity\":0.2},\"type\":\"scatter\"}],\"parcoords\":[{\"type\":\"parcoords\",\"line\":{\"colorbar\":{\"outlinewidth\":0,\"ticks\":\"\"}}}],\"scatterpolargl\":[{\"type\":\"scatterpolargl\",\"marker\":{\"colorbar\":{\"outlinewidth\":0,\"ticks\":\"\"}}}],\"bar\":[{\"error_x\":{\"color\":\"#2a3f5f\"},\"error_y\":{\"color\":\"#2a3f5f\"},\"marker\":{\"line\":{\"color\":\"#E5ECF6\",\"width\":0.5},\"pattern\":{\"fillmode\":\"overlay\",\"size\":10,\"solidity\":0.2}},\"type\":\"bar\"}],\"scattergeo\":[{\"type\":\"scattergeo\",\"marker\":{\"colorbar\":{\"outlinewidth\":0,\"ticks\":\"\"}}}],\"scatterpolar\":[{\"type\":\"scatterpolar\",\"marker\":{\"colorbar\":{\"outlinewidth\":0,\"ticks\":\"\"}}}],\"histogram\":[{\"marker\":{\"pattern\":{\"fillmode\":\"overlay\",\"size\":10,\"solidity\":0.2}},\"type\":\"histogram\"}],\"scattergl\":[{\"type\":\"scattergl\",\"marker\":{\"colorbar\":{\"outlinewidth\":0,\"ticks\":\"\"}}}],\"scatter3d\":[{\"type\":\"scatter3d\",\"line\":{\"colorbar\":{\"outlinewidth\":0,\"ticks\":\"\"}},\"marker\":{\"colorbar\":{\"outlinewidth\":0,\"ticks\":\"\"}}}],\"scattermapbox\":[{\"type\":\"scattermapbox\",\"marker\":{\"colorbar\":{\"outlinewidth\":0,\"ticks\":\"\"}}}],\"scatterternary\":[{\"type\":\"scatterternary\",\"marker\":{\"colorbar\":{\"outlinewidth\":0,\"ticks\":\"\"}}}],\"scattercarpet\":[{\"type\":\"scattercarpet\",\"marker\":{\"colorbar\":{\"outlinewidth\":0,\"ticks\":\"\"}}}],\"carpet\":[{\"aaxis\":{\"endlinecolor\":\"#2a3f5f\",\"gridcolor\":\"white\",\"linecolor\":\"white\",\"minorgridcolor\":\"white\",\"startlinecolor\":\"#2a3f5f\"},\"baxis\":{\"endlinecolor\":\"#2a3f5f\",\"gridcolor\":\"white\",\"linecolor\":\"white\",\"minorgridcolor\":\"white\",\"startlinecolor\":\"#2a3f5f\"},\"type\":\"carpet\"}],\"table\":[{\"cells\":{\"fill\":{\"color\":\"#EBF0F8\"},\"line\":{\"color\":\"white\"}},\"header\":{\"fill\":{\"color\":\"#C8D4E3\"},\"line\":{\"color\":\"white\"}},\"type\":\"table\"}],\"barpolar\":[{\"marker\":{\"line\":{\"color\":\"#E5ECF6\",\"width\":0.5},\"pattern\":{\"fillmode\":\"overlay\",\"size\":10,\"solidity\":0.2}},\"type\":\"barpolar\"}],\"pie\":[{\"automargin\":true,\"type\":\"pie\"}]},\"layout\":{\"autotypenumbers\":\"strict\",\"colorway\":[\"#636efa\",\"#EF553B\",\"#00cc96\",\"#ab63fa\",\"#FFA15A\",\"#19d3f3\",\"#FF6692\",\"#B6E880\",\"#FF97FF\",\"#FECB52\"],\"font\":{\"color\":\"#2a3f5f\"},\"hovermode\":\"closest\",\"hoverlabel\":{\"align\":\"left\"},\"paper_bgcolor\":\"white\",\"plot_bgcolor\":\"#E5ECF6\",\"polar\":{\"bgcolor\":\"#E5ECF6\",\"angularaxis\":{\"gridcolor\":\"white\",\"linecolor\":\"white\",\"ticks\":\"\"},\"radialaxis\":{\"gridcolor\":\"white\",\"linecolor\":\"white\",\"ticks\":\"\"}},\"ternary\":{\"bgcolor\":\"#E5ECF6\",\"aaxis\":{\"gridcolor\":\"white\",\"linecolor\":\"white\",\"ticks\":\"\"},\"baxis\":{\"gridcolor\":\"white\",\"linecolor\":\"white\",\"ticks\":\"\"},\"caxis\":{\"gridcolor\":\"white\",\"linecolor\":\"white\",\"ticks\":\"\"}},\"coloraxis\":{\"colorbar\":{\"outlinewidth\":0,\"ticks\":\"\"}},\"colorscale\":{\"sequential\":[[0.0,\"#0d0887\"],[0.1111111111111111,\"#46039f\"],[0.2222222222222222,\"#7201a8\"],[0.3333333333333333,\"#9c179e\"],[0.4444444444444444,\"#bd3786\"],[0.5555555555555556,\"#d8576b\"],[0.6666666666666666,\"#ed7953\"],[0.7777777777777778,\"#fb9f3a\"],[0.8888888888888888,\"#fdca26\"],[1.0,\"#f0f921\"]],\"sequentialminus\":[[0.0,\"#0d0887\"],[0.1111111111111111,\"#46039f\"],[0.2222222222222222,\"#7201a8\"],[0.3333333333333333,\"#9c179e\"],[0.4444444444444444,\"#bd3786\"],[0.5555555555555556,\"#d8576b\"],[0.6666666666666666,\"#ed7953\"],[0.7777777777777778,\"#fb9f3a\"],[0.8888888888888888,\"#fdca26\"],[1.0,\"#f0f921\"]],\"diverging\":[[0,\"#8e0152\"],[0.1,\"#c51b7d\"],[0.2,\"#de77ae\"],[0.3,\"#f1b6da\"],[0.4,\"#fde0ef\"],[0.5,\"#f7f7f7\"],[0.6,\"#e6f5d0\"],[0.7,\"#b8e186\"],[0.8,\"#7fbc41\"],[0.9,\"#4d9221\"],[1,\"#276419\"]]},\"xaxis\":{\"gridcolor\":\"white\",\"linecolor\":\"white\",\"ticks\":\"\",\"title\":{\"standoff\":15},\"zerolinecolor\":\"white\",\"automargin\":true,\"zerolinewidth\":2},\"yaxis\":{\"gridcolor\":\"white\",\"linecolor\":\"white\",\"ticks\":\"\",\"title\":{\"standoff\":15},\"zerolinecolor\":\"white\",\"automargin\":true,\"zerolinewidth\":2},\"scene\":{\"xaxis\":{\"backgroundcolor\":\"#E5ECF6\",\"gridcolor\":\"white\",\"linecolor\":\"white\",\"showbackground\":true,\"ticks\":\"\",\"zerolinecolor\":\"white\",\"gridwidth\":2},\"yaxis\":{\"backgroundcolor\":\"#E5ECF6\",\"gridcolor\":\"white\",\"linecolor\":\"white\",\"showbackground\":true,\"ticks\":\"\",\"zerolinecolor\":\"white\",\"gridwidth\":2},\"zaxis\":{\"backgroundcolor\":\"#E5ECF6\",\"gridcolor\":\"white\",\"linecolor\":\"white\",\"showbackground\":true,\"ticks\":\"\",\"zerolinecolor\":\"white\",\"gridwidth\":2}},\"shapedefaults\":{\"line\":{\"color\":\"#2a3f5f\"}},\"annotationdefaults\":{\"arrowcolor\":\"#2a3f5f\",\"arrowhead\":0,\"arrowwidth\":1},\"geo\":{\"bgcolor\":\"white\",\"landcolor\":\"#E5ECF6\",\"subunitcolor\":\"white\",\"showland\":true,\"showlakes\":true,\"lakecolor\":\"white\"},\"title\":{\"x\":0.05},\"mapbox\":{\"style\":\"light\"}}},\"xaxis\":{\"anchor\":\"y\",\"domain\":[0.0,1.0],\"title\":{\"text\":\"week\"}},\"yaxis\":{\"anchor\":\"x\",\"domain\":[0.0,1.0],\"title\":{\"text\":\"real_adj_close\"}},\"legend\":{\"tracegroupgap\":0},\"margin\":{\"t\":60},\"hovermode\":\"x\"},                        {\"responsive\": true}                    ).then(function(){\n",
       "                            \n",
       "var gd = document.getElementById('2af530b3-2b3b-4b08-b6d5-47e6fdecb2a7');\n",
       "var x = new MutationObserver(function (mutations, observer) {{\n",
       "        var display = window.getComputedStyle(gd).display;\n",
       "        if (!display || display === 'none') {{\n",
       "            console.log([gd, 'removed!']);\n",
       "            Plotly.purge(gd);\n",
       "            observer.disconnect();\n",
       "        }}\n",
       "}});\n",
       "\n",
       "// Listen for the removal of the full notebook cells\n",
       "var notebookContainer = gd.closest('#notebook-container');\n",
       "if (notebookContainer) {{\n",
       "    x.observe(notebookContainer, {childList: true});\n",
       "}}\n",
       "\n",
       "// Listen for the clearing of the current output cell\n",
       "var outputEl = gd.closest('.output');\n",
       "if (outputEl) {{\n",
       "    x.observe(outputEl, {childList: true});\n",
       "}}\n",
       "\n",
       "                        })                };                });            </script>        </div>"
      ]
     },
     "metadata": {},
     "output_type": "display_data"
    }
   ],
   "source": [
    "fig = px.line(data_frame=df.groupby(\"week\")[\"real_adj_close\"].last().reset_index(), x=\"week\", y=\"real_adj_close\")\n",
    "fig.update_layout(hovermode=\"x\")\n",
    "fig.show()"
   ]
  },
  {
   "cell_type": "code",
   "execution_count": 65,
   "id": "88db8dd7-eaec-4fab-bfcd-eb22e69c70d1",
   "metadata": {},
   "outputs": [
    {
     "data": {
      "text/html": [
       "<div>\n",
       "<style scoped>\n",
       "    .dataframe tbody tr th:only-of-type {\n",
       "        vertical-align: middle;\n",
       "    }\n",
       "\n",
       "    .dataframe tbody tr th {\n",
       "        vertical-align: top;\n",
       "    }\n",
       "\n",
       "    .dataframe thead th {\n",
       "        text-align: right;\n",
       "    }\n",
       "</style>\n",
       "<table border=\"1\" class=\"dataframe\">\n",
       "  <thead>\n",
       "    <tr style=\"text-align: right;\">\n",
       "      <th></th>\n",
       "      <th>date</th>\n",
       "      <th>week</th>\n",
       "      <th>real_adj_close</th>\n",
       "    </tr>\n",
       "  </thead>\n",
       "  <tbody>\n",
       "    <tr>\n",
       "      <th>172</th>\n",
       "      <td>2021-10-25 00:00:00+00:00</td>\n",
       "      <td>2021-10-24 00:00:00+00:00</td>\n",
       "      <td>25.41</td>\n",
       "    </tr>\n",
       "    <tr>\n",
       "      <th>173</th>\n",
       "      <td>2021-10-26 00:00:00+00:00</td>\n",
       "      <td>2021-10-24 00:00:00+00:00</td>\n",
       "      <td>25.52</td>\n",
       "    </tr>\n",
       "    <tr>\n",
       "      <th>174</th>\n",
       "      <td>2021-10-27 00:00:00+00:00</td>\n",
       "      <td>2021-10-24 00:00:00+00:00</td>\n",
       "      <td>25.06</td>\n",
       "    </tr>\n",
       "    <tr>\n",
       "      <th>175</th>\n",
       "      <td>2021-10-28 00:00:00+00:00</td>\n",
       "      <td>2021-10-24 00:00:00+00:00</td>\n",
       "      <td>25.64</td>\n",
       "    </tr>\n",
       "    <tr>\n",
       "      <th>176</th>\n",
       "      <td>2021-10-29 00:00:00+00:00</td>\n",
       "      <td>2021-10-24 00:00:00+00:00</td>\n",
       "      <td>25.88</td>\n",
       "    </tr>\n",
       "    <tr>\n",
       "      <th>177</th>\n",
       "      <td>2021-11-01 00:00:00+00:00</td>\n",
       "      <td>2021-10-31 00:00:00+00:00</td>\n",
       "      <td>26.56</td>\n",
       "    </tr>\n",
       "    <tr>\n",
       "      <th>178</th>\n",
       "      <td>2021-11-02 00:00:00+00:00</td>\n",
       "      <td>2021-10-31 00:00:00+00:00</td>\n",
       "      <td>25.92</td>\n",
       "    </tr>\n",
       "    <tr>\n",
       "      <th>179</th>\n",
       "      <td>2021-11-03 00:00:00+00:00</td>\n",
       "      <td>2021-10-31 00:00:00+00:00</td>\n",
       "      <td>26.12</td>\n",
       "    </tr>\n",
       "    <tr>\n",
       "      <th>180</th>\n",
       "      <td>2021-11-04 00:00:00+00:00</td>\n",
       "      <td>2021-10-31 00:00:00+00:00</td>\n",
       "      <td>26.47</td>\n",
       "    </tr>\n",
       "    <tr>\n",
       "      <th>181</th>\n",
       "      <td>2021-11-05 00:00:00+00:00</td>\n",
       "      <td>2021-10-31 00:00:00+00:00</td>\n",
       "      <td>26.00</td>\n",
       "    </tr>\n",
       "  </tbody>\n",
       "</table>\n",
       "</div>"
      ],
      "text/plain": [
       "                         date                      week  real_adj_close\n",
       "172 2021-10-25 00:00:00+00:00 2021-10-24 00:00:00+00:00           25.41\n",
       "173 2021-10-26 00:00:00+00:00 2021-10-24 00:00:00+00:00           25.52\n",
       "174 2021-10-27 00:00:00+00:00 2021-10-24 00:00:00+00:00           25.06\n",
       "175 2021-10-28 00:00:00+00:00 2021-10-24 00:00:00+00:00           25.64\n",
       "176 2021-10-29 00:00:00+00:00 2021-10-24 00:00:00+00:00           25.88\n",
       "177 2021-11-01 00:00:00+00:00 2021-10-31 00:00:00+00:00           26.56\n",
       "178 2021-11-02 00:00:00+00:00 2021-10-31 00:00:00+00:00           25.92\n",
       "179 2021-11-03 00:00:00+00:00 2021-10-31 00:00:00+00:00           26.12\n",
       "180 2021-11-04 00:00:00+00:00 2021-10-31 00:00:00+00:00           26.47\n",
       "181 2021-11-05 00:00:00+00:00 2021-10-31 00:00:00+00:00           26.00"
      ]
     },
     "execution_count": 65,
     "metadata": {},
     "output_type": "execute_result"
    }
   ],
   "source": [
    "df[df[\"date\"].between(\"2021-10-25\", \"2021-11-05\")][[\"date\", \"week\", \"real_adj_close\"]]"
   ]
  },
  {
   "cell_type": "markdown",
   "id": "6db960a3-0b2a-43a0-9a2a-684f7c546c7c",
   "metadata": {},
   "source": [
    "# strategies"
   ]
  },
  {
   "cell_type": "markdown",
   "id": "fe8677cd-c4be-4c26-9219-8ee2fb8182b3",
   "metadata": {},
   "source": [
    "A strategy is a set of buy/sell timestamps. "
   ]
  },
  {
   "cell_type": "code",
   "execution_count": 79,
   "id": "edaa9179-c7dc-40dd-bc0a-00757f2c9eb3",
   "metadata": {},
   "outputs": [],
   "source": [
    "strategies = {}"
   ]
  },
  {
   "cell_type": "code",
   "execution_count": 93,
   "id": "7f9e7ce4-7cba-4b2d-ab02-bb172d7775b4",
   "metadata": {},
   "outputs": [],
   "source": [
    "df[\"weekly_rank\"] = df.groupby(\"week\")[\"real_adj_close\"].rank()\n",
    "df[\"monthly_rank\"] = df.groupby(pd.Grouper(key=\"date\", freq=\"MS\"))[\"real_adj_close\"].rank()\n",
    "df[\"monthly_rank_desc\"] = df.groupby(pd.Grouper(key=\"date\", freq=\"MS\"))[\"real_adj_close\"].rank(ascending=False)\n",
    "df[\"random_day_in_month\"] = df.groupby(pd.Grouper(key=\"date\", freq=\"MS\"))[\"date\"].apply(np.random.choice)"
   ]
  },
  {
   "cell_type": "code",
   "execution_count": 94,
   "id": "a4b33161-acf3-4b5b-bf28-dc7b795a117c",
   "metadata": {},
   "outputs": [
    {
     "data": {
      "text/html": [
       "<div>\n",
       "<style scoped>\n",
       "    .dataframe tbody tr th:only-of-type {\n",
       "        vertical-align: middle;\n",
       "    }\n",
       "\n",
       "    .dataframe tbody tr th {\n",
       "        vertical-align: top;\n",
       "    }\n",
       "\n",
       "    .dataframe thead th {\n",
       "        text-align: right;\n",
       "    }\n",
       "</style>\n",
       "<table border=\"1\" class=\"dataframe\">\n",
       "  <thead>\n",
       "    <tr style=\"text-align: right;\">\n",
       "      <th></th>\n",
       "      <th>symbol</th>\n",
       "      <th>date</th>\n",
       "      <th>real_adj_close</th>\n",
       "      <th>monthly_rank</th>\n",
       "      <th>monthly_rank_desc</th>\n",
       "      <th>random_day_in_month</th>\n",
       "    </tr>\n",
       "  </thead>\n",
       "  <tbody>\n",
       "    <tr>\n",
       "      <th>0</th>\n",
       "      <td>PLTR</td>\n",
       "      <td>2021-02-19 00:00:00+00:00</td>\n",
       "      <td>NaN</td>\n",
       "      <td>NaN</td>\n",
       "      <td>NaN</td>\n",
       "      <td>NaT</td>\n",
       "    </tr>\n",
       "    <tr>\n",
       "      <th>1</th>\n",
       "      <td>PLTR</td>\n",
       "      <td>2021-02-22 00:00:00+00:00</td>\n",
       "      <td>28.00</td>\n",
       "      <td>5.0</td>\n",
       "      <td>1.0</td>\n",
       "      <td>NaT</td>\n",
       "    </tr>\n",
       "    <tr>\n",
       "      <th>2</th>\n",
       "      <td>PLTR</td>\n",
       "      <td>2021-02-23 00:00:00+00:00</td>\n",
       "      <td>26.75</td>\n",
       "      <td>4.0</td>\n",
       "      <td>2.0</td>\n",
       "      <td>NaT</td>\n",
       "    </tr>\n",
       "    <tr>\n",
       "      <th>3</th>\n",
       "      <td>PLTR</td>\n",
       "      <td>2021-02-24 00:00:00+00:00</td>\n",
       "      <td>26.39</td>\n",
       "      <td>3.0</td>\n",
       "      <td>3.0</td>\n",
       "      <td>NaT</td>\n",
       "    </tr>\n",
       "    <tr>\n",
       "      <th>4</th>\n",
       "      <td>PLTR</td>\n",
       "      <td>2021-02-25 00:00:00+00:00</td>\n",
       "      <td>23.96</td>\n",
       "      <td>2.0</td>\n",
       "      <td>4.0</td>\n",
       "      <td>NaT</td>\n",
       "    </tr>\n",
       "    <tr>\n",
       "      <th>...</th>\n",
       "      <td>...</td>\n",
       "      <td>...</td>\n",
       "      <td>...</td>\n",
       "      <td>...</td>\n",
       "      <td>...</td>\n",
       "      <td>...</td>\n",
       "    </tr>\n",
       "    <tr>\n",
       "      <th>933</th>\n",
       "      <td>PLTR</td>\n",
       "      <td>2024-11-04 00:00:00+00:00</td>\n",
       "      <td>41.41</td>\n",
       "      <td>1.0</td>\n",
       "      <td>6.0</td>\n",
       "      <td>NaT</td>\n",
       "    </tr>\n",
       "    <tr>\n",
       "      <th>934</th>\n",
       "      <td>PLTR</td>\n",
       "      <td>2024-11-05 00:00:00+00:00</td>\n",
       "      <td>51.13</td>\n",
       "      <td>3.0</td>\n",
       "      <td>4.0</td>\n",
       "      <td>NaT</td>\n",
       "    </tr>\n",
       "    <tr>\n",
       "      <th>935</th>\n",
       "      <td>PLTR</td>\n",
       "      <td>2024-11-06 00:00:00+00:00</td>\n",
       "      <td>55.53</td>\n",
       "      <td>4.0</td>\n",
       "      <td>3.0</td>\n",
       "      <td>NaT</td>\n",
       "    </tr>\n",
       "    <tr>\n",
       "      <th>936</th>\n",
       "      <td>PLTR</td>\n",
       "      <td>2024-11-07 00:00:00+00:00</td>\n",
       "      <td>55.88</td>\n",
       "      <td>5.0</td>\n",
       "      <td>2.0</td>\n",
       "      <td>NaT</td>\n",
       "    </tr>\n",
       "    <tr>\n",
       "      <th>937</th>\n",
       "      <td>PLTR</td>\n",
       "      <td>2024-11-08 00:00:00+00:00</td>\n",
       "      <td>58.39</td>\n",
       "      <td>6.0</td>\n",
       "      <td>1.0</td>\n",
       "      <td>NaT</td>\n",
       "    </tr>\n",
       "  </tbody>\n",
       "</table>\n",
       "<p>938 rows × 6 columns</p>\n",
       "</div>"
      ],
      "text/plain": [
       "    symbol                      date  real_adj_close  monthly_rank  \\\n",
       "0     PLTR 2021-02-19 00:00:00+00:00             NaN           NaN   \n",
       "1     PLTR 2021-02-22 00:00:00+00:00           28.00           5.0   \n",
       "2     PLTR 2021-02-23 00:00:00+00:00           26.75           4.0   \n",
       "3     PLTR 2021-02-24 00:00:00+00:00           26.39           3.0   \n",
       "4     PLTR 2021-02-25 00:00:00+00:00           23.96           2.0   \n",
       "..     ...                       ...             ...           ...   \n",
       "933   PLTR 2024-11-04 00:00:00+00:00           41.41           1.0   \n",
       "934   PLTR 2024-11-05 00:00:00+00:00           51.13           3.0   \n",
       "935   PLTR 2024-11-06 00:00:00+00:00           55.53           4.0   \n",
       "936   PLTR 2024-11-07 00:00:00+00:00           55.88           5.0   \n",
       "937   PLTR 2024-11-08 00:00:00+00:00           58.39           6.0   \n",
       "\n",
       "     monthly_rank_desc random_day_in_month  \n",
       "0                  NaN                 NaT  \n",
       "1                  1.0                 NaT  \n",
       "2                  2.0                 NaT  \n",
       "3                  3.0                 NaT  \n",
       "4                  4.0                 NaT  \n",
       "..                 ...                 ...  \n",
       "933                6.0                 NaT  \n",
       "934                4.0                 NaT  \n",
       "935                3.0                 NaT  \n",
       "936                2.0                 NaT  \n",
       "937                1.0                 NaT  \n",
       "\n",
       "[938 rows x 6 columns]"
      ]
     },
     "execution_count": 94,
     "metadata": {},
     "output_type": "execute_result"
    }
   ],
   "source": [
    "df[[\"symbol\", \"date\", \"real_adj_close\", \"monthly_rank\", \"monthly_rank_desc\", \"random_day_in_month\"]]"
   ]
  },
  {
   "cell_type": "markdown",
   "id": "945e37e0-3e14-4845-b76d-872bb647c469",
   "metadata": {},
   "source": [
    "## strategy 1: buy on the lowest day of every week"
   ]
  },
  {
   "cell_type": "code",
   "execution_count": 127,
   "id": "1f1e59ef-e921-4324-8a7c-7438e3b7f0c6",
   "metadata": {},
   "outputs": [],
   "source": [
    "strategies[\"oracle\"] = {\"buy\": df.loc[df[\"monthly_rank\"]==1, \"date\"].to_list()}\n",
    "strategies[\"oracle\"][\"sell\"] = []"
   ]
  },
  {
   "cell_type": "markdown",
   "id": "8197789e-c0c3-4d8f-ae8b-1270ffd0f61c",
   "metadata": {},
   "source": [
    "## strategy 2: buy on the highest day of every week"
   ]
  },
  {
   "cell_type": "code",
   "execution_count": 128,
   "id": "7d4e8077-78c8-45df-b1ba-5f743bff8ab2",
   "metadata": {},
   "outputs": [],
   "source": [
    "strategies[\"bad_luck\"] = {\"buy\": df.loc[df[\"monthly_rank_desc\"]==1, \"date\"].to_list()}\n",
    "strategies[\"bad_luck\"][\"sell\"] = []"
   ]
  },
  {
   "cell_type": "markdown",
   "id": "84a6b3c0-004d-4091-8e2f-93a88259f7cf",
   "metadata": {},
   "source": [
    "## strategy 3: random day in month"
   ]
  },
  {
   "cell_type": "code",
   "execution_count": 129,
   "id": "88837caa-3995-42f4-9d8f-55ba2d91201c",
   "metadata": {},
   "outputs": [],
   "source": [
    "strategies[\"let_it_be\"] =  {\"buy\": df.groupby(pd.Grouper(key=\"date\", freq=\"MS\")).agg(random_date=(\"date\", np.random.choice))[\"random_date\"].to_list()}\n",
    "strategies[\"let_it_be\"][\"sell\"] = []"
   ]
  },
  {
   "cell_type": "markdown",
   "id": "8ae4cd22-6c56-42cd-a4bf-ea4df2e93e01",
   "metadata": {},
   "source": [
    "## plot :)"
   ]
  },
  {
   "cell_type": "code",
   "execution_count": 130,
   "id": "0c041663-8959-4c67-b7a3-bce23ccd0cf0",
   "metadata": {},
   "outputs": [
    {
     "data": {
      "application/vnd.plotly.v1+json": {
       "config": {
        "plotlyServerURL": "https://plot.ly"
       },
       "data": [
        {
         "hovertemplate": "date=%{x}<br>real_adj_close=%{y}<extra></extra>",
         "legendgroup": "",
         "line": {
          "color": "#636efa",
          "dash": "solid"
         },
         "marker": {
          "symbol": "circle"
         },
         "mode": "lines",
         "name": "",
         "orientation": "v",
         "showlegend": false,
         "type": "scatter",
         "x": [
          "2021-02-19T00:00:00+00:00",
          "2021-02-22T00:00:00+00:00",
          "2021-02-23T00:00:00+00:00",
          "2021-02-24T00:00:00+00:00",
          "2021-02-25T00:00:00+00:00",
          "2021-02-26T00:00:00+00:00",
          "2021-03-01T00:00:00+00:00",
          "2021-03-02T00:00:00+00:00",
          "2021-03-03T00:00:00+00:00",
          "2021-03-04T00:00:00+00:00",
          "2021-03-05T00:00:00+00:00",
          "2021-03-08T00:00:00+00:00",
          "2021-03-09T00:00:00+00:00",
          "2021-03-10T00:00:00+00:00",
          "2021-03-11T00:00:00+00:00",
          "2021-03-12T00:00:00+00:00",
          "2021-03-15T00:00:00+00:00",
          "2021-03-16T00:00:00+00:00",
          "2021-03-17T00:00:00+00:00",
          "2021-03-18T00:00:00+00:00",
          "2021-03-19T00:00:00+00:00",
          "2021-03-22T00:00:00+00:00",
          "2021-03-23T00:00:00+00:00",
          "2021-03-24T00:00:00+00:00",
          "2021-03-25T00:00:00+00:00",
          "2021-03-26T00:00:00+00:00",
          "2021-03-29T00:00:00+00:00",
          "2021-03-30T00:00:00+00:00",
          "2021-03-31T00:00:00+00:00",
          "2021-04-01T00:00:00+00:00",
          "2021-04-05T00:00:00+00:00",
          "2021-04-06T00:00:00+00:00",
          "2021-04-07T00:00:00+00:00",
          "2021-04-08T00:00:00+00:00",
          "2021-04-09T00:00:00+00:00",
          "2021-04-12T00:00:00+00:00",
          "2021-04-13T00:00:00+00:00",
          "2021-04-14T00:00:00+00:00",
          "2021-04-15T00:00:00+00:00",
          "2021-04-16T00:00:00+00:00",
          "2021-04-19T00:00:00+00:00",
          "2021-04-20T00:00:00+00:00",
          "2021-04-21T00:00:00+00:00",
          "2021-04-22T00:00:00+00:00",
          "2021-04-23T00:00:00+00:00",
          "2021-04-26T00:00:00+00:00",
          "2021-04-27T00:00:00+00:00",
          "2021-04-28T00:00:00+00:00",
          "2021-04-29T00:00:00+00:00",
          "2021-04-30T00:00:00+00:00",
          "2021-05-03T00:00:00+00:00",
          "2021-05-04T00:00:00+00:00",
          "2021-05-05T00:00:00+00:00",
          "2021-05-06T00:00:00+00:00",
          "2021-05-07T00:00:00+00:00",
          "2021-05-10T00:00:00+00:00",
          "2021-05-11T00:00:00+00:00",
          "2021-05-12T00:00:00+00:00",
          "2021-05-13T00:00:00+00:00",
          "2021-05-14T00:00:00+00:00",
          "2021-05-17T00:00:00+00:00",
          "2021-05-18T00:00:00+00:00",
          "2021-05-19T00:00:00+00:00",
          "2021-05-20T00:00:00+00:00",
          "2021-05-21T00:00:00+00:00",
          "2021-05-24T00:00:00+00:00",
          "2021-05-25T00:00:00+00:00",
          "2021-05-26T00:00:00+00:00",
          "2021-05-27T00:00:00+00:00",
          "2021-05-28T00:00:00+00:00",
          "2021-06-01T00:00:00+00:00",
          "2021-06-02T00:00:00+00:00",
          "2021-06-03T00:00:00+00:00",
          "2021-06-04T00:00:00+00:00",
          "2021-06-07T00:00:00+00:00",
          "2021-06-08T00:00:00+00:00",
          "2021-06-09T00:00:00+00:00",
          "2021-06-10T00:00:00+00:00",
          "2021-06-11T00:00:00+00:00",
          "2021-06-14T00:00:00+00:00",
          "2021-06-15T00:00:00+00:00",
          "2021-06-16T00:00:00+00:00",
          "2021-06-17T00:00:00+00:00",
          "2021-06-18T00:00:00+00:00",
          "2021-06-21T00:00:00+00:00",
          "2021-06-22T00:00:00+00:00",
          "2021-06-23T00:00:00+00:00",
          "2021-06-24T00:00:00+00:00",
          "2021-06-25T00:00:00+00:00",
          "2021-06-28T00:00:00+00:00",
          "2021-06-29T00:00:00+00:00",
          "2021-06-30T00:00:00+00:00",
          "2021-07-01T00:00:00+00:00",
          "2021-07-02T00:00:00+00:00",
          "2021-07-06T00:00:00+00:00",
          "2021-07-07T00:00:00+00:00",
          "2021-07-08T00:00:00+00:00",
          "2021-07-09T00:00:00+00:00",
          "2021-07-12T00:00:00+00:00",
          "2021-07-13T00:00:00+00:00",
          "2021-07-14T00:00:00+00:00",
          "2021-07-15T00:00:00+00:00",
          "2021-07-16T00:00:00+00:00",
          "2021-07-19T00:00:00+00:00",
          "2021-07-20T00:00:00+00:00",
          "2021-07-21T00:00:00+00:00",
          "2021-07-22T00:00:00+00:00",
          "2021-07-23T00:00:00+00:00",
          "2021-07-26T00:00:00+00:00",
          "2021-07-27T00:00:00+00:00",
          "2021-07-28T00:00:00+00:00",
          "2021-07-29T00:00:00+00:00",
          "2021-07-30T00:00:00+00:00",
          "2021-08-02T00:00:00+00:00",
          "2021-08-03T00:00:00+00:00",
          "2021-08-04T00:00:00+00:00",
          "2021-08-05T00:00:00+00:00",
          "2021-08-06T00:00:00+00:00",
          "2021-08-09T00:00:00+00:00",
          "2021-08-10T00:00:00+00:00",
          "2021-08-11T00:00:00+00:00",
          "2021-08-12T00:00:00+00:00",
          "2021-08-13T00:00:00+00:00",
          "2021-08-16T00:00:00+00:00",
          "2021-08-17T00:00:00+00:00",
          "2021-08-18T00:00:00+00:00",
          "2021-08-19T00:00:00+00:00",
          "2021-08-20T00:00:00+00:00",
          "2021-08-23T00:00:00+00:00",
          "2021-08-24T00:00:00+00:00",
          "2021-08-25T00:00:00+00:00",
          "2021-08-26T00:00:00+00:00",
          "2021-08-27T00:00:00+00:00",
          "2021-08-30T00:00:00+00:00",
          "2021-08-31T00:00:00+00:00",
          "2021-09-01T00:00:00+00:00",
          "2021-09-02T00:00:00+00:00",
          "2021-09-03T00:00:00+00:00",
          "2021-09-07T00:00:00+00:00",
          "2021-09-08T00:00:00+00:00",
          "2021-09-09T00:00:00+00:00",
          "2021-09-10T00:00:00+00:00",
          "2021-09-13T00:00:00+00:00",
          "2021-09-14T00:00:00+00:00",
          "2021-09-15T00:00:00+00:00",
          "2021-09-16T00:00:00+00:00",
          "2021-09-17T00:00:00+00:00",
          "2021-09-20T00:00:00+00:00",
          "2021-09-21T00:00:00+00:00",
          "2021-09-22T00:00:00+00:00",
          "2021-09-23T00:00:00+00:00",
          "2021-09-24T00:00:00+00:00",
          "2021-09-27T00:00:00+00:00",
          "2021-09-28T00:00:00+00:00",
          "2021-09-29T00:00:00+00:00",
          "2021-09-30T00:00:00+00:00",
          "2021-10-01T00:00:00+00:00",
          "2021-10-04T00:00:00+00:00",
          "2021-10-05T00:00:00+00:00",
          "2021-10-06T00:00:00+00:00",
          "2021-10-07T00:00:00+00:00",
          "2021-10-08T00:00:00+00:00",
          "2021-10-11T00:00:00+00:00",
          "2021-10-12T00:00:00+00:00",
          "2021-10-13T00:00:00+00:00",
          "2021-10-14T00:00:00+00:00",
          "2021-10-15T00:00:00+00:00",
          "2021-10-18T00:00:00+00:00",
          "2021-10-19T00:00:00+00:00",
          "2021-10-20T00:00:00+00:00",
          "2021-10-21T00:00:00+00:00",
          "2021-10-22T00:00:00+00:00",
          "2021-10-25T00:00:00+00:00",
          "2021-10-26T00:00:00+00:00",
          "2021-10-27T00:00:00+00:00",
          "2021-10-28T00:00:00+00:00",
          "2021-10-29T00:00:00+00:00",
          "2021-11-01T00:00:00+00:00",
          "2021-11-02T00:00:00+00:00",
          "2021-11-03T00:00:00+00:00",
          "2021-11-04T00:00:00+00:00",
          "2021-11-05T00:00:00+00:00",
          "2021-11-08T00:00:00+00:00",
          "2021-11-09T00:00:00+00:00",
          "2021-11-10T00:00:00+00:00",
          "2021-11-11T00:00:00+00:00",
          "2021-11-12T00:00:00+00:00",
          "2021-11-15T00:00:00+00:00",
          "2021-11-16T00:00:00+00:00",
          "2021-11-17T00:00:00+00:00",
          "2021-11-18T00:00:00+00:00",
          "2021-11-19T00:00:00+00:00",
          "2021-11-22T00:00:00+00:00",
          "2021-11-23T00:00:00+00:00",
          "2021-11-24T00:00:00+00:00",
          "2021-11-26T00:00:00+00:00",
          "2021-11-29T00:00:00+00:00",
          "2021-11-30T00:00:00+00:00",
          "2021-12-01T00:00:00+00:00",
          "2021-12-02T00:00:00+00:00",
          "2021-12-03T00:00:00+00:00",
          "2021-12-06T00:00:00+00:00",
          "2021-12-07T00:00:00+00:00",
          "2021-12-08T00:00:00+00:00",
          "2021-12-09T00:00:00+00:00",
          "2021-12-10T00:00:00+00:00",
          "2021-12-13T00:00:00+00:00",
          "2021-12-14T00:00:00+00:00",
          "2021-12-15T00:00:00+00:00",
          "2021-12-16T00:00:00+00:00",
          "2021-12-17T00:00:00+00:00",
          "2021-12-20T00:00:00+00:00",
          "2021-12-21T00:00:00+00:00",
          "2021-12-22T00:00:00+00:00",
          "2021-12-23T00:00:00+00:00",
          "2021-12-27T00:00:00+00:00",
          "2021-12-28T00:00:00+00:00",
          "2021-12-29T00:00:00+00:00",
          "2021-12-30T00:00:00+00:00",
          "2021-12-31T00:00:00+00:00",
          "2022-01-03T00:00:00+00:00",
          "2022-01-04T00:00:00+00:00",
          "2022-01-05T00:00:00+00:00",
          "2022-01-06T00:00:00+00:00",
          "2022-01-07T00:00:00+00:00",
          "2022-01-10T00:00:00+00:00",
          "2022-01-11T00:00:00+00:00",
          "2022-01-12T00:00:00+00:00",
          "2022-01-13T00:00:00+00:00",
          "2022-01-14T00:00:00+00:00",
          "2022-01-18T00:00:00+00:00",
          "2022-01-19T00:00:00+00:00",
          "2022-01-20T00:00:00+00:00",
          "2022-01-21T00:00:00+00:00",
          "2022-01-24T00:00:00+00:00",
          "2022-01-25T00:00:00+00:00",
          "2022-01-26T00:00:00+00:00",
          "2022-01-27T00:00:00+00:00",
          "2022-01-28T00:00:00+00:00",
          "2022-01-31T00:00:00+00:00",
          "2022-02-01T00:00:00+00:00",
          "2022-02-02T00:00:00+00:00",
          "2022-02-03T00:00:00+00:00",
          "2022-02-04T00:00:00+00:00",
          "2022-02-07T00:00:00+00:00",
          "2022-02-08T00:00:00+00:00",
          "2022-02-09T00:00:00+00:00",
          "2022-02-10T00:00:00+00:00",
          "2022-02-11T00:00:00+00:00",
          "2022-02-14T00:00:00+00:00",
          "2022-02-15T00:00:00+00:00",
          "2022-02-16T00:00:00+00:00",
          "2022-02-17T00:00:00+00:00",
          "2022-02-18T00:00:00+00:00",
          "2022-02-22T00:00:00+00:00",
          "2022-02-23T00:00:00+00:00",
          "2022-02-24T00:00:00+00:00",
          "2022-02-25T00:00:00+00:00",
          "2022-02-28T00:00:00+00:00",
          "2022-03-01T00:00:00+00:00",
          "2022-03-02T00:00:00+00:00",
          "2022-03-03T00:00:00+00:00",
          "2022-03-04T00:00:00+00:00",
          "2022-03-07T00:00:00+00:00",
          "2022-03-08T00:00:00+00:00",
          "2022-03-09T00:00:00+00:00",
          "2022-03-10T00:00:00+00:00",
          "2022-03-11T00:00:00+00:00",
          "2022-03-14T00:00:00+00:00",
          "2022-03-15T00:00:00+00:00",
          "2022-03-16T00:00:00+00:00",
          "2022-03-17T00:00:00+00:00",
          "2022-03-18T00:00:00+00:00",
          "2022-03-21T00:00:00+00:00",
          "2022-03-22T00:00:00+00:00",
          "2022-03-23T00:00:00+00:00",
          "2022-03-24T00:00:00+00:00",
          "2022-03-25T00:00:00+00:00",
          "2022-03-28T00:00:00+00:00",
          "2022-03-29T00:00:00+00:00",
          "2022-03-30T00:00:00+00:00",
          "2022-03-31T00:00:00+00:00",
          "2022-04-01T00:00:00+00:00",
          "2022-04-04T00:00:00+00:00",
          "2022-04-05T00:00:00+00:00",
          "2022-04-06T00:00:00+00:00",
          "2022-04-07T00:00:00+00:00",
          "2022-04-08T00:00:00+00:00",
          "2022-04-11T00:00:00+00:00",
          "2022-04-12T00:00:00+00:00",
          "2022-04-13T00:00:00+00:00",
          "2022-04-14T00:00:00+00:00",
          "2022-04-18T00:00:00+00:00",
          "2022-04-19T00:00:00+00:00",
          "2022-04-20T00:00:00+00:00",
          "2022-04-21T00:00:00+00:00",
          "2022-04-22T00:00:00+00:00",
          "2022-04-25T00:00:00+00:00",
          "2022-04-26T00:00:00+00:00",
          "2022-04-27T00:00:00+00:00",
          "2022-04-28T00:00:00+00:00",
          "2022-04-29T00:00:00+00:00",
          "2022-05-02T00:00:00+00:00",
          "2022-05-03T00:00:00+00:00",
          "2022-05-04T00:00:00+00:00",
          "2022-05-05T00:00:00+00:00",
          "2022-05-06T00:00:00+00:00",
          "2022-05-09T00:00:00+00:00",
          "2022-05-10T00:00:00+00:00",
          "2022-05-11T00:00:00+00:00",
          "2022-05-12T00:00:00+00:00",
          "2022-05-13T00:00:00+00:00",
          "2022-05-16T00:00:00+00:00",
          "2022-05-17T00:00:00+00:00",
          "2022-05-18T00:00:00+00:00",
          "2022-05-19T00:00:00+00:00",
          "2022-05-20T00:00:00+00:00",
          "2022-05-23T00:00:00+00:00",
          "2022-05-24T00:00:00+00:00",
          "2022-05-25T00:00:00+00:00",
          "2022-05-26T00:00:00+00:00",
          "2022-05-27T00:00:00+00:00",
          "2022-05-31T00:00:00+00:00",
          "2022-06-01T00:00:00+00:00",
          "2022-06-02T00:00:00+00:00",
          "2022-06-03T00:00:00+00:00",
          "2022-06-06T00:00:00+00:00",
          "2022-06-07T00:00:00+00:00",
          "2022-06-08T00:00:00+00:00",
          "2022-06-09T00:00:00+00:00",
          "2022-06-10T00:00:00+00:00",
          "2022-06-13T00:00:00+00:00",
          "2022-06-14T00:00:00+00:00",
          "2022-06-15T00:00:00+00:00",
          "2022-06-16T00:00:00+00:00",
          "2022-06-17T00:00:00+00:00",
          "2022-06-21T00:00:00+00:00",
          "2022-06-22T00:00:00+00:00",
          "2022-06-23T00:00:00+00:00",
          "2022-06-24T00:00:00+00:00",
          "2022-06-27T00:00:00+00:00",
          "2022-06-28T00:00:00+00:00",
          "2022-06-29T00:00:00+00:00",
          "2022-06-30T00:00:00+00:00",
          "2022-07-01T00:00:00+00:00",
          "2022-07-05T00:00:00+00:00",
          "2022-07-06T00:00:00+00:00",
          "2022-07-07T00:00:00+00:00",
          "2022-07-08T00:00:00+00:00",
          "2022-07-11T00:00:00+00:00",
          "2022-07-12T00:00:00+00:00",
          "2022-07-13T00:00:00+00:00",
          "2022-07-14T00:00:00+00:00",
          "2022-07-15T00:00:00+00:00",
          "2022-07-18T00:00:00+00:00",
          "2022-07-19T00:00:00+00:00",
          "2022-07-20T00:00:00+00:00",
          "2022-07-21T00:00:00+00:00",
          "2022-07-22T00:00:00+00:00",
          "2022-07-25T00:00:00+00:00",
          "2022-07-26T00:00:00+00:00",
          "2022-07-27T00:00:00+00:00",
          "2022-07-28T00:00:00+00:00",
          "2022-07-29T00:00:00+00:00",
          "2022-08-01T00:00:00+00:00",
          "2022-08-02T00:00:00+00:00",
          "2022-08-03T00:00:00+00:00",
          "2022-08-04T00:00:00+00:00",
          "2022-08-05T00:00:00+00:00",
          "2022-08-08T00:00:00+00:00",
          "2022-08-09T00:00:00+00:00",
          "2022-08-10T00:00:00+00:00",
          "2022-08-11T00:00:00+00:00",
          "2022-08-12T00:00:00+00:00",
          "2022-08-15T00:00:00+00:00",
          "2022-08-16T00:00:00+00:00",
          "2022-08-17T00:00:00+00:00",
          "2022-08-18T00:00:00+00:00",
          "2022-08-19T00:00:00+00:00",
          "2022-08-22T00:00:00+00:00",
          "2022-08-23T00:00:00+00:00",
          "2022-08-24T00:00:00+00:00",
          "2022-08-25T00:00:00+00:00",
          "2022-08-26T00:00:00+00:00",
          "2022-08-29T00:00:00+00:00",
          "2022-08-30T00:00:00+00:00",
          "2022-08-31T00:00:00+00:00",
          "2022-09-01T00:00:00+00:00",
          "2022-09-02T00:00:00+00:00",
          "2022-09-06T00:00:00+00:00",
          "2022-09-07T00:00:00+00:00",
          "2022-09-08T00:00:00+00:00",
          "2022-09-09T00:00:00+00:00",
          "2022-09-12T00:00:00+00:00",
          "2022-09-13T00:00:00+00:00",
          "2022-09-14T00:00:00+00:00",
          "2022-09-15T00:00:00+00:00",
          "2022-09-16T00:00:00+00:00",
          "2022-09-19T00:00:00+00:00",
          "2022-09-20T00:00:00+00:00",
          "2022-09-21T00:00:00+00:00",
          "2022-09-22T00:00:00+00:00",
          "2022-09-23T00:00:00+00:00",
          "2022-09-26T00:00:00+00:00",
          "2022-09-27T00:00:00+00:00",
          "2022-09-28T00:00:00+00:00",
          "2022-09-29T00:00:00+00:00",
          "2022-09-30T00:00:00+00:00",
          "2022-10-03T00:00:00+00:00",
          "2022-10-04T00:00:00+00:00",
          "2022-10-05T00:00:00+00:00",
          "2022-10-06T00:00:00+00:00",
          "2022-10-07T00:00:00+00:00",
          "2022-10-10T00:00:00+00:00",
          "2022-10-11T00:00:00+00:00",
          "2022-10-12T00:00:00+00:00",
          "2022-10-13T00:00:00+00:00",
          "2022-10-14T00:00:00+00:00",
          "2022-10-17T00:00:00+00:00",
          "2022-10-18T00:00:00+00:00",
          "2022-10-19T00:00:00+00:00",
          "2022-10-20T00:00:00+00:00",
          "2022-10-21T00:00:00+00:00",
          "2022-10-24T00:00:00+00:00",
          "2022-10-25T00:00:00+00:00",
          "2022-10-26T00:00:00+00:00",
          "2022-10-27T00:00:00+00:00",
          "2022-10-28T00:00:00+00:00",
          "2022-10-31T00:00:00+00:00",
          "2022-11-01T00:00:00+00:00",
          "2022-11-02T00:00:00+00:00",
          "2022-11-03T00:00:00+00:00",
          "2022-11-04T00:00:00+00:00",
          "2022-11-07T00:00:00+00:00",
          "2022-11-08T00:00:00+00:00",
          "2022-11-09T00:00:00+00:00",
          "2022-11-10T00:00:00+00:00",
          "2022-11-11T00:00:00+00:00",
          "2022-11-14T00:00:00+00:00",
          "2022-11-15T00:00:00+00:00",
          "2022-11-16T00:00:00+00:00",
          "2022-11-17T00:00:00+00:00",
          "2022-11-18T00:00:00+00:00",
          "2022-11-21T00:00:00+00:00",
          "2022-11-22T00:00:00+00:00",
          "2022-11-23T00:00:00+00:00",
          "2022-11-25T00:00:00+00:00",
          "2022-11-28T00:00:00+00:00",
          "2022-11-29T00:00:00+00:00",
          "2022-11-30T00:00:00+00:00",
          "2022-12-01T00:00:00+00:00",
          "2022-12-02T00:00:00+00:00",
          "2022-12-05T00:00:00+00:00",
          "2022-12-06T00:00:00+00:00",
          "2022-12-07T00:00:00+00:00",
          "2022-12-08T00:00:00+00:00",
          "2022-12-09T00:00:00+00:00",
          "2022-12-12T00:00:00+00:00",
          "2022-12-13T00:00:00+00:00",
          "2022-12-14T00:00:00+00:00",
          "2022-12-15T00:00:00+00:00",
          "2022-12-16T00:00:00+00:00",
          "2022-12-19T00:00:00+00:00",
          "2022-12-20T00:00:00+00:00",
          "2022-12-21T00:00:00+00:00",
          "2022-12-22T00:00:00+00:00",
          "2022-12-23T00:00:00+00:00",
          "2022-12-27T00:00:00+00:00",
          "2022-12-28T00:00:00+00:00",
          "2022-12-29T00:00:00+00:00",
          "2022-12-30T00:00:00+00:00",
          "2023-01-03T00:00:00+00:00",
          "2023-01-04T00:00:00+00:00",
          "2023-01-05T00:00:00+00:00",
          "2023-01-06T00:00:00+00:00",
          "2023-01-09T00:00:00+00:00",
          "2023-01-10T00:00:00+00:00",
          "2023-01-11T00:00:00+00:00",
          "2023-01-12T00:00:00+00:00",
          "2023-01-13T00:00:00+00:00",
          "2023-01-17T00:00:00+00:00",
          "2023-01-18T00:00:00+00:00",
          "2023-01-19T00:00:00+00:00",
          "2023-01-20T00:00:00+00:00",
          "2023-01-23T00:00:00+00:00",
          "2023-01-24T00:00:00+00:00",
          "2023-01-25T00:00:00+00:00",
          "2023-01-26T00:00:00+00:00",
          "2023-01-27T00:00:00+00:00",
          "2023-01-30T00:00:00+00:00",
          "2023-01-31T00:00:00+00:00",
          "2023-02-01T00:00:00+00:00",
          "2023-02-02T00:00:00+00:00",
          "2023-02-03T00:00:00+00:00",
          "2023-02-06T00:00:00+00:00",
          "2023-02-07T00:00:00+00:00",
          "2023-02-08T00:00:00+00:00",
          "2023-02-09T00:00:00+00:00",
          "2023-02-10T00:00:00+00:00",
          "2023-02-13T00:00:00+00:00",
          "2023-02-14T00:00:00+00:00",
          "2023-02-15T00:00:00+00:00",
          "2023-02-16T00:00:00+00:00",
          "2023-02-17T00:00:00+00:00",
          "2023-02-21T00:00:00+00:00",
          "2023-02-22T00:00:00+00:00",
          "2023-02-23T00:00:00+00:00",
          "2023-02-24T00:00:00+00:00",
          "2023-02-27T00:00:00+00:00",
          "2023-02-28T00:00:00+00:00",
          "2023-03-01T00:00:00+00:00",
          "2023-03-02T00:00:00+00:00",
          "2023-03-03T00:00:00+00:00",
          "2023-03-06T00:00:00+00:00",
          "2023-03-07T00:00:00+00:00",
          "2023-03-08T00:00:00+00:00",
          "2023-03-09T00:00:00+00:00",
          "2023-03-10T00:00:00+00:00",
          "2023-03-13T00:00:00+00:00",
          "2023-03-14T00:00:00+00:00",
          "2023-03-15T00:00:00+00:00",
          "2023-03-16T00:00:00+00:00",
          "2023-03-17T00:00:00+00:00",
          "2023-03-20T00:00:00+00:00",
          "2023-03-21T00:00:00+00:00",
          "2023-03-22T00:00:00+00:00",
          "2023-03-23T00:00:00+00:00",
          "2023-03-24T00:00:00+00:00",
          "2023-03-27T00:00:00+00:00",
          "2023-03-28T00:00:00+00:00",
          "2023-03-29T00:00:00+00:00",
          "2023-03-30T00:00:00+00:00",
          "2023-03-31T00:00:00+00:00",
          "2023-04-03T00:00:00+00:00",
          "2023-04-04T00:00:00+00:00",
          "2023-04-05T00:00:00+00:00",
          "2023-04-06T00:00:00+00:00",
          "2023-04-10T00:00:00+00:00",
          "2023-04-11T00:00:00+00:00",
          "2023-04-12T00:00:00+00:00",
          "2023-04-13T00:00:00+00:00",
          "2023-04-14T00:00:00+00:00",
          "2023-04-17T00:00:00+00:00",
          "2023-04-18T00:00:00+00:00",
          "2023-04-19T00:00:00+00:00",
          "2023-04-20T00:00:00+00:00",
          "2023-04-21T00:00:00+00:00",
          "2023-04-24T00:00:00+00:00",
          "2023-04-25T00:00:00+00:00",
          "2023-04-26T00:00:00+00:00",
          "2023-04-27T00:00:00+00:00",
          "2023-04-28T00:00:00+00:00",
          "2023-05-01T00:00:00+00:00",
          "2023-05-02T00:00:00+00:00",
          "2023-05-03T00:00:00+00:00",
          "2023-05-04T00:00:00+00:00",
          "2023-05-05T00:00:00+00:00",
          "2023-05-08T00:00:00+00:00",
          "2023-05-09T00:00:00+00:00",
          "2023-05-10T00:00:00+00:00",
          "2023-05-11T00:00:00+00:00",
          "2023-05-12T00:00:00+00:00",
          "2023-05-15T00:00:00+00:00",
          "2023-05-16T00:00:00+00:00",
          "2023-05-17T00:00:00+00:00",
          "2023-05-18T00:00:00+00:00",
          "2023-05-19T00:00:00+00:00",
          "2023-05-22T00:00:00+00:00",
          "2023-05-23T00:00:00+00:00",
          "2023-05-24T00:00:00+00:00",
          "2023-05-25T00:00:00+00:00",
          "2023-05-26T00:00:00+00:00",
          "2023-05-30T00:00:00+00:00",
          "2023-05-31T00:00:00+00:00",
          "2023-06-01T00:00:00+00:00",
          "2023-06-02T00:00:00+00:00",
          "2023-06-05T00:00:00+00:00",
          "2023-06-06T00:00:00+00:00",
          "2023-06-07T00:00:00+00:00",
          "2023-06-08T00:00:00+00:00",
          "2023-06-09T00:00:00+00:00",
          "2023-06-12T00:00:00+00:00",
          "2023-06-13T00:00:00+00:00",
          "2023-06-14T00:00:00+00:00",
          "2023-06-15T00:00:00+00:00",
          "2023-06-16T00:00:00+00:00",
          "2023-06-20T00:00:00+00:00",
          "2023-06-21T00:00:00+00:00",
          "2023-06-22T00:00:00+00:00",
          "2023-06-23T00:00:00+00:00",
          "2023-06-26T00:00:00+00:00",
          "2023-06-27T00:00:00+00:00",
          "2023-06-28T00:00:00+00:00",
          "2023-06-29T00:00:00+00:00",
          "2023-06-30T00:00:00+00:00",
          "2023-07-03T00:00:00+00:00",
          "2023-07-05T00:00:00+00:00",
          "2023-07-06T00:00:00+00:00",
          "2023-07-07T00:00:00+00:00",
          "2023-07-10T00:00:00+00:00",
          "2023-07-11T00:00:00+00:00",
          "2023-07-12T00:00:00+00:00",
          "2023-07-13T00:00:00+00:00",
          "2023-07-14T00:00:00+00:00",
          "2023-07-17T00:00:00+00:00",
          "2023-07-18T00:00:00+00:00",
          "2023-07-19T00:00:00+00:00",
          "2023-07-20T00:00:00+00:00",
          "2023-07-21T00:00:00+00:00",
          "2023-07-24T00:00:00+00:00",
          "2023-07-25T00:00:00+00:00",
          "2023-07-26T00:00:00+00:00",
          "2023-07-27T00:00:00+00:00",
          "2023-07-28T00:00:00+00:00",
          "2023-07-31T00:00:00+00:00",
          "2023-08-01T00:00:00+00:00",
          "2023-08-02T00:00:00+00:00",
          "2023-08-03T00:00:00+00:00",
          "2023-08-04T00:00:00+00:00",
          "2023-08-07T00:00:00+00:00",
          "2023-08-08T00:00:00+00:00",
          "2023-08-09T00:00:00+00:00",
          "2023-08-10T00:00:00+00:00",
          "2023-08-11T00:00:00+00:00",
          "2023-08-14T00:00:00+00:00",
          "2023-08-15T00:00:00+00:00",
          "2023-08-16T00:00:00+00:00",
          "2023-08-17T00:00:00+00:00",
          "2023-08-18T00:00:00+00:00",
          "2023-08-21T00:00:00+00:00",
          "2023-08-22T00:00:00+00:00",
          "2023-08-23T00:00:00+00:00",
          "2023-08-24T00:00:00+00:00",
          "2023-08-25T00:00:00+00:00",
          "2023-08-28T00:00:00+00:00",
          "2023-08-29T00:00:00+00:00",
          "2023-08-30T00:00:00+00:00",
          "2023-08-31T00:00:00+00:00",
          "2023-09-01T00:00:00+00:00",
          "2023-09-05T00:00:00+00:00",
          "2023-09-06T00:00:00+00:00",
          "2023-09-07T00:00:00+00:00",
          "2023-09-08T00:00:00+00:00",
          "2023-09-11T00:00:00+00:00",
          "2023-09-12T00:00:00+00:00",
          "2023-09-13T00:00:00+00:00",
          "2023-09-14T00:00:00+00:00",
          "2023-09-15T00:00:00+00:00",
          "2023-09-18T00:00:00+00:00",
          "2023-09-19T00:00:00+00:00",
          "2023-09-20T00:00:00+00:00",
          "2023-09-21T00:00:00+00:00",
          "2023-09-22T00:00:00+00:00",
          "2023-09-25T00:00:00+00:00",
          "2023-09-26T00:00:00+00:00",
          "2023-09-27T00:00:00+00:00",
          "2023-09-28T00:00:00+00:00",
          "2023-09-29T00:00:00+00:00",
          "2023-10-02T00:00:00+00:00",
          "2023-10-03T00:00:00+00:00",
          "2023-10-04T00:00:00+00:00",
          "2023-10-05T00:00:00+00:00",
          "2023-10-06T00:00:00+00:00",
          "2023-10-09T00:00:00+00:00",
          "2023-10-10T00:00:00+00:00",
          "2023-10-11T00:00:00+00:00",
          "2023-10-12T00:00:00+00:00",
          "2023-10-13T00:00:00+00:00",
          "2023-10-16T00:00:00+00:00",
          "2023-10-17T00:00:00+00:00",
          "2023-10-18T00:00:00+00:00",
          "2023-10-19T00:00:00+00:00",
          "2023-10-20T00:00:00+00:00",
          "2023-10-23T00:00:00+00:00",
          "2023-10-24T00:00:00+00:00",
          "2023-10-25T00:00:00+00:00",
          "2023-10-26T00:00:00+00:00",
          "2023-10-27T00:00:00+00:00",
          "2023-10-30T00:00:00+00:00",
          "2023-10-31T00:00:00+00:00",
          "2023-11-01T00:00:00+00:00",
          "2023-11-02T00:00:00+00:00",
          "2023-11-03T00:00:00+00:00",
          "2023-11-06T00:00:00+00:00",
          "2023-11-07T00:00:00+00:00",
          "2023-11-08T00:00:00+00:00",
          "2023-11-09T00:00:00+00:00",
          "2023-11-10T00:00:00+00:00",
          "2023-11-13T00:00:00+00:00",
          "2023-11-14T00:00:00+00:00",
          "2023-11-15T00:00:00+00:00",
          "2023-11-16T00:00:00+00:00",
          "2023-11-17T00:00:00+00:00",
          "2023-11-20T00:00:00+00:00",
          "2023-11-21T00:00:00+00:00",
          "2023-11-22T00:00:00+00:00",
          "2023-11-24T00:00:00+00:00",
          "2023-11-27T00:00:00+00:00",
          "2023-11-28T00:00:00+00:00",
          "2023-11-29T00:00:00+00:00",
          "2023-11-30T00:00:00+00:00",
          "2023-12-01T00:00:00+00:00",
          "2023-12-04T00:00:00+00:00",
          "2023-12-05T00:00:00+00:00",
          "2023-12-06T00:00:00+00:00",
          "2023-12-07T00:00:00+00:00",
          "2023-12-08T00:00:00+00:00",
          "2023-12-11T00:00:00+00:00",
          "2023-12-12T00:00:00+00:00",
          "2023-12-13T00:00:00+00:00",
          "2023-12-14T00:00:00+00:00",
          "2023-12-15T00:00:00+00:00",
          "2023-12-18T00:00:00+00:00",
          "2023-12-19T00:00:00+00:00",
          "2023-12-20T00:00:00+00:00",
          "2023-12-21T00:00:00+00:00",
          "2023-12-22T00:00:00+00:00",
          "2023-12-26T00:00:00+00:00",
          "2023-12-27T00:00:00+00:00",
          "2023-12-28T00:00:00+00:00",
          "2023-12-29T00:00:00+00:00",
          "2024-01-02T00:00:00+00:00",
          "2024-01-03T00:00:00+00:00",
          "2024-01-04T00:00:00+00:00",
          "2024-01-05T00:00:00+00:00",
          "2024-01-08T00:00:00+00:00",
          "2024-01-09T00:00:00+00:00",
          "2024-01-10T00:00:00+00:00",
          "2024-01-11T00:00:00+00:00",
          "2024-01-12T00:00:00+00:00",
          "2024-01-16T00:00:00+00:00",
          "2024-01-17T00:00:00+00:00",
          "2024-01-18T00:00:00+00:00",
          "2024-01-19T00:00:00+00:00",
          "2024-01-22T00:00:00+00:00",
          "2024-01-23T00:00:00+00:00",
          "2024-01-24T00:00:00+00:00",
          "2024-01-25T00:00:00+00:00",
          "2024-01-26T00:00:00+00:00",
          "2024-01-29T00:00:00+00:00",
          "2024-01-30T00:00:00+00:00",
          "2024-01-31T00:00:00+00:00",
          "2024-02-01T00:00:00+00:00",
          "2024-02-02T00:00:00+00:00",
          "2024-02-05T00:00:00+00:00",
          "2024-02-06T00:00:00+00:00",
          "2024-02-07T00:00:00+00:00",
          "2024-02-08T00:00:00+00:00",
          "2024-02-09T00:00:00+00:00",
          "2024-02-12T00:00:00+00:00",
          "2024-02-13T00:00:00+00:00",
          "2024-02-14T00:00:00+00:00",
          "2024-02-15T00:00:00+00:00",
          "2024-02-16T00:00:00+00:00",
          "2024-02-20T00:00:00+00:00",
          "2024-02-21T00:00:00+00:00",
          "2024-02-22T00:00:00+00:00",
          "2024-02-23T00:00:00+00:00",
          "2024-02-26T00:00:00+00:00",
          "2024-02-27T00:00:00+00:00",
          "2024-02-28T00:00:00+00:00",
          "2024-02-29T00:00:00+00:00",
          "2024-03-01T00:00:00+00:00",
          "2024-03-04T00:00:00+00:00",
          "2024-03-05T00:00:00+00:00",
          "2024-03-06T00:00:00+00:00",
          "2024-03-07T00:00:00+00:00",
          "2024-03-08T00:00:00+00:00",
          "2024-03-11T00:00:00+00:00",
          "2024-03-12T00:00:00+00:00",
          "2024-03-13T00:00:00+00:00",
          "2024-03-14T00:00:00+00:00",
          "2024-03-15T00:00:00+00:00",
          "2024-03-18T00:00:00+00:00",
          "2024-03-19T00:00:00+00:00",
          "2024-03-20T00:00:00+00:00",
          "2024-03-21T00:00:00+00:00",
          "2024-03-22T00:00:00+00:00",
          "2024-03-25T00:00:00+00:00",
          "2024-03-26T00:00:00+00:00",
          "2024-03-27T00:00:00+00:00",
          "2024-03-28T00:00:00+00:00",
          "2024-04-01T00:00:00+00:00",
          "2024-04-02T00:00:00+00:00",
          "2024-04-03T00:00:00+00:00",
          "2024-04-04T00:00:00+00:00",
          "2024-04-05T00:00:00+00:00",
          "2024-04-08T00:00:00+00:00",
          "2024-04-09T00:00:00+00:00",
          "2024-04-10T00:00:00+00:00",
          "2024-04-11T00:00:00+00:00",
          "2024-04-12T00:00:00+00:00",
          "2024-04-15T00:00:00+00:00",
          "2024-04-16T00:00:00+00:00",
          "2024-04-17T00:00:00+00:00",
          "2024-04-18T00:00:00+00:00",
          "2024-04-19T00:00:00+00:00",
          "2024-04-22T00:00:00+00:00",
          "2024-04-23T00:00:00+00:00",
          "2024-04-24T00:00:00+00:00",
          "2024-04-25T00:00:00+00:00",
          "2024-04-26T00:00:00+00:00",
          "2024-04-29T00:00:00+00:00",
          "2024-04-30T00:00:00+00:00",
          "2024-05-01T00:00:00+00:00",
          "2024-05-02T00:00:00+00:00",
          "2024-05-03T00:00:00+00:00",
          "2024-05-06T00:00:00+00:00",
          "2024-05-07T00:00:00+00:00",
          "2024-05-08T00:00:00+00:00",
          "2024-05-09T00:00:00+00:00",
          "2024-05-10T00:00:00+00:00",
          "2024-05-13T00:00:00+00:00",
          "2024-05-14T00:00:00+00:00",
          "2024-05-15T00:00:00+00:00",
          "2024-05-16T00:00:00+00:00",
          "2024-05-17T00:00:00+00:00",
          "2024-05-20T00:00:00+00:00",
          "2024-05-21T00:00:00+00:00",
          "2024-05-22T00:00:00+00:00",
          "2024-05-23T00:00:00+00:00",
          "2024-05-24T00:00:00+00:00",
          "2024-05-28T00:00:00+00:00",
          "2024-05-29T00:00:00+00:00",
          "2024-05-30T00:00:00+00:00",
          "2024-05-31T00:00:00+00:00",
          "2024-06-03T00:00:00+00:00",
          "2024-06-04T00:00:00+00:00",
          "2024-06-05T00:00:00+00:00",
          "2024-06-06T00:00:00+00:00",
          "2024-06-07T00:00:00+00:00",
          "2024-06-10T00:00:00+00:00",
          "2024-06-11T00:00:00+00:00",
          "2024-06-12T00:00:00+00:00",
          "2024-06-13T00:00:00+00:00",
          "2024-06-14T00:00:00+00:00",
          "2024-06-17T00:00:00+00:00",
          "2024-06-18T00:00:00+00:00",
          "2024-06-20T00:00:00+00:00",
          "2024-06-21T00:00:00+00:00",
          "2024-06-24T00:00:00+00:00",
          "2024-06-25T00:00:00+00:00",
          "2024-06-26T00:00:00+00:00",
          "2024-06-27T00:00:00+00:00",
          "2024-06-28T00:00:00+00:00",
          "2024-07-01T00:00:00+00:00",
          "2024-07-02T00:00:00+00:00",
          "2024-07-03T00:00:00+00:00",
          "2024-07-05T00:00:00+00:00",
          "2024-07-08T00:00:00+00:00",
          "2024-07-09T00:00:00+00:00",
          "2024-07-10T00:00:00+00:00",
          "2024-07-11T00:00:00+00:00",
          "2024-07-12T00:00:00+00:00",
          "2024-07-15T00:00:00+00:00",
          "2024-07-16T00:00:00+00:00",
          "2024-07-17T00:00:00+00:00",
          "2024-07-18T00:00:00+00:00",
          "2024-07-19T00:00:00+00:00",
          "2024-07-22T00:00:00+00:00",
          "2024-07-23T00:00:00+00:00",
          "2024-07-24T00:00:00+00:00",
          "2024-07-25T00:00:00+00:00",
          "2024-07-26T00:00:00+00:00",
          "2024-07-29T00:00:00+00:00",
          "2024-07-30T00:00:00+00:00",
          "2024-07-31T00:00:00+00:00",
          "2024-08-01T00:00:00+00:00",
          "2024-08-02T00:00:00+00:00",
          "2024-08-05T00:00:00+00:00",
          "2024-08-06T00:00:00+00:00",
          "2024-08-07T00:00:00+00:00",
          "2024-08-08T00:00:00+00:00",
          "2024-08-09T00:00:00+00:00",
          "2024-08-12T00:00:00+00:00",
          "2024-08-13T00:00:00+00:00",
          "2024-08-14T00:00:00+00:00",
          "2024-08-15T00:00:00+00:00",
          "2024-08-16T00:00:00+00:00",
          "2024-08-19T00:00:00+00:00",
          "2024-08-20T00:00:00+00:00",
          "2024-08-21T00:00:00+00:00",
          "2024-08-22T00:00:00+00:00",
          "2024-08-23T00:00:00+00:00",
          "2024-08-26T00:00:00+00:00",
          "2024-08-27T00:00:00+00:00",
          "2024-08-28T00:00:00+00:00",
          "2024-08-29T00:00:00+00:00",
          "2024-08-30T00:00:00+00:00",
          "2024-09-03T00:00:00+00:00",
          "2024-09-04T00:00:00+00:00",
          "2024-09-05T00:00:00+00:00",
          "2024-09-06T00:00:00+00:00",
          "2024-09-09T00:00:00+00:00",
          "2024-09-10T00:00:00+00:00",
          "2024-09-11T00:00:00+00:00",
          "2024-09-12T00:00:00+00:00",
          "2024-09-13T00:00:00+00:00",
          "2024-09-16T00:00:00+00:00",
          "2024-09-17T00:00:00+00:00",
          "2024-09-18T00:00:00+00:00",
          "2024-09-19T00:00:00+00:00",
          "2024-09-20T00:00:00+00:00",
          "2024-09-23T00:00:00+00:00",
          "2024-09-24T00:00:00+00:00",
          "2024-09-25T00:00:00+00:00",
          "2024-09-26T00:00:00+00:00",
          "2024-09-27T00:00:00+00:00",
          "2024-09-30T00:00:00+00:00",
          "2024-10-01T00:00:00+00:00",
          "2024-10-02T00:00:00+00:00",
          "2024-10-03T00:00:00+00:00",
          "2024-10-04T00:00:00+00:00",
          "2024-10-07T00:00:00+00:00",
          "2024-10-08T00:00:00+00:00",
          "2024-10-09T00:00:00+00:00",
          "2024-10-10T00:00:00+00:00",
          "2024-10-11T00:00:00+00:00",
          "2024-10-14T00:00:00+00:00",
          "2024-10-15T00:00:00+00:00",
          "2024-10-16T00:00:00+00:00",
          "2024-10-17T00:00:00+00:00",
          "2024-10-18T00:00:00+00:00",
          "2024-10-21T00:00:00+00:00",
          "2024-10-22T00:00:00+00:00",
          "2024-10-23T00:00:00+00:00",
          "2024-10-24T00:00:00+00:00",
          "2024-10-25T00:00:00+00:00",
          "2024-10-28T00:00:00+00:00",
          "2024-10-29T00:00:00+00:00",
          "2024-10-30T00:00:00+00:00",
          "2024-10-31T00:00:00+00:00",
          "2024-11-01T00:00:00+00:00",
          "2024-11-04T00:00:00+00:00",
          "2024-11-05T00:00:00+00:00",
          "2024-11-06T00:00:00+00:00",
          "2024-11-07T00:00:00+00:00",
          "2024-11-08T00:00:00+00:00"
         ],
         "xaxis": "x",
         "y": [
          null,
          28,
          26.75,
          26.39,
          23.96,
          23.9,
          24.81,
          24.48,
          23.59,
          24.73,
          23.95,
          22.52,
          24.26,
          24.75,
          26.73,
          26.92,
          26.79,
          25.61,
          25.21,
          23.98,
          24.32,
          24.22,
          23.26,
          21.88,
          22.58,
          22.58,
          21.73,
          22.04,
          23.29,
          23.07,
          23.44,
          23.27,
          22.9,
          23.41,
          24.04,
          23.34,
          25.42,
          23.7,
          23.15,
          22.47,
          21.94,
          21.78,
          22.63,
          22.86,
          23.41,
          24.11,
          23.88,
          23.85,
          23.37,
          23.04,
          22.3,
          21.64,
          21.15,
          20.09,
          19.75,
          18.47,
          20.21,
          18.89,
          18.37,
          20.08,
          20.46,
          21.24,
          20.67,
          20.61,
          20.75,
          21.22,
          21.48,
          22.12,
          22.7,
          22.95,
          23.06,
          24.45,
          23.63,
          24.03,
          24.46,
          24.38,
          24.17,
          24.14,
          24.67,
          25,
          24.41,
          24.8,
          25.45,
          25.37,
          25.42,
          25.4,
          26.27,
          26.53,
          26.78,
          27.38,
          26.63,
          26.36,
          24.72,
          24.44,
          24.68,
          22.89,
          23.08,
          23.29,
          22.95,
          22.45,
          21.56,
          21.47,
          21.37,
          21.54,
          22.18,
          22.52,
          22.07,
          21.81,
          22.13,
          21.68,
          22.56,
          22.18,
          21.71,
          22.1,
          22.24,
          22.3,
          22.52,
          21.82,
          22.93,
          22.92,
          22.35,
          24.89,
          24.9,
          24.5,
          23.97,
          25.28,
          24.16,
          24.01,
          24.82,
          25.1,
          24.35,
          24.87,
          25.71,
          25.76,
          26.34,
          26.2,
          26.51,
          26.64,
          26.7,
          25.58,
          26.13,
          26.28,
          25.83,
          26.26,
          27.08,
          28.63,
          28.71,
          26.55,
          26.62,
          27.43,
          28.77,
          28.56,
          27.47,
          25.34,
          24.52,
          24.04,
          24.33,
          23.17,
          23.21,
          23.58,
          23.73,
          23.5,
          23.53,
          23.69,
          24.13,
          24.35,
          24,
          24.26,
          24.69,
          24.22,
          24.78,
          24.43,
          25.41,
          25.52,
          25.06,
          25.64,
          25.88,
          26.56,
          25.92,
          26.12,
          26.47,
          26,
          26.75,
          24.25,
          22.52,
          22.99,
          22.83,
          23.41,
          23.13,
          22.49,
          21.5,
          21.41,
          20.65,
          20.59,
          21.11,
          21.03,
          21.07,
          20.65,
          19.38,
          19.69,
          18.98,
          18.8,
          19.46,
          19.82,
          19.21,
          18.94,
          18.4,
          18.64,
          18.86,
          18.34,
          19.06,
          17.96,
          18.9,
          18.88,
          18.93,
          18.94,
          18.57,
          18.17,
          18.69,
          18.21,
          18.53,
          18.17,
          16.96,
          16.74,
          16.56,
          16.5,
          16.89,
          16.72,
          16.01,
          16.01,
          14.97,
          14.56,
          14.62,
          13.53,
          13.4,
          13.06,
          12.75,
          12.28,
          12.71,
          13.71,
          14.2,
          13.32,
          12.45,
          12.94,
          12.98,
          13.15,
          13.87,
          13.56,
          13.13,
          13.26,
          14.17,
          13.97,
          11.77,
          11.02,
          10.48,
          10.43,
          11.83,
          11.47,
          11.85,
          12.18,
          12.06,
          11.34,
          10.96,
          11.11,
          11.04,
          11.65,
          11.87,
          11.39,
          10.5,
          10.77,
          11.79,
          12.32,
          12.82,
          12.59,
          13.27,
          13.18,
          13.39,
          12.97,
          13.42,
          14.2,
          13.88,
          13.73,
          13.83,
          14.63,
          13.89,
          13,
          12.84,
          12.7,
          12.66,
          12.46,
          12.9,
          12.42,
          12.15,
          12.91,
          12.79,
          12.33,
          11.96,
          12.11,
          11.12,
          10.56,
          10.95,
          10.4,
          10.74,
          10.55,
          10.98,
          10.12,
          9.48,
          7.46,
          7.29,
          6.71,
          7.34,
          8.34,
          8.04,
          8.36,
          8.01,
          8.31,
          8.08,
          8.01,
          7.55,
          7.96,
          8.36,
          8.85,
          8.68,
          8.46,
          9.3,
          8.94,
          8.98,
          9.13,
          9.18,
          8.68,
          8.26,
          7.64,
          7.82,
          8.12,
          7.67,
          8.24,
          8.71,
          9.01,
          9.46,
          10.19,
          9.62,
          9.31,
          9.23,
          9.07,
          9.27,
          10.07,
          9.8,
          10.18,
          10.17,
          9.56,
          9.49,
          9.28,
          8.9,
          9.04,
          9.03,
          9.34,
          10.11,
          10.49,
          9.84,
          9.68,
          9.4,
          10.02,
          10.13,
          10.35,
          10.47,
          10.92,
          11.2,
          11.32,
          11.45,
          9.82,
          9.25,
          9.59,
          9.42,
          9.91,
          9.91,
          9.74,
          9.43,
          9.15,
          8.51,
          8.07,
          8.01,
          8.1,
          8.42,
          7.94,
          7.81,
          7.79,
          7.72,
          7.49,
          7.4,
          7.28,
          7.39,
          7.53,
          7.79,
          8.01,
          7.48,
          7.63,
          8.01,
          7.78,
          7.86,
          7.62,
          7.69,
          7.37,
          7.4,
          7.53,
          7.63,
          7.94,
          8.08,
          8.13,
          8.24,
          8.46,
          8.42,
          8.47,
          8.15,
          8.06,
          8.04,
          8.07,
          8.08,
          7.53,
          7.94,
          8.16,
          7.91,
          8.04,
          8.29,
          8.27,
          8.66,
          8.57,
          8.6,
          8.64,
          8.79,
          8.65,
          8.22,
          8.08,
          7.93,
          7.02,
          7.21,
          6.98,
          7.64,
          8.41,
          8.1,
          8.34,
          8.06,
          7.62,
          7.39,
          7.19,
          7.22,
          7.37,
          7.28,
          7.16,
          7.08,
          7.5,
          7.86,
          7.66,
          7.19,
          6.99,
          7.07,
          7.12,
          7.11,
          7.29,
          7.5,
          7.35,
          7.01,
          6.9,
          6.35,
          6.31,
          6.5,
          6.32,
          6.29,
          6,
          6.07,
          6.4,
          6.42,
          6.39,
          6.58,
          6.32,
          6.4,
          6.5,
          6.7,
          6.98,
          7.01,
          6.96,
          7.07,
          6.9,
          6.73,
          7.02,
          7.38,
          7.02,
          7.22,
          7.24,
          7.55,
          7.37,
          7.78,
          8.2,
          8.99,
          8.41,
          8.31,
          8.33,
          8.22,
          7.95,
          7.51,
          7.61,
          9.22,
          10.11,
          9.71,
          9.2,
          8.47,
          8.36,
          8.17,
          8.09,
          8.03,
          7.84,
          7.69,
          7.97,
          8.33,
          8.28,
          8.28,
          8.13,
          7.69,
          7.35,
          7.87,
          7.89,
          7.9,
          7.98,
          7.88,
          8.08,
          8.45,
          8.21,
          8.33,
          8.2,
          8.04,
          8,
          8.22,
          8.15,
          8.45,
          8.38,
          8.35,
          7.98,
          8.09,
          8.39,
          8.61,
          8.33,
          8.58,
          8.81,
          8.8,
          8.73,
          8.49,
          8.15,
          8.18,
          8.1,
          7.74,
          7.74,
          7.82,
          7.75,
          7.78,
          7.59,
          7.56,
          7.38,
          7.41,
          7.74,
          9.55,
          9.94,
          9.88,
          9.5,
          9.52,
          9.47,
          10.25,
          11.74,
          11.71,
          11.84,
          12.64,
          12.23,
          12.84,
          13.65,
          14.71,
          14.71,
          14.54,
          14.52,
          15.24,
          15.46,
          14.69,
          15.19,
          15.02,
          15.65,
          16,
          15.91,
          16.6,
          16.3,
          15.79,
          14.64,
          14.05,
          14.03,
          13.94,
          14.61,
          15.28,
          15.2,
          15.33,
          15.52,
          15.7,
          15.13,
          15.34,
          16.3,
          16.49,
          16.59,
          16.74,
          16.4,
          17.4,
          18.08,
          18.05,
          17.13,
          16.43,
          16.32,
          16.55,
          16.43,
          16.15,
          17.81,
          19.84,
          19.99,
          18.97,
          18.71,
          18.2,
          17.99,
          17.04,
          15.25,
          15.41,
          15.41,
          15.72,
          15.37,
          15.45,
          14.15,
          14.4,
          14.5,
          14.67,
          15.3,
          14.14,
          14.53,
          14.64,
          15.4,
          16.33,
          14.98,
          15.18,
          15.21,
          15.3,
          15.21,
          15.13,
          15.79,
          15.59,
          15.6,
          15.83,
          15.33,
          15.46,
          15.15,
          14.74,
          14,
          14.13,
          14.22,
          13.96,
          14.85,
          15.77,
          16,
          15.88,
          14.9,
          15.73,
          15.81,
          16.61,
          17.61,
          17.8,
          17.92,
          17.94,
          17.36,
          17.36,
          17.84,
          17.2,
          17.06,
          16.11,
          16.2,
          16.64,
          15.59,
          15.29,
          15.07,
          14.69,
          14.8,
          14.92,
          17.97,
          18.89,
          18.54,
          18.8,
          18.49,
          18.27,
          19.67,
          19.71,
          19.94,
          19.95,
          19.77,
          20.49,
          21.34,
          19.8,
          19.69,
          19.2,
          19.08,
          19.71,
          19.84,
          20.05,
          20.27,
          18.4,
          18.3,
          17.13,
          17.22,
          17.77,
          17.77,
          17.5,
          17.87,
          18.21,
          18.2,
          17.84,
          17.95,
          17.25,
          17.59,
          17.41,
          17.68,
          17.47,
          17.56,
          17.17,
          16.58,
          16.09,
          16.25,
          15.98,
          16.67,
          16.39,
          16.79,
          16.68,
          16.76,
          16.53,
          16.39,
          16.4,
          16.78,
          17.6,
          17.33,
          16.75,
          16.46,
          16.35,
          17.09,
          16.74,
          16.09,
          16.33,
          17.02,
          16.72,
          21.87,
          23.6,
          24.51,
          24.38,
          25.05,
          24.01,
          25.19,
          25.41,
          24.44,
          23.4,
          22.74,
          23.59,
          22.97,
          23.56,
          24.53,
          24.42,
          25.08,
          24.93,
          24.04,
          23.81,
          26.16,
          26.46,
          26.04,
          25.35,
          24.7,
          25,
          24.43,
          23.49,
          24,
          23.8,
          24.57,
          24.49,
          24.18,
          24.51,
          24.89,
          24.51,
          23.01,
          22.86,
          22.72,
          22.7,
          22.48,
          22.96,
          23,
          22.81,
          22.42,
          22.84,
          22.67,
          21.9,
          21.88,
          21.31,
          21.13,
          20.47,
          20.97,
          21.64,
          21.59,
          21.71,
          22.52,
          22.83,
          21.97,
          22.12,
          22.55,
          23.33,
          25.21,
          21.4,
          21.56,
          21.14,
          20.6,
          20.94,
          21.44,
          21.67,
          21.65,
          21.76,
          21.62,
          21.24,
          21.17,
          20.72,
          21.01,
          21.05,
          20.94,
          21.73,
          21.68,
          21.32,
          22.1,
          22.96,
          23.79,
          23.31,
          23.13,
          23.85,
          23.77,
          23.27,
          23.57,
          25.02,
          25.82,
          25.56,
          23.84,
          24.16,
          24.56,
          24.1,
          25.22,
          25.33,
          25.88,
          25.83,
          25.85,
          27.23,
          27.7,
          27.39,
          28.42,
          27.64,
          28.07,
          28.67,
          28.67,
          28.22,
          28.64,
          28.58,
          28.46,
          28.81,
          26.6,
          26.63,
          27.18,
          27.08,
          26.37,
          26.89,
          26.08,
          24.74,
          24.09,
          26.59,
          26.32,
          29.28,
          30.01,
          29.38,
          30.39,
          31,
          31.22,
          32.08,
          32.5,
          32.32,
          32.54,
          31.92,
          31.78,
          30.85,
          30.84,
          30.36,
          31,
          31.48,
          30.51,
          30.59,
          30.16,
          30.33,
          34.6,
          34.76,
          34.85,
          34.91,
          35.59,
          36.31,
          36.45,
          36.38,
          36.83,
          37.2,
          37.95,
          36.9,
          37.12,
          37.1,
          36.84,
          37.2,
          36.46,
          37.49,
          39.24,
          40.01,
          38.89,
          41.45,
          43.13,
          43.52,
          43.51,
          43.4,
          42.43,
          41.93,
          42,
          42.97,
          42.7,
          42.94,
          42.59,
          43.56,
          44.86,
          44.97,
          44.93,
          43.69,
          41.56,
          41.92,
          41.41,
          51.13,
          55.53,
          55.88,
          58.39
         ],
         "yaxis": "y"
        }
       ],
       "layout": {
        "autosize": true,
        "hovermode": "x",
        "legend": {
         "tracegroupgap": 0
        },
        "margin": {
         "t": 60
        },
        "shapes": [
         {
          "line": {
           "color": "orange",
           "dash": "dash",
           "width": 1
          },
          "type": "line",
          "x0": "2021-02-26T00:00:00+00:00",
          "x1": "2021-02-26T00:00:00+00:00",
          "xref": "x",
          "y0": 0,
          "y1": 1,
          "yref": "y domain"
         },
         {
          "line": {
           "color": "orange",
           "dash": "dash",
           "width": 1
          },
          "type": "line",
          "x0": "2021-03-29T00:00:00+00:00",
          "x1": "2021-03-29T00:00:00+00:00",
          "xref": "x",
          "y0": 0,
          "y1": 1,
          "yref": "y domain"
         },
         {
          "line": {
           "color": "orange",
           "dash": "dash",
           "width": 1
          },
          "type": "line",
          "x0": "2021-04-20T00:00:00+00:00",
          "x1": "2021-04-20T00:00:00+00:00",
          "xref": "x",
          "y0": 0,
          "y1": 1,
          "yref": "y domain"
         },
         {
          "line": {
           "color": "orange",
           "dash": "dash",
           "width": 1
          },
          "type": "line",
          "x0": "2021-05-13T00:00:00+00:00",
          "x1": "2021-05-13T00:00:00+00:00",
          "xref": "x",
          "y0": 0,
          "y1": 1,
          "yref": "y domain"
         },
         {
          "line": {
           "color": "orange",
           "dash": "dash",
           "width": 1
          },
          "type": "line",
          "x0": "2021-06-01T00:00:00+00:00",
          "x1": "2021-06-01T00:00:00+00:00",
          "xref": "x",
          "y0": 0,
          "y1": 1,
          "yref": "y domain"
         },
         {
          "line": {
           "color": "orange",
           "dash": "dash",
           "width": 1
          },
          "type": "line",
          "x0": "2021-07-16T00:00:00+00:00",
          "x1": "2021-07-16T00:00:00+00:00",
          "xref": "x",
          "y0": 0,
          "y1": 1,
          "yref": "y domain"
         },
         {
          "line": {
           "color": "orange",
           "dash": "dash",
           "width": 1
          },
          "type": "line",
          "x0": "2021-08-06T00:00:00+00:00",
          "x1": "2021-08-06T00:00:00+00:00",
          "xref": "x",
          "y0": 0,
          "y1": 1,
          "yref": "y domain"
         },
         {
          "line": {
           "color": "orange",
           "dash": "dash",
           "width": 1
          },
          "type": "line",
          "x0": "2021-09-30T00:00:00+00:00",
          "x1": "2021-09-30T00:00:00+00:00",
          "xref": "x",
          "y0": 0,
          "y1": 1,
          "yref": "y domain"
         },
         {
          "line": {
           "color": "orange",
           "dash": "dash",
           "width": 1
          },
          "type": "line",
          "x0": "2021-10-04T00:00:00+00:00",
          "x1": "2021-10-04T00:00:00+00:00",
          "xref": "x",
          "y0": 0,
          "y1": 1,
          "yref": "y domain"
         },
         {
          "line": {
           "color": "orange",
           "dash": "dash",
           "width": 1
          },
          "type": "line",
          "x0": "2021-11-23T00:00:00+00:00",
          "x1": "2021-11-23T00:00:00+00:00",
          "xref": "x",
          "y0": 0,
          "y1": 1,
          "yref": "y domain"
         },
         {
          "line": {
           "color": "orange",
           "dash": "dash",
           "width": 1
          },
          "type": "line",
          "x0": "2021-12-20T00:00:00+00:00",
          "x1": "2021-12-20T00:00:00+00:00",
          "xref": "x",
          "y0": 0,
          "y1": 1,
          "yref": "y domain"
         },
         {
          "line": {
           "color": "orange",
           "dash": "dash",
           "width": 1
          },
          "type": "line",
          "x0": "2022-01-27T00:00:00+00:00",
          "x1": "2022-01-27T00:00:00+00:00",
          "xref": "x",
          "y0": 0,
          "y1": 1,
          "yref": "y domain"
         },
         {
          "line": {
           "color": "orange",
           "dash": "dash",
           "width": 1
          },
          "type": "line",
          "x0": "2022-02-23T00:00:00+00:00",
          "x1": "2022-02-23T00:00:00+00:00",
          "xref": "x",
          "y0": 0,
          "y1": 1,
          "yref": "y domain"
         },
         {
          "line": {
           "color": "orange",
           "dash": "dash",
           "width": 1
          },
          "type": "line",
          "x0": "2022-03-14T00:00:00+00:00",
          "x1": "2022-03-14T00:00:00+00:00",
          "xref": "x",
          "y0": 0,
          "y1": 1,
          "yref": "y domain"
         },
         {
          "line": {
           "color": "orange",
           "dash": "dash",
           "width": 1
          },
          "type": "line",
          "x0": "2022-04-29T00:00:00+00:00",
          "x1": "2022-04-29T00:00:00+00:00",
          "xref": "x",
          "y0": 0,
          "y1": 1,
          "yref": "y domain"
         },
         {
          "line": {
           "color": "orange",
           "dash": "dash",
           "width": 1
          },
          "type": "line",
          "x0": "2022-05-11T00:00:00+00:00",
          "x1": "2022-05-11T00:00:00+00:00",
          "xref": "x",
          "y0": 0,
          "y1": 1,
          "yref": "y domain"
         },
         {
          "line": {
           "color": "orange",
           "dash": "dash",
           "width": 1
          },
          "type": "line",
          "x0": "2022-06-13T00:00:00+00:00",
          "x1": "2022-06-13T00:00:00+00:00",
          "xref": "x",
          "y0": 0,
          "y1": 1,
          "yref": "y domain"
         },
         {
          "line": {
           "color": "orange",
           "dash": "dash",
           "width": 1
          },
          "type": "line",
          "x0": "2022-07-14T00:00:00+00:00",
          "x1": "2022-07-14T00:00:00+00:00",
          "xref": "x",
          "y0": 0,
          "y1": 1,
          "yref": "y domain"
         },
         {
          "line": {
           "color": "orange",
           "dash": "dash",
           "width": 1
          },
          "type": "line",
          "x0": "2022-08-31T00:00:00+00:00",
          "x1": "2022-08-31T00:00:00+00:00",
          "xref": "x",
          "y0": 0,
          "y1": 1,
          "yref": "y domain"
         },
         {
          "line": {
           "color": "orange",
           "dash": "dash",
           "width": 1
          },
          "type": "line",
          "x0": "2022-09-06T00:00:00+00:00",
          "x1": "2022-09-06T00:00:00+00:00",
          "xref": "x",
          "y0": 0,
          "y1": 1,
          "yref": "y domain"
         },
         {
          "line": {
           "color": "orange",
           "dash": "dash",
           "width": 1
          },
          "type": "line",
          "x0": "2022-10-14T00:00:00+00:00",
          "x1": "2022-10-14T00:00:00+00:00",
          "xref": "x",
          "y0": 0,
          "y1": 1,
          "yref": "y domain"
         },
         {
          "line": {
           "color": "orange",
           "dash": "dash",
           "width": 1
          },
          "type": "line",
          "x0": "2022-11-09T00:00:00+00:00",
          "x1": "2022-11-09T00:00:00+00:00",
          "xref": "x",
          "y0": 0,
          "y1": 1,
          "yref": "y domain"
         },
         {
          "line": {
           "color": "orange",
           "dash": "dash",
           "width": 1
          },
          "type": "line",
          "x0": "2022-12-27T00:00:00+00:00",
          "x1": "2022-12-27T00:00:00+00:00",
          "xref": "x",
          "y0": 0,
          "y1": 1,
          "yref": "y domain"
         },
         {
          "line": {
           "color": "orange",
           "dash": "dash",
           "width": 1
          },
          "type": "line",
          "x0": "2023-01-05T00:00:00+00:00",
          "x1": "2023-01-05T00:00:00+00:00",
          "xref": "x",
          "y0": 0,
          "y1": 1,
          "yref": "y domain"
         },
         {
          "line": {
           "color": "orange",
           "dash": "dash",
           "width": 1
          },
          "type": "line",
          "x0": "2023-02-10T00:00:00+00:00",
          "x1": "2023-02-10T00:00:00+00:00",
          "xref": "x",
          "y0": 0,
          "y1": 1,
          "yref": "y domain"
         },
         {
          "line": {
           "color": "orange",
           "dash": "dash",
           "width": 1
          },
          "type": "line",
          "x0": "2023-03-10T00:00:00+00:00",
          "x1": "2023-03-10T00:00:00+00:00",
          "xref": "x",
          "y0": 0,
          "y1": 1,
          "yref": "y domain"
         },
         {
          "line": {
           "color": "orange",
           "dash": "dash",
           "width": 1
          },
          "type": "line",
          "x0": "2023-05-04T00:00:00+00:00",
          "x1": "2023-05-04T00:00:00+00:00",
          "xref": "x",
          "y0": 0,
          "y1": 1,
          "yref": "y domain"
         },
         {
          "line": {
           "color": "orange",
           "dash": "dash",
           "width": 1
          },
          "type": "line",
          "x0": "2023-06-26T00:00:00+00:00",
          "x1": "2023-06-26T00:00:00+00:00",
          "xref": "x",
          "y0": 0,
          "y1": 1,
          "yref": "y domain"
         },
         {
          "line": {
           "color": "orange",
           "dash": "dash",
           "width": 1
          },
          "type": "line",
          "x0": "2023-07-06T00:00:00+00:00",
          "x1": "2023-07-06T00:00:00+00:00",
          "xref": "x",
          "y0": 0,
          "y1": 1,
          "yref": "y domain"
         },
         {
          "line": {
           "color": "orange",
           "dash": "dash",
           "width": 1
          },
          "type": "line",
          "x0": "2023-08-24T00:00:00+00:00",
          "x1": "2023-08-24T00:00:00+00:00",
          "xref": "x",
          "y0": 0,
          "y1": 1,
          "yref": "y domain"
         },
         {
          "line": {
           "color": "orange",
           "dash": "dash",
           "width": 1
          },
          "type": "line",
          "x0": "2023-09-26T00:00:00+00:00",
          "x1": "2023-09-26T00:00:00+00:00",
          "xref": "x",
          "y0": 0,
          "y1": 1,
          "yref": "y domain"
         },
         {
          "line": {
           "color": "orange",
           "dash": "dash",
           "width": 1
          },
          "type": "line",
          "x0": "2023-10-30T00:00:00+00:00",
          "x1": "2023-10-30T00:00:00+00:00",
          "xref": "x",
          "y0": 0,
          "y1": 1,
          "yref": "y domain"
         },
         {
          "line": {
           "color": "orange",
           "dash": "dash",
           "width": 1
          },
          "type": "line",
          "x0": "2023-11-01T00:00:00+00:00",
          "x1": "2023-11-01T00:00:00+00:00",
          "xref": "x",
          "y0": 0,
          "y1": 1,
          "yref": "y domain"
         },
         {
          "line": {
           "color": "orange",
           "dash": "dash",
           "width": 1
          },
          "type": "line",
          "x0": "2023-12-06T00:00:00+00:00",
          "x1": "2023-12-06T00:00:00+00:00",
          "xref": "x",
          "y0": 0,
          "y1": 1,
          "yref": "y domain"
         },
         {
          "line": {
           "color": "orange",
           "dash": "dash",
           "width": 1
          },
          "type": "line",
          "x0": "2024-01-05T00:00:00+00:00",
          "x1": "2024-01-05T00:00:00+00:00",
          "xref": "x",
          "y0": 0,
          "y1": 1,
          "yref": "y domain"
         },
         {
          "line": {
           "color": "orange",
           "dash": "dash",
           "width": 1
          },
          "type": "line",
          "x0": "2024-02-01T00:00:00+00:00",
          "x1": "2024-02-01T00:00:00+00:00",
          "xref": "x",
          "y0": 0,
          "y1": 1,
          "yref": "y domain"
         },
         {
          "line": {
           "color": "orange",
           "dash": "dash",
           "width": 1
          },
          "type": "line",
          "x0": "2024-03-28T00:00:00+00:00",
          "x1": "2024-03-28T00:00:00+00:00",
          "xref": "x",
          "y0": 0,
          "y1": 1,
          "yref": "y domain"
         },
         {
          "line": {
           "color": "orange",
           "dash": "dash",
           "width": 1
          },
          "type": "line",
          "x0": "2024-04-19T00:00:00+00:00",
          "x1": "2024-04-19T00:00:00+00:00",
          "xref": "x",
          "y0": 0,
          "y1": 1,
          "yref": "y domain"
         },
         {
          "line": {
           "color": "orange",
           "dash": "dash",
           "width": 1
          },
          "type": "line",
          "x0": "2024-05-10T00:00:00+00:00",
          "x1": "2024-05-10T00:00:00+00:00",
          "xref": "x",
          "y0": 0,
          "y1": 1,
          "yref": "y domain"
         },
         {
          "line": {
           "color": "orange",
           "dash": "dash",
           "width": 1
          },
          "type": "line",
          "x0": "2024-06-03T00:00:00+00:00",
          "x1": "2024-06-03T00:00:00+00:00",
          "xref": "x",
          "y0": 0,
          "y1": 1,
          "yref": "y domain"
         },
         {
          "line": {
           "color": "orange",
           "dash": "dash",
           "width": 1
          },
          "type": "line",
          "x0": "2024-07-02T00:00:00+00:00",
          "x1": "2024-07-02T00:00:00+00:00",
          "xref": "x",
          "y0": 0,
          "y1": 1,
          "yref": "y domain"
         },
         {
          "line": {
           "color": "orange",
           "dash": "dash",
           "width": 1
          },
          "type": "line",
          "x0": "2024-08-05T00:00:00+00:00",
          "x1": "2024-08-05T00:00:00+00:00",
          "xref": "x",
          "y0": 0,
          "y1": 1,
          "yref": "y domain"
         },
         {
          "line": {
           "color": "orange",
           "dash": "dash",
           "width": 1
          },
          "type": "line",
          "x0": "2024-09-05T00:00:00+00:00",
          "x1": "2024-09-05T00:00:00+00:00",
          "xref": "x",
          "y0": 0,
          "y1": 1,
          "yref": "y domain"
         },
         {
          "line": {
           "color": "orange",
           "dash": "dash",
           "width": 1
          },
          "type": "line",
          "x0": "2024-10-01T00:00:00+00:00",
          "x1": "2024-10-01T00:00:00+00:00",
          "xref": "x",
          "y0": 0,
          "y1": 1,
          "yref": "y domain"
         },
         {
          "line": {
           "color": "orange",
           "dash": "dash",
           "width": 1
          },
          "type": "line",
          "x0": "2024-11-04T00:00:00+00:00",
          "x1": "2024-11-04T00:00:00+00:00",
          "xref": "x",
          "y0": 0,
          "y1": 1,
          "yref": "y domain"
         }
        ],
        "template": {
         "data": {
          "bar": [
           {
            "error_x": {
             "color": "#2a3f5f"
            },
            "error_y": {
             "color": "#2a3f5f"
            },
            "marker": {
             "line": {
              "color": "#E5ECF6",
              "width": 0.5
             },
             "pattern": {
              "fillmode": "overlay",
              "size": 10,
              "solidity": 0.2
             }
            },
            "type": "bar"
           }
          ],
          "barpolar": [
           {
            "marker": {
             "line": {
              "color": "#E5ECF6",
              "width": 0.5
             },
             "pattern": {
              "fillmode": "overlay",
              "size": 10,
              "solidity": 0.2
             }
            },
            "type": "barpolar"
           }
          ],
          "carpet": [
           {
            "aaxis": {
             "endlinecolor": "#2a3f5f",
             "gridcolor": "white",
             "linecolor": "white",
             "minorgridcolor": "white",
             "startlinecolor": "#2a3f5f"
            },
            "baxis": {
             "endlinecolor": "#2a3f5f",
             "gridcolor": "white",
             "linecolor": "white",
             "minorgridcolor": "white",
             "startlinecolor": "#2a3f5f"
            },
            "type": "carpet"
           }
          ],
          "choropleth": [
           {
            "colorbar": {
             "outlinewidth": 0,
             "ticks": ""
            },
            "type": "choropleth"
           }
          ],
          "contour": [
           {
            "colorbar": {
             "outlinewidth": 0,
             "ticks": ""
            },
            "colorscale": [
             [
              0,
              "#0d0887"
             ],
             [
              0.1111111111111111,
              "#46039f"
             ],
             [
              0.2222222222222222,
              "#7201a8"
             ],
             [
              0.3333333333333333,
              "#9c179e"
             ],
             [
              0.4444444444444444,
              "#bd3786"
             ],
             [
              0.5555555555555556,
              "#d8576b"
             ],
             [
              0.6666666666666666,
              "#ed7953"
             ],
             [
              0.7777777777777778,
              "#fb9f3a"
             ],
             [
              0.8888888888888888,
              "#fdca26"
             ],
             [
              1,
              "#f0f921"
             ]
            ],
            "type": "contour"
           }
          ],
          "contourcarpet": [
           {
            "colorbar": {
             "outlinewidth": 0,
             "ticks": ""
            },
            "type": "contourcarpet"
           }
          ],
          "heatmap": [
           {
            "colorbar": {
             "outlinewidth": 0,
             "ticks": ""
            },
            "colorscale": [
             [
              0,
              "#0d0887"
             ],
             [
              0.1111111111111111,
              "#46039f"
             ],
             [
              0.2222222222222222,
              "#7201a8"
             ],
             [
              0.3333333333333333,
              "#9c179e"
             ],
             [
              0.4444444444444444,
              "#bd3786"
             ],
             [
              0.5555555555555556,
              "#d8576b"
             ],
             [
              0.6666666666666666,
              "#ed7953"
             ],
             [
              0.7777777777777778,
              "#fb9f3a"
             ],
             [
              0.8888888888888888,
              "#fdca26"
             ],
             [
              1,
              "#f0f921"
             ]
            ],
            "type": "heatmap"
           }
          ],
          "heatmapgl": [
           {
            "colorbar": {
             "outlinewidth": 0,
             "ticks": ""
            },
            "colorscale": [
             [
              0,
              "#0d0887"
             ],
             [
              0.1111111111111111,
              "#46039f"
             ],
             [
              0.2222222222222222,
              "#7201a8"
             ],
             [
              0.3333333333333333,
              "#9c179e"
             ],
             [
              0.4444444444444444,
              "#bd3786"
             ],
             [
              0.5555555555555556,
              "#d8576b"
             ],
             [
              0.6666666666666666,
              "#ed7953"
             ],
             [
              0.7777777777777778,
              "#fb9f3a"
             ],
             [
              0.8888888888888888,
              "#fdca26"
             ],
             [
              1,
              "#f0f921"
             ]
            ],
            "type": "heatmapgl"
           }
          ],
          "histogram": [
           {
            "marker": {
             "pattern": {
              "fillmode": "overlay",
              "size": 10,
              "solidity": 0.2
             }
            },
            "type": "histogram"
           }
          ],
          "histogram2d": [
           {
            "colorbar": {
             "outlinewidth": 0,
             "ticks": ""
            },
            "colorscale": [
             [
              0,
              "#0d0887"
             ],
             [
              0.1111111111111111,
              "#46039f"
             ],
             [
              0.2222222222222222,
              "#7201a8"
             ],
             [
              0.3333333333333333,
              "#9c179e"
             ],
             [
              0.4444444444444444,
              "#bd3786"
             ],
             [
              0.5555555555555556,
              "#d8576b"
             ],
             [
              0.6666666666666666,
              "#ed7953"
             ],
             [
              0.7777777777777778,
              "#fb9f3a"
             ],
             [
              0.8888888888888888,
              "#fdca26"
             ],
             [
              1,
              "#f0f921"
             ]
            ],
            "type": "histogram2d"
           }
          ],
          "histogram2dcontour": [
           {
            "colorbar": {
             "outlinewidth": 0,
             "ticks": ""
            },
            "colorscale": [
             [
              0,
              "#0d0887"
             ],
             [
              0.1111111111111111,
              "#46039f"
             ],
             [
              0.2222222222222222,
              "#7201a8"
             ],
             [
              0.3333333333333333,
              "#9c179e"
             ],
             [
              0.4444444444444444,
              "#bd3786"
             ],
             [
              0.5555555555555556,
              "#d8576b"
             ],
             [
              0.6666666666666666,
              "#ed7953"
             ],
             [
              0.7777777777777778,
              "#fb9f3a"
             ],
             [
              0.8888888888888888,
              "#fdca26"
             ],
             [
              1,
              "#f0f921"
             ]
            ],
            "type": "histogram2dcontour"
           }
          ],
          "mesh3d": [
           {
            "colorbar": {
             "outlinewidth": 0,
             "ticks": ""
            },
            "type": "mesh3d"
           }
          ],
          "parcoords": [
           {
            "line": {
             "colorbar": {
              "outlinewidth": 0,
              "ticks": ""
             }
            },
            "type": "parcoords"
           }
          ],
          "pie": [
           {
            "automargin": true,
            "type": "pie"
           }
          ],
          "scatter": [
           {
            "fillpattern": {
             "fillmode": "overlay",
             "size": 10,
             "solidity": 0.2
            },
            "type": "scatter"
           }
          ],
          "scatter3d": [
           {
            "line": {
             "colorbar": {
              "outlinewidth": 0,
              "ticks": ""
             }
            },
            "marker": {
             "colorbar": {
              "outlinewidth": 0,
              "ticks": ""
             }
            },
            "type": "scatter3d"
           }
          ],
          "scattercarpet": [
           {
            "marker": {
             "colorbar": {
              "outlinewidth": 0,
              "ticks": ""
             }
            },
            "type": "scattercarpet"
           }
          ],
          "scattergeo": [
           {
            "marker": {
             "colorbar": {
              "outlinewidth": 0,
              "ticks": ""
             }
            },
            "type": "scattergeo"
           }
          ],
          "scattergl": [
           {
            "marker": {
             "colorbar": {
              "outlinewidth": 0,
              "ticks": ""
             }
            },
            "type": "scattergl"
           }
          ],
          "scattermapbox": [
           {
            "marker": {
             "colorbar": {
              "outlinewidth": 0,
              "ticks": ""
             }
            },
            "type": "scattermapbox"
           }
          ],
          "scatterpolar": [
           {
            "marker": {
             "colorbar": {
              "outlinewidth": 0,
              "ticks": ""
             }
            },
            "type": "scatterpolar"
           }
          ],
          "scatterpolargl": [
           {
            "marker": {
             "colorbar": {
              "outlinewidth": 0,
              "ticks": ""
             }
            },
            "type": "scatterpolargl"
           }
          ],
          "scatterternary": [
           {
            "marker": {
             "colorbar": {
              "outlinewidth": 0,
              "ticks": ""
             }
            },
            "type": "scatterternary"
           }
          ],
          "surface": [
           {
            "colorbar": {
             "outlinewidth": 0,
             "ticks": ""
            },
            "colorscale": [
             [
              0,
              "#0d0887"
             ],
             [
              0.1111111111111111,
              "#46039f"
             ],
             [
              0.2222222222222222,
              "#7201a8"
             ],
             [
              0.3333333333333333,
              "#9c179e"
             ],
             [
              0.4444444444444444,
              "#bd3786"
             ],
             [
              0.5555555555555556,
              "#d8576b"
             ],
             [
              0.6666666666666666,
              "#ed7953"
             ],
             [
              0.7777777777777778,
              "#fb9f3a"
             ],
             [
              0.8888888888888888,
              "#fdca26"
             ],
             [
              1,
              "#f0f921"
             ]
            ],
            "type": "surface"
           }
          ],
          "table": [
           {
            "cells": {
             "fill": {
              "color": "#EBF0F8"
             },
             "line": {
              "color": "white"
             }
            },
            "header": {
             "fill": {
              "color": "#C8D4E3"
             },
             "line": {
              "color": "white"
             }
            },
            "type": "table"
           }
          ]
         },
         "layout": {
          "annotationdefaults": {
           "arrowcolor": "#2a3f5f",
           "arrowhead": 0,
           "arrowwidth": 1
          },
          "autotypenumbers": "strict",
          "coloraxis": {
           "colorbar": {
            "outlinewidth": 0,
            "ticks": ""
           }
          },
          "colorscale": {
           "diverging": [
            [
             0,
             "#8e0152"
            ],
            [
             0.1,
             "#c51b7d"
            ],
            [
             0.2,
             "#de77ae"
            ],
            [
             0.3,
             "#f1b6da"
            ],
            [
             0.4,
             "#fde0ef"
            ],
            [
             0.5,
             "#f7f7f7"
            ],
            [
             0.6,
             "#e6f5d0"
            ],
            [
             0.7,
             "#b8e186"
            ],
            [
             0.8,
             "#7fbc41"
            ],
            [
             0.9,
             "#4d9221"
            ],
            [
             1,
             "#276419"
            ]
           ],
           "sequential": [
            [
             0,
             "#0d0887"
            ],
            [
             0.1111111111111111,
             "#46039f"
            ],
            [
             0.2222222222222222,
             "#7201a8"
            ],
            [
             0.3333333333333333,
             "#9c179e"
            ],
            [
             0.4444444444444444,
             "#bd3786"
            ],
            [
             0.5555555555555556,
             "#d8576b"
            ],
            [
             0.6666666666666666,
             "#ed7953"
            ],
            [
             0.7777777777777778,
             "#fb9f3a"
            ],
            [
             0.8888888888888888,
             "#fdca26"
            ],
            [
             1,
             "#f0f921"
            ]
           ],
           "sequentialminus": [
            [
             0,
             "#0d0887"
            ],
            [
             0.1111111111111111,
             "#46039f"
            ],
            [
             0.2222222222222222,
             "#7201a8"
            ],
            [
             0.3333333333333333,
             "#9c179e"
            ],
            [
             0.4444444444444444,
             "#bd3786"
            ],
            [
             0.5555555555555556,
             "#d8576b"
            ],
            [
             0.6666666666666666,
             "#ed7953"
            ],
            [
             0.7777777777777778,
             "#fb9f3a"
            ],
            [
             0.8888888888888888,
             "#fdca26"
            ],
            [
             1,
             "#f0f921"
            ]
           ]
          },
          "colorway": [
           "#636efa",
           "#EF553B",
           "#00cc96",
           "#ab63fa",
           "#FFA15A",
           "#19d3f3",
           "#FF6692",
           "#B6E880",
           "#FF97FF",
           "#FECB52"
          ],
          "font": {
           "color": "#2a3f5f"
          },
          "geo": {
           "bgcolor": "white",
           "lakecolor": "white",
           "landcolor": "#E5ECF6",
           "showlakes": true,
           "showland": true,
           "subunitcolor": "white"
          },
          "hoverlabel": {
           "align": "left"
          },
          "hovermode": "closest",
          "mapbox": {
           "style": "light"
          },
          "paper_bgcolor": "white",
          "plot_bgcolor": "#E5ECF6",
          "polar": {
           "angularaxis": {
            "gridcolor": "white",
            "linecolor": "white",
            "ticks": ""
           },
           "bgcolor": "#E5ECF6",
           "radialaxis": {
            "gridcolor": "white",
            "linecolor": "white",
            "ticks": ""
           }
          },
          "scene": {
           "xaxis": {
            "backgroundcolor": "#E5ECF6",
            "gridcolor": "white",
            "gridwidth": 2,
            "linecolor": "white",
            "showbackground": true,
            "ticks": "",
            "zerolinecolor": "white"
           },
           "yaxis": {
            "backgroundcolor": "#E5ECF6",
            "gridcolor": "white",
            "gridwidth": 2,
            "linecolor": "white",
            "showbackground": true,
            "ticks": "",
            "zerolinecolor": "white"
           },
           "zaxis": {
            "backgroundcolor": "#E5ECF6",
            "gridcolor": "white",
            "gridwidth": 2,
            "linecolor": "white",
            "showbackground": true,
            "ticks": "",
            "zerolinecolor": "white"
           }
          },
          "shapedefaults": {
           "line": {
            "color": "#2a3f5f"
           }
          },
          "ternary": {
           "aaxis": {
            "gridcolor": "white",
            "linecolor": "white",
            "ticks": ""
           },
           "baxis": {
            "gridcolor": "white",
            "linecolor": "white",
            "ticks": ""
           },
           "bgcolor": "#E5ECF6",
           "caxis": {
            "gridcolor": "white",
            "linecolor": "white",
            "ticks": ""
           }
          },
          "title": {
           "x": 0.05
          },
          "xaxis": {
           "automargin": true,
           "gridcolor": "white",
           "linecolor": "white",
           "ticks": "",
           "title": {
            "standoff": 15
           },
           "zerolinecolor": "white",
           "zerolinewidth": 2
          },
          "yaxis": {
           "automargin": true,
           "gridcolor": "white",
           "linecolor": "white",
           "ticks": "",
           "title": {
            "standoff": 15
           },
           "zerolinecolor": "white",
           "zerolinewidth": 2
          }
         }
        },
        "xaxis": {
         "anchor": "y",
         "autorange": true,
         "domain": [
          0,
          1
         ],
         "range": [
          "2021-02-19",
          "2024-11-08"
         ],
         "title": {
          "text": "date"
         },
         "type": "date"
        },
        "yaxis": {
         "anchor": "x",
         "autorange": true,
         "domain": [
          0,
          1
         ],
         "range": [
          3.089444444444444,
          61.300555555555555
         ],
         "title": {
          "text": "real_adj_close"
         },
         "type": "linear"
        }
       }
      },
      "image/png": "[encoded data removed]",
      "text/html": [
       "<div>                            <div id=\"bf72395c-3dbe-4811-9111-f91d76c34787\" class=\"plotly-graph-div\" style=\"height:525px; width:100%;\"></div>            <script type=\"text/javascript\">                require([\"plotly\"], function(Plotly) {                    window.PLOTLYENV=window.PLOTLYENV || {};                                    if (document.getElementById(\"bf72395c-3dbe-4811-9111-f91d76c34787\")) {                    Plotly.newPlot(                        \"bf72395c-3dbe-4811-9111-f91d76c34787\",                        [{\"hovertemplate\":\"date=%{x}\\u003cbr\\u003ereal_adj_close=%{y}\\u003cextra\\u003e\\u003c\\u002fextra\\u003e\",\"legendgroup\":\"\",\"line\":{\"color\":\"#636efa\",\"dash\":\"solid\"},\"marker\":{\"symbol\":\"circle\"},\"mode\":\"lines\",\"name\":\"\",\"orientation\":\"v\",\"showlegend\":false,\"x\":[\"2021-02-19T00:00:00+00:00\",\"2021-02-22T00:00:00+00:00\",\"2021-02-23T00:00:00+00:00\",\"2021-02-24T00:00:00+00:00\",\"2021-02-25T00:00:00+00:00\",\"2021-02-26T00:00:00+00:00\",\"2021-03-01T00:00:00+00:00\",\"2021-03-02T00:00:00+00:00\",\"2021-03-03T00:00:00+00:00\",\"2021-03-04T00:00:00+00:00\",\"2021-03-05T00:00:00+00:00\",\"2021-03-08T00:00:00+00:00\",\"2021-03-09T00:00:00+00:00\",\"2021-03-10T00:00:00+00:00\",\"2021-03-11T00:00:00+00:00\",\"2021-03-12T00:00:00+00:00\",\"2021-03-15T00:00:00+00:00\",\"2021-03-16T00:00:00+00:00\",\"2021-03-17T00:00:00+00:00\",\"2021-03-18T00:00:00+00:00\",\"2021-03-19T00:00:00+00:00\",\"2021-03-22T00:00:00+00:00\",\"2021-03-23T00:00:00+00:00\",\"2021-03-24T00:00:00+00:00\",\"2021-03-25T00:00:00+00:00\",\"2021-03-26T00:00:00+00:00\",\"2021-03-29T00:00:00+00:00\",\"2021-03-30T00:00:00+00:00\",\"2021-03-31T00:00:00+00:00\",\"2021-04-01T00:00:00+00:00\",\"2021-04-05T00:00:00+00:00\",\"2021-04-06T00:00:00+00:00\",\"2021-04-07T00:00:00+00:00\",\"2021-04-08T00:00:00+00:00\",\"2021-04-09T00:00:00+00:00\",\"2021-04-12T00:00:00+00:00\",\"2021-04-13T00:00:00+00:00\",\"2021-04-14T00:00:00+00:00\",\"2021-04-15T00:00:00+00:00\",\"2021-04-16T00:00:00+00:00\",\"2021-04-19T00:00:00+00:00\",\"2021-04-20T00:00:00+00:00\",\"2021-04-21T00:00:00+00:00\",\"2021-04-22T00:00:00+00:00\",\"2021-04-23T00:00:00+00:00\",\"2021-04-26T00:00:00+00:00\",\"2021-04-27T00:00:00+00:00\",\"2021-04-28T00:00:00+00:00\",\"2021-04-29T00:00:00+00:00\",\"2021-04-30T00:00:00+00:00\",\"2021-05-03T00:00:00+00:00\",\"2021-05-04T00:00:00+00:00\",\"2021-05-05T00:00:00+00:00\",\"2021-05-06T00:00:00+00:00\",\"2021-05-07T00:00:00+00:00\",\"2021-05-10T00:00:00+00:00\",\"2021-05-11T00:00:00+00:00\",\"2021-05-12T00:00:00+00:00\",\"2021-05-13T00:00:00+00:00\",\"2021-05-14T00:00:00+00:00\",\"2021-05-17T00:00:00+00:00\",\"2021-05-18T00:00:00+00:00\",\"2021-05-19T00:00:00+00:00\",\"2021-05-20T00:00:00+00:00\",\"2021-05-21T00:00:00+00:00\",\"2021-05-24T00:00:00+00:00\",\"2021-05-25T00:00:00+00:00\",\"2021-05-26T00:00:00+00:00\",\"2021-05-27T00:00:00+00:00\",\"2021-05-28T00:00:00+00:00\",\"2021-06-01T00:00:00+00:00\",\"2021-06-02T00:00:00+00:00\",\"2021-06-03T00:00:00+00:00\",\"2021-06-04T00:00:00+00:00\",\"2021-06-07T00:00:00+00:00\",\"2021-06-08T00:00:00+00:00\",\"2021-06-09T00:00:00+00:00\",\"2021-06-10T00:00:00+00:00\",\"2021-06-11T00:00:00+00:00\",\"2021-06-14T00:00:00+00:00\",\"2021-06-15T00:00:00+00:00\",\"2021-06-16T00:00:00+00:00\",\"2021-06-17T00:00:00+00:00\",\"2021-06-18T00:00:00+00:00\",\"2021-06-21T00:00:00+00:00\",\"2021-06-22T00:00:00+00:00\",\"2021-06-23T00:00:00+00:00\",\"2021-06-24T00:00:00+00:00\",\"2021-06-25T00:00:00+00:00\",\"2021-06-28T00:00:00+00:00\",\"2021-06-29T00:00:00+00:00\",\"2021-06-30T00:00:00+00:00\",\"2021-07-01T00:00:00+00:00\",\"2021-07-02T00:00:00+00:00\",\"2021-07-06T00:00:00+00:00\",\"2021-07-07T00:00:00+00:00\",\"2021-07-08T00:00:00+00:00\",\"2021-07-09T00:00:00+00:00\",\"2021-07-12T00:00:00+00:00\",\"2021-07-13T00:00:00+00:00\",\"2021-07-14T00:00:00+00:00\",\"2021-07-15T00:00:00+00:00\",\"2021-07-16T00:00:00+00:00\",\"2021-07-19T00:00:00+00:00\",\"2021-07-20T00:00:00+00:00\",\"2021-07-21T00:00:00+00:00\",\"2021-07-22T00:00:00+00:00\",\"2021-07-23T00:00:00+00:00\",\"2021-07-26T00:00:00+00:00\",\"2021-07-27T00:00:00+00:00\",\"2021-07-28T00:00:00+00:00\",\"2021-07-29T00:00:00+00:00\",\"2021-07-30T00:00:00+00:00\",\"2021-08-02T00:00:00+00:00\",\"2021-08-03T00:00:00+00:00\",\"2021-08-04T00:00:00+00:00\",\"2021-08-05T00:00:00+00:00\",\"2021-08-06T00:00:00+00:00\",\"2021-08-09T00:00:00+00:00\",\"2021-08-10T00:00:00+00:00\",\"2021-08-11T00:00:00+00:00\",\"2021-08-12T00:00:00+00:00\",\"2021-08-13T00:00:00+00:00\",\"2021-08-16T00:00:00+00:00\",\"2021-08-17T00:00:00+00:00\",\"2021-08-18T00:00:00+00:00\",\"2021-08-19T00:00:00+00:00\",\"2021-08-20T00:00:00+00:00\",\"2021-08-23T00:00:00+00:00\",\"2021-08-24T00:00:00+00:00\",\"2021-08-25T00:00:00+00:00\",\"2021-08-26T00:00:00+00:00\",\"2021-08-27T00:00:00+00:00\",\"2021-08-30T00:00:00+00:00\",\"2021-08-31T00:00:00+00:00\",\"2021-09-01T00:00:00+00:00\",\"2021-09-02T00:00:00+00:00\",\"2021-09-03T00:00:00+00:00\",\"2021-09-07T00:00:00+00:00\",\"2021-09-08T00:00:00+00:00\",\"2021-09-09T00:00:00+00:00\",\"2021-09-10T00:00:00+00:00\",\"2021-09-13T00:00:00+00:00\",\"2021-09-14T00:00:00+00:00\",\"2021-09-15T00:00:00+00:00\",\"2021-09-16T00:00:00+00:00\",\"2021-09-17T00:00:00+00:00\",\"2021-09-20T00:00:00+00:00\",\"2021-09-21T00:00:00+00:00\",\"2021-09-22T00:00:00+00:00\",\"2021-09-23T00:00:00+00:00\",\"2021-09-24T00:00:00+00:00\",\"2021-09-27T00:00:00+00:00\",\"2021-09-28T00:00:00+00:00\",\"2021-09-29T00:00:00+00:00\",\"2021-09-30T00:00:00+00:00\",\"2021-10-01T00:00:00+00:00\",\"2021-10-04T00:00:00+00:00\",\"2021-10-05T00:00:00+00:00\",\"2021-10-06T00:00:00+00:00\",\"2021-10-07T00:00:00+00:00\",\"2021-10-08T00:00:00+00:00\",\"2021-10-11T00:00:00+00:00\",\"2021-10-12T00:00:00+00:00\",\"2021-10-13T00:00:00+00:00\",\"2021-10-14T00:00:00+00:00\",\"2021-10-15T00:00:00+00:00\",\"2021-10-18T00:00:00+00:00\",\"2021-10-19T00:00:00+00:00\",\"2021-10-20T00:00:00+00:00\",\"2021-10-21T00:00:00+00:00\",\"2021-10-22T00:00:00+00:00\",\"2021-10-25T00:00:00+00:00\",\"2021-10-26T00:00:00+00:00\",\"2021-10-27T00:00:00+00:00\",\"2021-10-28T00:00:00+00:00\",\"2021-10-29T00:00:00+00:00\",\"2021-11-01T00:00:00+00:00\",\"2021-11-02T00:00:00+00:00\",\"2021-11-03T00:00:00+00:00\",\"2021-11-04T00:00:00+00:00\",\"2021-11-05T00:00:00+00:00\",\"2021-11-08T00:00:00+00:00\",\"2021-11-09T00:00:00+00:00\",\"2021-11-10T00:00:00+00:00\",\"2021-11-11T00:00:00+00:00\",\"2021-11-12T00:00:00+00:00\",\"2021-11-15T00:00:00+00:00\",\"2021-11-16T00:00:00+00:00\",\"2021-11-17T00:00:00+00:00\",\"2021-11-18T00:00:00+00:00\",\"2021-11-19T00:00:00+00:00\",\"2021-11-22T00:00:00+00:00\",\"2021-11-23T00:00:00+00:00\",\"2021-11-24T00:00:00+00:00\",\"2021-11-26T00:00:00+00:00\",\"2021-11-29T00:00:00+00:00\",\"2021-11-30T00:00:00+00:00\",\"2021-12-01T00:00:00+00:00\",\"2021-12-02T00:00:00+00:00\",\"2021-12-03T00:00:00+00:00\",\"2021-12-06T00:00:00+00:00\",\"2021-12-07T00:00:00+00:00\",\"2021-12-08T00:00:00+00:00\",\"2021-12-09T00:00:00+00:00\",\"2021-12-10T00:00:00+00:00\",\"2021-12-13T00:00:00+00:00\",\"2021-12-14T00:00:00+00:00\",\"2021-12-15T00:00:00+00:00\",\"2021-12-16T00:00:00+00:00\",\"2021-12-17T00:00:00+00:00\",\"2021-12-20T00:00:00+00:00\",\"2021-12-21T00:00:00+00:00\",\"2021-12-22T00:00:00+00:00\",\"2021-12-23T00:00:00+00:00\",\"2021-12-27T00:00:00+00:00\",\"2021-12-28T00:00:00+00:00\",\"2021-12-29T00:00:00+00:00\",\"2021-12-30T00:00:00+00:00\",\"2021-12-31T00:00:00+00:00\",\"2022-01-03T00:00:00+00:00\",\"2022-01-04T00:00:00+00:00\",\"2022-01-05T00:00:00+00:00\",\"2022-01-06T00:00:00+00:00\",\"2022-01-07T00:00:00+00:00\",\"2022-01-10T00:00:00+00:00\",\"2022-01-11T00:00:00+00:00\",\"2022-01-12T00:00:00+00:00\",\"2022-01-13T00:00:00+00:00\",\"2022-01-14T00:00:00+00:00\",\"2022-01-18T00:00:00+00:00\",\"2022-01-19T00:00:00+00:00\",\"2022-01-20T00:00:00+00:00\",\"2022-01-21T00:00:00+00:00\",\"2022-01-24T00:00:00+00:00\",\"2022-01-25T00:00:00+00:00\",\"2022-01-26T00:00:00+00:00\",\"2022-01-27T00:00:00+00:00\",\"2022-01-28T00:00:00+00:00\",\"2022-01-31T00:00:00+00:00\",\"2022-02-01T00:00:00+00:00\",\"2022-02-02T00:00:00+00:00\",\"2022-02-03T00:00:00+00:00\",\"2022-02-04T00:00:00+00:00\",\"2022-02-07T00:00:00+00:00\",\"2022-02-08T00:00:00+00:00\",\"2022-02-09T00:00:00+00:00\",\"2022-02-10T00:00:00+00:00\",\"2022-02-11T00:00:00+00:00\",\"2022-02-14T00:00:00+00:00\",\"2022-02-15T00:00:00+00:00\",\"2022-02-16T00:00:00+00:00\",\"2022-02-17T00:00:00+00:00\",\"2022-02-18T00:00:00+00:00\",\"2022-02-22T00:00:00+00:00\",\"2022-02-23T00:00:00+00:00\",\"2022-02-24T00:00:00+00:00\",\"2022-02-25T00:00:00+00:00\",\"2022-02-28T00:00:00+00:00\",\"2022-03-01T00:00:00+00:00\",\"2022-03-02T00:00:00+00:00\",\"2022-03-03T00:00:00+00:00\",\"2022-03-04T00:00:00+00:00\",\"2022-03-07T00:00:00+00:00\",\"2022-03-08T00:00:00+00:00\",\"2022-03-09T00:00:00+00:00\",\"2022-03-10T00:00:00+00:00\",\"2022-03-11T00:00:00+00:00\",\"2022-03-14T00:00:00+00:00\",\"2022-03-15T00:00:00+00:00\",\"2022-03-16T00:00:00+00:00\",\"2022-03-17T00:00:00+00:00\",\"2022-03-18T00:00:00+00:00\",\"2022-03-21T00:00:00+00:00\",\"2022-03-22T00:00:00+00:00\",\"2022-03-23T00:00:00+00:00\",\"2022-03-24T00:00:00+00:00\",\"2022-03-25T00:00:00+00:00\",\"2022-03-28T00:00:00+00:00\",\"2022-03-29T00:00:00+00:00\",\"2022-03-30T00:00:00+00:00\",\"2022-03-31T00:00:00+00:00\",\"2022-04-01T00:00:00+00:00\",\"2022-04-04T00:00:00+00:00\",\"2022-04-05T00:00:00+00:00\",\"2022-04-06T00:00:00+00:00\",\"2022-04-07T00:00:00+00:00\",\"2022-04-08T00:00:00+00:00\",\"2022-04-11T00:00:00+00:00\",\"2022-04-12T00:00:00+00:00\",\"2022-04-13T00:00:00+00:00\",\"2022-04-14T00:00:00+00:00\",\"2022-04-18T00:00:00+00:00\",\"2022-04-19T00:00:00+00:00\",\"2022-04-20T00:00:00+00:00\",\"2022-04-21T00:00:00+00:00\",\"2022-04-22T00:00:00+00:00\",\"2022-04-25T00:00:00+00:00\",\"2022-04-26T00:00:00+00:00\",\"2022-04-27T00:00:00+00:00\",\"2022-04-28T00:00:00+00:00\",\"2022-04-29T00:00:00+00:00\",\"2022-05-02T00:00:00+00:00\",\"2022-05-03T00:00:00+00:00\",\"2022-05-04T00:00:00+00:00\",\"2022-05-05T00:00:00+00:00\",\"2022-05-06T00:00:00+00:00\",\"2022-05-09T00:00:00+00:00\",\"2022-05-10T00:00:00+00:00\",\"2022-05-11T00:00:00+00:00\",\"2022-05-12T00:00:00+00:00\",\"2022-05-13T00:00:00+00:00\",\"2022-05-16T00:00:00+00:00\",\"2022-05-17T00:00:00+00:00\",\"2022-05-18T00:00:00+00:00\",\"2022-05-19T00:00:00+00:00\",\"2022-05-20T00:00:00+00:00\",\"2022-05-23T00:00:00+00:00\",\"2022-05-24T00:00:00+00:00\",\"2022-05-25T00:00:00+00:00\",\"2022-05-26T00:00:00+00:00\",\"2022-05-27T00:00:00+00:00\",\"2022-05-31T00:00:00+00:00\",\"2022-06-01T00:00:00+00:00\",\"2022-06-02T00:00:00+00:00\",\"2022-06-03T00:00:00+00:00\",\"2022-06-06T00:00:00+00:00\",\"2022-06-07T00:00:00+00:00\",\"2022-06-08T00:00:00+00:00\",\"2022-06-09T00:00:00+00:00\",\"2022-06-10T00:00:00+00:00\",\"2022-06-13T00:00:00+00:00\",\"2022-06-14T00:00:00+00:00\",\"2022-06-15T00:00:00+00:00\",\"2022-06-16T00:00:00+00:00\",\"2022-06-17T00:00:00+00:00\",\"2022-06-21T00:00:00+00:00\",\"2022-06-22T00:00:00+00:00\",\"2022-06-23T00:00:00+00:00\",\"2022-06-24T00:00:00+00:00\",\"2022-06-27T00:00:00+00:00\",\"2022-06-28T00:00:00+00:00\",\"2022-06-29T00:00:00+00:00\",\"2022-06-30T00:00:00+00:00\",\"2022-07-01T00:00:00+00:00\",\"2022-07-05T00:00:00+00:00\",\"2022-07-06T00:00:00+00:00\",\"2022-07-07T00:00:00+00:00\",\"2022-07-08T00:00:00+00:00\",\"2022-07-11T00:00:00+00:00\",\"2022-07-12T00:00:00+00:00\",\"2022-07-13T00:00:00+00:00\",\"2022-07-14T00:00:00+00:00\",\"2022-07-15T00:00:00+00:00\",\"2022-07-18T00:00:00+00:00\",\"2022-07-19T00:00:00+00:00\",\"2022-07-20T00:00:00+00:00\",\"2022-07-21T00:00:00+00:00\",\"2022-07-22T00:00:00+00:00\",\"2022-07-25T00:00:00+00:00\",\"2022-07-26T00:00:00+00:00\",\"2022-07-27T00:00:00+00:00\",\"2022-07-28T00:00:00+00:00\",\"2022-07-29T00:00:00+00:00\",\"2022-08-01T00:00:00+00:00\",\"2022-08-02T00:00:00+00:00\",\"2022-08-03T00:00:00+00:00\",\"2022-08-04T00:00:00+00:00\",\"2022-08-05T00:00:00+00:00\",\"2022-08-08T00:00:00+00:00\",\"2022-08-09T00:00:00+00:00\",\"2022-08-10T00:00:00+00:00\",\"2022-08-11T00:00:00+00:00\",\"2022-08-12T00:00:00+00:00\",\"2022-08-15T00:00:00+00:00\",\"2022-08-16T00:00:00+00:00\",\"2022-08-17T00:00:00+00:00\",\"2022-08-18T00:00:00+00:00\",\"2022-08-19T00:00:00+00:00\",\"2022-08-22T00:00:00+00:00\",\"2022-08-23T00:00:00+00:00\",\"2022-08-24T00:00:00+00:00\",\"2022-08-25T00:00:00+00:00\",\"2022-08-26T00:00:00+00:00\",\"2022-08-29T00:00:00+00:00\",\"2022-08-30T00:00:00+00:00\",\"2022-08-31T00:00:00+00:00\",\"2022-09-01T00:00:00+00:00\",\"2022-09-02T00:00:00+00:00\",\"2022-09-06T00:00:00+00:00\",\"2022-09-07T00:00:00+00:00\",\"2022-09-08T00:00:00+00:00\",\"2022-09-09T00:00:00+00:00\",\"2022-09-12T00:00:00+00:00\",\"2022-09-13T00:00:00+00:00\",\"2022-09-14T00:00:00+00:00\",\"2022-09-15T00:00:00+00:00\",\"2022-09-16T00:00:00+00:00\",\"2022-09-19T00:00:00+00:00\",\"2022-09-20T00:00:00+00:00\",\"2022-09-21T00:00:00+00:00\",\"2022-09-22T00:00:00+00:00\",\"2022-09-23T00:00:00+00:00\",\"2022-09-26T00:00:00+00:00\",\"2022-09-27T00:00:00+00:00\",\"2022-09-28T00:00:00+00:00\",\"2022-09-29T00:00:00+00:00\",\"2022-09-30T00:00:00+00:00\",\"2022-10-03T00:00:00+00:00\",\"2022-10-04T00:00:00+00:00\",\"2022-10-05T00:00:00+00:00\",\"2022-10-06T00:00:00+00:00\",\"2022-10-07T00:00:00+00:00\",\"2022-10-10T00:00:00+00:00\",\"2022-10-11T00:00:00+00:00\",\"2022-10-12T00:00:00+00:00\",\"2022-10-13T00:00:00+00:00\",\"2022-10-14T00:00:00+00:00\",\"2022-10-17T00:00:00+00:00\",\"2022-10-18T00:00:00+00:00\",\"2022-10-19T00:00:00+00:00\",\"2022-10-20T00:00:00+00:00\",\"2022-10-21T00:00:00+00:00\",\"2022-10-24T00:00:00+00:00\",\"2022-10-25T00:00:00+00:00\",\"2022-10-26T00:00:00+00:00\",\"2022-10-27T00:00:00+00:00\",\"2022-10-28T00:00:00+00:00\",\"2022-10-31T00:00:00+00:00\",\"2022-11-01T00:00:00+00:00\",\"2022-11-02T00:00:00+00:00\",\"2022-11-03T00:00:00+00:00\",\"2022-11-04T00:00:00+00:00\",\"2022-11-07T00:00:00+00:00\",\"2022-11-08T00:00:00+00:00\",\"2022-11-09T00:00:00+00:00\",\"2022-11-10T00:00:00+00:00\",\"2022-11-11T00:00:00+00:00\",\"2022-11-14T00:00:00+00:00\",\"2022-11-15T00:00:00+00:00\",\"2022-11-16T00:00:00+00:00\",\"2022-11-17T00:00:00+00:00\",\"2022-11-18T00:00:00+00:00\",\"2022-11-21T00:00:00+00:00\",\"2022-11-22T00:00:00+00:00\",\"2022-11-23T00:00:00+00:00\",\"2022-11-25T00:00:00+00:00\",\"2022-11-28T00:00:00+00:00\",\"2022-11-29T00:00:00+00:00\",\"2022-11-30T00:00:00+00:00\",\"2022-12-01T00:00:00+00:00\",\"2022-12-02T00:00:00+00:00\",\"2022-12-05T00:00:00+00:00\",\"2022-12-06T00:00:00+00:00\",\"2022-12-07T00:00:00+00:00\",\"2022-12-08T00:00:00+00:00\",\"2022-12-09T00:00:00+00:00\",\"2022-12-12T00:00:00+00:00\",\"2022-12-13T00:00:00+00:00\",\"2022-12-14T00:00:00+00:00\",\"2022-12-15T00:00:00+00:00\",\"2022-12-16T00:00:00+00:00\",\"2022-12-19T00:00:00+00:00\",\"2022-12-20T00:00:00+00:00\",\"2022-12-21T00:00:00+00:00\",\"2022-12-22T00:00:00+00:00\",\"2022-12-23T00:00:00+00:00\",\"2022-12-27T00:00:00+00:00\",\"2022-12-28T00:00:00+00:00\",\"2022-12-29T00:00:00+00:00\",\"2022-12-30T00:00:00+00:00\",\"2023-01-03T00:00:00+00:00\",\"2023-01-04T00:00:00+00:00\",\"2023-01-05T00:00:00+00:00\",\"2023-01-06T00:00:00+00:00\",\"2023-01-09T00:00:00+00:00\",\"2023-01-10T00:00:00+00:00\",\"2023-01-11T00:00:00+00:00\",\"2023-01-12T00:00:00+00:00\",\"2023-01-13T00:00:00+00:00\",\"2023-01-17T00:00:00+00:00\",\"2023-01-18T00:00:00+00:00\",\"2023-01-19T00:00:00+00:00\",\"2023-01-20T00:00:00+00:00\",\"2023-01-23T00:00:00+00:00\",\"2023-01-24T00:00:00+00:00\",\"2023-01-25T00:00:00+00:00\",\"2023-01-26T00:00:00+00:00\",\"2023-01-27T00:00:00+00:00\",\"2023-01-30T00:00:00+00:00\",\"2023-01-31T00:00:00+00:00\",\"2023-02-01T00:00:00+00:00\",\"2023-02-02T00:00:00+00:00\",\"2023-02-03T00:00:00+00:00\",\"2023-02-06T00:00:00+00:00\",\"2023-02-07T00:00:00+00:00\",\"2023-02-08T00:00:00+00:00\",\"2023-02-09T00:00:00+00:00\",\"2023-02-10T00:00:00+00:00\",\"2023-02-13T00:00:00+00:00\",\"2023-02-14T00:00:00+00:00\",\"2023-02-15T00:00:00+00:00\",\"2023-02-16T00:00:00+00:00\",\"2023-02-17T00:00:00+00:00\",\"2023-02-21T00:00:00+00:00\",\"2023-02-22T00:00:00+00:00\",\"2023-02-23T00:00:00+00:00\",\"2023-02-24T00:00:00+00:00\",\"2023-02-27T00:00:00+00:00\",\"2023-02-28T00:00:00+00:00\",\"2023-03-01T00:00:00+00:00\",\"2023-03-02T00:00:00+00:00\",\"2023-03-03T00:00:00+00:00\",\"2023-03-06T00:00:00+00:00\",\"2023-03-07T00:00:00+00:00\",\"2023-03-08T00:00:00+00:00\",\"2023-03-09T00:00:00+00:00\",\"2023-03-10T00:00:00+00:00\",\"2023-03-13T00:00:00+00:00\",\"2023-03-14T00:00:00+00:00\",\"2023-03-15T00:00:00+00:00\",\"2023-03-16T00:00:00+00:00\",\"2023-03-17T00:00:00+00:00\",\"2023-03-20T00:00:00+00:00\",\"2023-03-21T00:00:00+00:00\",\"2023-03-22T00:00:00+00:00\",\"2023-03-23T00:00:00+00:00\",\"2023-03-24T00:00:00+00:00\",\"2023-03-27T00:00:00+00:00\",\"2023-03-28T00:00:00+00:00\",\"2023-03-29T00:00:00+00:00\",\"2023-03-30T00:00:00+00:00\",\"2023-03-31T00:00:00+00:00\",\"2023-04-03T00:00:00+00:00\",\"2023-04-04T00:00:00+00:00\",\"2023-04-05T00:00:00+00:00\",\"2023-04-06T00:00:00+00:00\",\"2023-04-10T00:00:00+00:00\",\"2023-04-11T00:00:00+00:00\",\"2023-04-12T00:00:00+00:00\",\"2023-04-13T00:00:00+00:00\",\"2023-04-14T00:00:00+00:00\",\"2023-04-17T00:00:00+00:00\",\"2023-04-18T00:00:00+00:00\",\"2023-04-19T00:00:00+00:00\",\"2023-04-20T00:00:00+00:00\",\"2023-04-21T00:00:00+00:00\",\"2023-04-24T00:00:00+00:00\",\"2023-04-25T00:00:00+00:00\",\"2023-04-26T00:00:00+00:00\",\"2023-04-27T00:00:00+00:00\",\"2023-04-28T00:00:00+00:00\",\"2023-05-01T00:00:00+00:00\",\"2023-05-02T00:00:00+00:00\",\"2023-05-03T00:00:00+00:00\",\"2023-05-04T00:00:00+00:00\",\"2023-05-05T00:00:00+00:00\",\"2023-05-08T00:00:00+00:00\",\"2023-05-09T00:00:00+00:00\",\"2023-05-10T00:00:00+00:00\",\"2023-05-11T00:00:00+00:00\",\"2023-05-12T00:00:00+00:00\",\"2023-05-15T00:00:00+00:00\",\"2023-05-16T00:00:00+00:00\",\"2023-05-17T00:00:00+00:00\",\"2023-05-18T00:00:00+00:00\",\"2023-05-19T00:00:00+00:00\",\"2023-05-22T00:00:00+00:00\",\"2023-05-23T00:00:00+00:00\",\"2023-05-24T00:00:00+00:00\",\"2023-05-25T00:00:00+00:00\",\"2023-05-26T00:00:00+00:00\",\"2023-05-30T00:00:00+00:00\",\"2023-05-31T00:00:00+00:00\",\"2023-06-01T00:00:00+00:00\",\"2023-06-02T00:00:00+00:00\",\"2023-06-05T00:00:00+00:00\",\"2023-06-06T00:00:00+00:00\",\"2023-06-07T00:00:00+00:00\",\"2023-06-08T00:00:00+00:00\",\"2023-06-09T00:00:00+00:00\",\"2023-06-12T00:00:00+00:00\",\"2023-06-13T00:00:00+00:00\",\"2023-06-14T00:00:00+00:00\",\"2023-06-15T00:00:00+00:00\",\"2023-06-16T00:00:00+00:00\",\"2023-06-20T00:00:00+00:00\",\"2023-06-21T00:00:00+00:00\",\"2023-06-22T00:00:00+00:00\",\"2023-06-23T00:00:00+00:00\",\"2023-06-26T00:00:00+00:00\",\"2023-06-27T00:00:00+00:00\",\"2023-06-28T00:00:00+00:00\",\"2023-06-29T00:00:00+00:00\",\"2023-06-30T00:00:00+00:00\",\"2023-07-03T00:00:00+00:00\",\"2023-07-05T00:00:00+00:00\",\"2023-07-06T00:00:00+00:00\",\"2023-07-07T00:00:00+00:00\",\"2023-07-10T00:00:00+00:00\",\"2023-07-11T00:00:00+00:00\",\"2023-07-12T00:00:00+00:00\",\"2023-07-13T00:00:00+00:00\",\"2023-07-14T00:00:00+00:00\",\"2023-07-17T00:00:00+00:00\",\"2023-07-18T00:00:00+00:00\",\"2023-07-19T00:00:00+00:00\",\"2023-07-20T00:00:00+00:00\",\"2023-07-21T00:00:00+00:00\",\"2023-07-24T00:00:00+00:00\",\"2023-07-25T00:00:00+00:00\",\"2023-07-26T00:00:00+00:00\",\"2023-07-27T00:00:00+00:00\",\"2023-07-28T00:00:00+00:00\",\"2023-07-31T00:00:00+00:00\",\"2023-08-01T00:00:00+00:00\",\"2023-08-02T00:00:00+00:00\",\"2023-08-03T00:00:00+00:00\",\"2023-08-04T00:00:00+00:00\",\"2023-08-07T00:00:00+00:00\",\"2023-08-08T00:00:00+00:00\",\"2023-08-09T00:00:00+00:00\",\"2023-08-10T00:00:00+00:00\",\"2023-08-11T00:00:00+00:00\",\"2023-08-14T00:00:00+00:00\",\"2023-08-15T00:00:00+00:00\",\"2023-08-16T00:00:00+00:00\",\"2023-08-17T00:00:00+00:00\",\"2023-08-18T00:00:00+00:00\",\"2023-08-21T00:00:00+00:00\",\"2023-08-22T00:00:00+00:00\",\"2023-08-23T00:00:00+00:00\",\"2023-08-24T00:00:00+00:00\",\"2023-08-25T00:00:00+00:00\",\"2023-08-28T00:00:00+00:00\",\"2023-08-29T00:00:00+00:00\",\"2023-08-30T00:00:00+00:00\",\"2023-08-31T00:00:00+00:00\",\"2023-09-01T00:00:00+00:00\",\"2023-09-05T00:00:00+00:00\",\"2023-09-06T00:00:00+00:00\",\"2023-09-07T00:00:00+00:00\",\"2023-09-08T00:00:00+00:00\",\"2023-09-11T00:00:00+00:00\",\"2023-09-12T00:00:00+00:00\",\"2023-09-13T00:00:00+00:00\",\"2023-09-14T00:00:00+00:00\",\"2023-09-15T00:00:00+00:00\",\"2023-09-18T00:00:00+00:00\",\"2023-09-19T00:00:00+00:00\",\"2023-09-20T00:00:00+00:00\",\"2023-09-21T00:00:00+00:00\",\"2023-09-22T00:00:00+00:00\",\"2023-09-25T00:00:00+00:00\",\"2023-09-26T00:00:00+00:00\",\"2023-09-27T00:00:00+00:00\",\"2023-09-28T00:00:00+00:00\",\"2023-09-29T00:00:00+00:00\",\"2023-10-02T00:00:00+00:00\",\"2023-10-03T00:00:00+00:00\",\"2023-10-04T00:00:00+00:00\",\"2023-10-05T00:00:00+00:00\",\"2023-10-06T00:00:00+00:00\",\"2023-10-09T00:00:00+00:00\",\"2023-10-10T00:00:00+00:00\",\"2023-10-11T00:00:00+00:00\",\"2023-10-12T00:00:00+00:00\",\"2023-10-13T00:00:00+00:00\",\"2023-10-16T00:00:00+00:00\",\"2023-10-17T00:00:00+00:00\",\"2023-10-18T00:00:00+00:00\",\"2023-10-19T00:00:00+00:00\",\"2023-10-20T00:00:00+00:00\",\"2023-10-23T00:00:00+00:00\",\"2023-10-24T00:00:00+00:00\",\"2023-10-25T00:00:00+00:00\",\"2023-10-26T00:00:00+00:00\",\"2023-10-27T00:00:00+00:00\",\"2023-10-30T00:00:00+00:00\",\"2023-10-31T00:00:00+00:00\",\"2023-11-01T00:00:00+00:00\",\"2023-11-02T00:00:00+00:00\",\"2023-11-03T00:00:00+00:00\",\"2023-11-06T00:00:00+00:00\",\"2023-11-07T00:00:00+00:00\",\"2023-11-08T00:00:00+00:00\",\"2023-11-09T00:00:00+00:00\",\"2023-11-10T00:00:00+00:00\",\"2023-11-13T00:00:00+00:00\",\"2023-11-14T00:00:00+00:00\",\"2023-11-15T00:00:00+00:00\",\"2023-11-16T00:00:00+00:00\",\"2023-11-17T00:00:00+00:00\",\"2023-11-20T00:00:00+00:00\",\"2023-11-21T00:00:00+00:00\",\"2023-11-22T00:00:00+00:00\",\"2023-11-24T00:00:00+00:00\",\"2023-11-27T00:00:00+00:00\",\"2023-11-28T00:00:00+00:00\",\"2023-11-29T00:00:00+00:00\",\"2023-11-30T00:00:00+00:00\",\"2023-12-01T00:00:00+00:00\",\"2023-12-04T00:00:00+00:00\",\"2023-12-05T00:00:00+00:00\",\"2023-12-06T00:00:00+00:00\",\"2023-12-07T00:00:00+00:00\",\"2023-12-08T00:00:00+00:00\",\"2023-12-11T00:00:00+00:00\",\"2023-12-12T00:00:00+00:00\",\"2023-12-13T00:00:00+00:00\",\"2023-12-14T00:00:00+00:00\",\"2023-12-15T00:00:00+00:00\",\"2023-12-18T00:00:00+00:00\",\"2023-12-19T00:00:00+00:00\",\"2023-12-20T00:00:00+00:00\",\"2023-12-21T00:00:00+00:00\",\"2023-12-22T00:00:00+00:00\",\"2023-12-26T00:00:00+00:00\",\"2023-12-27T00:00:00+00:00\",\"2023-12-28T00:00:00+00:00\",\"2023-12-29T00:00:00+00:00\",\"2024-01-02T00:00:00+00:00\",\"2024-01-03T00:00:00+00:00\",\"2024-01-04T00:00:00+00:00\",\"2024-01-05T00:00:00+00:00\",\"2024-01-08T00:00:00+00:00\",\"2024-01-09T00:00:00+00:00\",\"2024-01-10T00:00:00+00:00\",\"2024-01-11T00:00:00+00:00\",\"2024-01-12T00:00:00+00:00\",\"2024-01-16T00:00:00+00:00\",\"2024-01-17T00:00:00+00:00\",\"2024-01-18T00:00:00+00:00\",\"2024-01-19T00:00:00+00:00\",\"2024-01-22T00:00:00+00:00\",\"2024-01-23T00:00:00+00:00\",\"2024-01-24T00:00:00+00:00\",\"2024-01-25T00:00:00+00:00\",\"2024-01-26T00:00:00+00:00\",\"2024-01-29T00:00:00+00:00\",\"2024-01-30T00:00:00+00:00\",\"2024-01-31T00:00:00+00:00\",\"2024-02-01T00:00:00+00:00\",\"2024-02-02T00:00:00+00:00\",\"2024-02-05T00:00:00+00:00\",\"2024-02-06T00:00:00+00:00\",\"2024-02-07T00:00:00+00:00\",\"2024-02-08T00:00:00+00:00\",\"2024-02-09T00:00:00+00:00\",\"2024-02-12T00:00:00+00:00\",\"2024-02-13T00:00:00+00:00\",\"2024-02-14T00:00:00+00:00\",\"2024-02-15T00:00:00+00:00\",\"2024-02-16T00:00:00+00:00\",\"2024-02-20T00:00:00+00:00\",\"2024-02-21T00:00:00+00:00\",\"2024-02-22T00:00:00+00:00\",\"2024-02-23T00:00:00+00:00\",\"2024-02-26T00:00:00+00:00\",\"2024-02-27T00:00:00+00:00\",\"2024-02-28T00:00:00+00:00\",\"2024-02-29T00:00:00+00:00\",\"2024-03-01T00:00:00+00:00\",\"2024-03-04T00:00:00+00:00\",\"2024-03-05T00:00:00+00:00\",\"2024-03-06T00:00:00+00:00\",\"2024-03-07T00:00:00+00:00\",\"2024-03-08T00:00:00+00:00\",\"2024-03-11T00:00:00+00:00\",\"2024-03-12T00:00:00+00:00\",\"2024-03-13T00:00:00+00:00\",\"2024-03-14T00:00:00+00:00\",\"2024-03-15T00:00:00+00:00\",\"2024-03-18T00:00:00+00:00\",\"2024-03-19T00:00:00+00:00\",\"2024-03-20T00:00:00+00:00\",\"2024-03-21T00:00:00+00:00\",\"2024-03-22T00:00:00+00:00\",\"2024-03-25T00:00:00+00:00\",\"2024-03-26T00:00:00+00:00\",\"2024-03-27T00:00:00+00:00\",\"2024-03-28T00:00:00+00:00\",\"2024-04-01T00:00:00+00:00\",\"2024-04-02T00:00:00+00:00\",\"2024-04-03T00:00:00+00:00\",\"2024-04-04T00:00:00+00:00\",\"2024-04-05T00:00:00+00:00\",\"2024-04-08T00:00:00+00:00\",\"2024-04-09T00:00:00+00:00\",\"2024-04-10T00:00:00+00:00\",\"2024-04-11T00:00:00+00:00\",\"2024-04-12T00:00:00+00:00\",\"2024-04-15T00:00:00+00:00\",\"2024-04-16T00:00:00+00:00\",\"2024-04-17T00:00:00+00:00\",\"2024-04-18T00:00:00+00:00\",\"2024-04-19T00:00:00+00:00\",\"2024-04-22T00:00:00+00:00\",\"2024-04-23T00:00:00+00:00\",\"2024-04-24T00:00:00+00:00\",\"2024-04-25T00:00:00+00:00\",\"2024-04-26T00:00:00+00:00\",\"2024-04-29T00:00:00+00:00\",\"2024-04-30T00:00:00+00:00\",\"2024-05-01T00:00:00+00:00\",\"2024-05-02T00:00:00+00:00\",\"2024-05-03T00:00:00+00:00\",\"2024-05-06T00:00:00+00:00\",\"2024-05-07T00:00:00+00:00\",\"2024-05-08T00:00:00+00:00\",\"2024-05-09T00:00:00+00:00\",\"2024-05-10T00:00:00+00:00\",\"2024-05-13T00:00:00+00:00\",\"2024-05-14T00:00:00+00:00\",\"2024-05-15T00:00:00+00:00\",\"2024-05-16T00:00:00+00:00\",\"2024-05-17T00:00:00+00:00\",\"2024-05-20T00:00:00+00:00\",\"2024-05-21T00:00:00+00:00\",\"2024-05-22T00:00:00+00:00\",\"2024-05-23T00:00:00+00:00\",\"2024-05-24T00:00:00+00:00\",\"2024-05-28T00:00:00+00:00\",\"2024-05-29T00:00:00+00:00\",\"2024-05-30T00:00:00+00:00\",\"2024-05-31T00:00:00+00:00\",\"2024-06-03T00:00:00+00:00\",\"2024-06-04T00:00:00+00:00\",\"2024-06-05T00:00:00+00:00\",\"2024-06-06T00:00:00+00:00\",\"2024-06-07T00:00:00+00:00\",\"2024-06-10T00:00:00+00:00\",\"2024-06-11T00:00:00+00:00\",\"2024-06-12T00:00:00+00:00\",\"2024-06-13T00:00:00+00:00\",\"2024-06-14T00:00:00+00:00\",\"2024-06-17T00:00:00+00:00\",\"2024-06-18T00:00:00+00:00\",\"2024-06-20T00:00:00+00:00\",\"2024-06-21T00:00:00+00:00\",\"2024-06-24T00:00:00+00:00\",\"2024-06-25T00:00:00+00:00\",\"2024-06-26T00:00:00+00:00\",\"2024-06-27T00:00:00+00:00\",\"2024-06-28T00:00:00+00:00\",\"2024-07-01T00:00:00+00:00\",\"2024-07-02T00:00:00+00:00\",\"2024-07-03T00:00:00+00:00\",\"2024-07-05T00:00:00+00:00\",\"2024-07-08T00:00:00+00:00\",\"2024-07-09T00:00:00+00:00\",\"2024-07-10T00:00:00+00:00\",\"2024-07-11T00:00:00+00:00\",\"2024-07-12T00:00:00+00:00\",\"2024-07-15T00:00:00+00:00\",\"2024-07-16T00:00:00+00:00\",\"2024-07-17T00:00:00+00:00\",\"2024-07-18T00:00:00+00:00\",\"2024-07-19T00:00:00+00:00\",\"2024-07-22T00:00:00+00:00\",\"2024-07-23T00:00:00+00:00\",\"2024-07-24T00:00:00+00:00\",\"2024-07-25T00:00:00+00:00\",\"2024-07-26T00:00:00+00:00\",\"2024-07-29T00:00:00+00:00\",\"2024-07-30T00:00:00+00:00\",\"2024-07-31T00:00:00+00:00\",\"2024-08-01T00:00:00+00:00\",\"2024-08-02T00:00:00+00:00\",\"2024-08-05T00:00:00+00:00\",\"2024-08-06T00:00:00+00:00\",\"2024-08-07T00:00:00+00:00\",\"2024-08-08T00:00:00+00:00\",\"2024-08-09T00:00:00+00:00\",\"2024-08-12T00:00:00+00:00\",\"2024-08-13T00:00:00+00:00\",\"2024-08-14T00:00:00+00:00\",\"2024-08-15T00:00:00+00:00\",\"2024-08-16T00:00:00+00:00\",\"2024-08-19T00:00:00+00:00\",\"2024-08-20T00:00:00+00:00\",\"2024-08-21T00:00:00+00:00\",\"2024-08-22T00:00:00+00:00\",\"2024-08-23T00:00:00+00:00\",\"2024-08-26T00:00:00+00:00\",\"2024-08-27T00:00:00+00:00\",\"2024-08-28T00:00:00+00:00\",\"2024-08-29T00:00:00+00:00\",\"2024-08-30T00:00:00+00:00\",\"2024-09-03T00:00:00+00:00\",\"2024-09-04T00:00:00+00:00\",\"2024-09-05T00:00:00+00:00\",\"2024-09-06T00:00:00+00:00\",\"2024-09-09T00:00:00+00:00\",\"2024-09-10T00:00:00+00:00\",\"2024-09-11T00:00:00+00:00\",\"2024-09-12T00:00:00+00:00\",\"2024-09-13T00:00:00+00:00\",\"2024-09-16T00:00:00+00:00\",\"2024-09-17T00:00:00+00:00\",\"2024-09-18T00:00:00+00:00\",\"2024-09-19T00:00:00+00:00\",\"2024-09-20T00:00:00+00:00\",\"2024-09-23T00:00:00+00:00\",\"2024-09-24T00:00:00+00:00\",\"2024-09-25T00:00:00+00:00\",\"2024-09-26T00:00:00+00:00\",\"2024-09-27T00:00:00+00:00\",\"2024-09-30T00:00:00+00:00\",\"2024-10-01T00:00:00+00:00\",\"2024-10-02T00:00:00+00:00\",\"2024-10-03T00:00:00+00:00\",\"2024-10-04T00:00:00+00:00\",\"2024-10-07T00:00:00+00:00\",\"2024-10-08T00:00:00+00:00\",\"2024-10-09T00:00:00+00:00\",\"2024-10-10T00:00:00+00:00\",\"2024-10-11T00:00:00+00:00\",\"2024-10-14T00:00:00+00:00\",\"2024-10-15T00:00:00+00:00\",\"2024-10-16T00:00:00+00:00\",\"2024-10-17T00:00:00+00:00\",\"2024-10-18T00:00:00+00:00\",\"2024-10-21T00:00:00+00:00\",\"2024-10-22T00:00:00+00:00\",\"2024-10-23T00:00:00+00:00\",\"2024-10-24T00:00:00+00:00\",\"2024-10-25T00:00:00+00:00\",\"2024-10-28T00:00:00+00:00\",\"2024-10-29T00:00:00+00:00\",\"2024-10-30T00:00:00+00:00\",\"2024-10-31T00:00:00+00:00\",\"2024-11-01T00:00:00+00:00\",\"2024-11-04T00:00:00+00:00\",\"2024-11-05T00:00:00+00:00\",\"2024-11-06T00:00:00+00:00\",\"2024-11-07T00:00:00+00:00\",\"2024-11-08T00:00:00+00:00\"],\"xaxis\":\"x\",\"y\":[null,28.0,26.75,26.39,23.96,23.9,24.81,24.48,23.59,24.73,23.95,22.52,24.26,24.75,26.73,26.92,26.79,25.61,25.21,23.98,24.32,24.22,23.26,21.88,22.58,22.58,21.73,22.04,23.29,23.07,23.44,23.27,22.9,23.41,24.04,23.34,25.42,23.7,23.15,22.47,21.94,21.78,22.63,22.86,23.41,24.11,23.88,23.85,23.37,23.04,22.3,21.64,21.15,20.09,19.75,18.47,20.21,18.89,18.37,20.08,20.46,21.24,20.67,20.61,20.75,21.22,21.48,22.12,22.7,22.95,23.06,24.45,23.63,24.03,24.46,24.38,24.17,24.14,24.67,25.0,24.41,24.8,25.45,25.37,25.42,25.4,26.27,26.53,26.78,27.38,26.63,26.36,24.72,24.44,24.68,22.89,23.08,23.29,22.95,22.45,21.56,21.47,21.37,21.54,22.18,22.52,22.07,21.81,22.13,21.68,22.56,22.18,21.71,22.1,22.24,22.3,22.52,21.82,22.93,22.92,22.35,24.89,24.9,24.5,23.97,25.28,24.16,24.01,24.82,25.1,24.35,24.87,25.71,25.76,26.34,26.2,26.51,26.64,26.7,25.58,26.13,26.28,25.83,26.26,27.08,28.63,28.71,26.55,26.62,27.43,28.77,28.56,27.47,25.34,24.52,24.04,24.33,23.17,23.21,23.58,23.73,23.5,23.53,23.69,24.13,24.35,24.0,24.26,24.69,24.22,24.78,24.43,25.41,25.52,25.06,25.64,25.88,26.56,25.92,26.12,26.47,26.0,26.75,24.25,22.52,22.99,22.83,23.41,23.13,22.49,21.5,21.41,20.65,20.59,21.11,21.03,21.07,20.65,19.38,19.69,18.98,18.8,19.46,19.82,19.21,18.94,18.4,18.64,18.86,18.34,19.06,17.96,18.9,18.88,18.93,18.94,18.57,18.17,18.69,18.21,18.53,18.17,16.96,16.74,16.56,16.5,16.89,16.72,16.01,16.01,14.97,14.56,14.62,13.53,13.4,13.06,12.75,12.28,12.71,13.71,14.2,13.32,12.45,12.94,12.98,13.15,13.87,13.56,13.13,13.26,14.17,13.97,11.77,11.02,10.48,10.43,11.83,11.47,11.85,12.18,12.06,11.34,10.96,11.11,11.04,11.65,11.87,11.39,10.5,10.77,11.79,12.32,12.82,12.59,13.27,13.18,13.39,12.97,13.42,14.2,13.88,13.73,13.83,14.63,13.89,13.0,12.84,12.7,12.66,12.46,12.9,12.42,12.15,12.91,12.79,12.33,11.96,12.11,11.12,10.56,10.95,10.4,10.74,10.55,10.98,10.12,9.48,7.46,7.29,6.71,7.34,8.34,8.04,8.36,8.01,8.31,8.08,8.01,7.55,7.96,8.36,8.85,8.68,8.46,9.3,8.94,8.98,9.13,9.18,8.68,8.26,7.64,7.82,8.12,7.67,8.24,8.71,9.01,9.46,10.19,9.62,9.31,9.23,9.07,9.27,10.07,9.8,10.18,10.17,9.56,9.49,9.28,8.9,9.04,9.03,9.34,10.11,10.49,9.84,9.68,9.4,10.02,10.13,10.35,10.47,10.92,11.2,11.32,11.45,9.82,9.25,9.59,9.42,9.91,9.91,9.74,9.43,9.15,8.51,8.07,8.01,8.1,8.42,7.94,7.81,7.79,7.72,7.49,7.4,7.28,7.39,7.53,7.79,8.01,7.48,7.63,8.01,7.78,7.86,7.62,7.69,7.37,7.4,7.53,7.63,7.94,8.08,8.13,8.24,8.46,8.42,8.47,8.15,8.06,8.04,8.07,8.08,7.53,7.94,8.16,7.91,8.04,8.29,8.27,8.66,8.57,8.6,8.64,8.79,8.65,8.22,8.08,7.93,7.02,7.21,6.98,7.64,8.41,8.1,8.34,8.06,7.62,7.39,7.19,7.22,7.37,7.28,7.16,7.08,7.5,7.86,7.66,7.19,6.99,7.07,7.12,7.11,7.29,7.5,7.35,7.01,6.9,6.35,6.31,6.5,6.32,6.29,6.0,6.07,6.4,6.42,6.39,6.58,6.32,6.4,6.5,6.7,6.98,7.01,6.96,7.07,6.9,6.73,7.02,7.38,7.02,7.22,7.24,7.55,7.37,7.78,8.2,8.99,8.41,8.31,8.33,8.22,7.95,7.51,7.61,9.22,10.11,9.71,9.2,8.47,8.36,8.17,8.09,8.03,7.84,7.69,7.97,8.33,8.28,8.28,8.13,7.69,7.35,7.87,7.89,7.9,7.98,7.88,8.08,8.45,8.21,8.33,8.2,8.04,8.0,8.22,8.15,8.45,8.38,8.35,7.98,8.09,8.39,8.61,8.33,8.58,8.81,8.8,8.73,8.49,8.15,8.18,8.1,7.74,7.74,7.82,7.75,7.78,7.59,7.56,7.38,7.41,7.74,9.55,9.94,9.88,9.5,9.52,9.47,10.25,11.74,11.71,11.84,12.64,12.23,12.84,13.65,14.71,14.71,14.54,14.52,15.24,15.46,14.69,15.19,15.02,15.65,16.0,15.91,16.6,16.3,15.79,14.64,14.05,14.03,13.94,14.61,15.28,15.2,15.33,15.52,15.7,15.13,15.34,16.3,16.49,16.59,16.74,16.4,17.4,18.08,18.05,17.13,16.43,16.32,16.55,16.43,16.15,17.81,19.84,19.99,18.97,18.71,18.2,17.99,17.04,15.25,15.41,15.41,15.72,15.37,15.45,14.15,14.4,14.5,14.67,15.3,14.14,14.53,14.64,15.4,16.33,14.98,15.18,15.21,15.3,15.21,15.13,15.79,15.59,15.6,15.83,15.33,15.46,15.15,14.74,14.0,14.13,14.22,13.96,14.85,15.77,16.0,15.88,14.9,15.73,15.81,16.61,17.61,17.8,17.92,17.94,17.36,17.36,17.84,17.2,17.06,16.11,16.2,16.64,15.59,15.29,15.07,14.69,14.8,14.92,17.97,18.89,18.54,18.8,18.49,18.27,19.67,19.71,19.94,19.95,19.77,20.49,21.34,19.8,19.69,19.2,19.08,19.71,19.84,20.05,20.27,18.4,18.3,17.13,17.22,17.77,17.77,17.5,17.87,18.21,18.2,17.84,17.95,17.25,17.59,17.41,17.68,17.47,17.56,17.17,16.58,16.09,16.25,15.98,16.67,16.39,16.79,16.68,16.76,16.53,16.39,16.4,16.78,17.6,17.33,16.75,16.46,16.35,17.09,16.74,16.09,16.33,17.02,16.72,21.87,23.6,24.51,24.38,25.05,24.01,25.19,25.41,24.44,23.4,22.74,23.59,22.97,23.56,24.53,24.42,25.08,24.93,24.04,23.81,26.16,26.46,26.04,25.35,24.7,25.0,24.43,23.49,24.0,23.8,24.57,24.49,24.18,24.51,24.89,24.51,23.01,22.86,22.72,22.7,22.48,22.96,23.0,22.81,22.42,22.84,22.67,21.9,21.88,21.31,21.13,20.47,20.97,21.64,21.59,21.71,22.52,22.83,21.97,22.12,22.55,23.33,25.21,21.4,21.56,21.14,20.6,20.94,21.44,21.67,21.65,21.76,21.62,21.24,21.17,20.72,21.01,21.05,20.94,21.73,21.68,21.32,22.1,22.96,23.79,23.31,23.13,23.85,23.77,23.27,23.57,25.02,25.82,25.56,23.84,24.16,24.56,24.1,25.22,25.33,25.88,25.83,25.85,27.23,27.7,27.39,28.42,27.64,28.07,28.67,28.67,28.22,28.64,28.58,28.46,28.81,26.6,26.63,27.18,27.08,26.37,26.89,26.08,24.74,24.09,26.59,26.32,29.28,30.01,29.38,30.39,31.0,31.22,32.08,32.5,32.32,32.54,31.92,31.78,30.85,30.84,30.36,31.0,31.48,30.51,30.59,30.16,30.33,34.6,34.76,34.85,34.91,35.59,36.31,36.45,36.38,36.83,37.2,37.95,36.9,37.12,37.1,36.84,37.2,36.46,37.49,39.24,40.01,38.89,41.45,43.13,43.52,43.51,43.4,42.43,41.93,42.0,42.97,42.7,42.94,42.59,43.56,44.86,44.97,44.93,43.69,41.56,41.92,41.41,51.13,55.53,55.88,58.39],\"yaxis\":\"y\",\"type\":\"scatter\"}],                        {\"template\":{\"data\":{\"histogram2dcontour\":[{\"type\":\"histogram2dcontour\",\"colorbar\":{\"outlinewidth\":0,\"ticks\":\"\"},\"colorscale\":[[0.0,\"#0d0887\"],[0.1111111111111111,\"#46039f\"],[0.2222222222222222,\"#7201a8\"],[0.3333333333333333,\"#9c179e\"],[0.4444444444444444,\"#bd3786\"],[0.5555555555555556,\"#d8576b\"],[0.6666666666666666,\"#ed7953\"],[0.7777777777777778,\"#fb9f3a\"],[0.8888888888888888,\"#fdca26\"],[1.0,\"#f0f921\"]]}],\"choropleth\":[{\"type\":\"choropleth\",\"colorbar\":{\"outlinewidth\":0,\"ticks\":\"\"}}],\"histogram2d\":[{\"type\":\"histogram2d\",\"colorbar\":{\"outlinewidth\":0,\"ticks\":\"\"},\"colorscale\":[[0.0,\"#0d0887\"],[0.1111111111111111,\"#46039f\"],[0.2222222222222222,\"#7201a8\"],[0.3333333333333333,\"#9c179e\"],[0.4444444444444444,\"#bd3786\"],[0.5555555555555556,\"#d8576b\"],[0.6666666666666666,\"#ed7953\"],[0.7777777777777778,\"#fb9f3a\"],[0.8888888888888888,\"#fdca26\"],[1.0,\"#f0f921\"]]}],\"heatmap\":[{\"type\":\"heatmap\",\"colorbar\":{\"outlinewidth\":0,\"ticks\":\"\"},\"colorscale\":[[0.0,\"#0d0887\"],[0.1111111111111111,\"#46039f\"],[0.2222222222222222,\"#7201a8\"],[0.3333333333333333,\"#9c179e\"],[0.4444444444444444,\"#bd3786\"],[0.5555555555555556,\"#d8576b\"],[0.6666666666666666,\"#ed7953\"],[0.7777777777777778,\"#fb9f3a\"],[0.8888888888888888,\"#fdca26\"],[1.0,\"#f0f921\"]]}],\"heatmapgl\":[{\"type\":\"heatmapgl\",\"colorbar\":{\"outlinewidth\":0,\"ticks\":\"\"},\"colorscale\":[[0.0,\"#0d0887\"],[0.1111111111111111,\"#46039f\"],[0.2222222222222222,\"#7201a8\"],[0.3333333333333333,\"#9c179e\"],[0.4444444444444444,\"#bd3786\"],[0.5555555555555556,\"#d8576b\"],[0.6666666666666666,\"#ed7953\"],[0.7777777777777778,\"#fb9f3a\"],[0.8888888888888888,\"#fdca26\"],[1.0,\"#f0f921\"]]}],\"contourcarpet\":[{\"type\":\"contourcarpet\",\"colorbar\":{\"outlinewidth\":0,\"ticks\":\"\"}}],\"contour\":[{\"type\":\"contour\",\"colorbar\":{\"outlinewidth\":0,\"ticks\":\"\"},\"colorscale\":[[0.0,\"#0d0887\"],[0.1111111111111111,\"#46039f\"],[0.2222222222222222,\"#7201a8\"],[0.3333333333333333,\"#9c179e\"],[0.4444444444444444,\"#bd3786\"],[0.5555555555555556,\"#d8576b\"],[0.6666666666666666,\"#ed7953\"],[0.7777777777777778,\"#fb9f3a\"],[0.8888888888888888,\"#fdca26\"],[1.0,\"#f0f921\"]]}],\"surface\":[{\"type\":\"surface\",\"colorbar\":{\"outlinewidth\":0,\"ticks\":\"\"},\"colorscale\":[[0.0,\"#0d0887\"],[0.1111111111111111,\"#46039f\"],[0.2222222222222222,\"#7201a8\"],[0.3333333333333333,\"#9c179e\"],[0.4444444444444444,\"#bd3786\"],[0.5555555555555556,\"#d8576b\"],[0.6666666666666666,\"#ed7953\"],[0.7777777777777778,\"#fb9f3a\"],[0.8888888888888888,\"#fdca26\"],[1.0,\"#f0f921\"]]}],\"mesh3d\":[{\"type\":\"mesh3d\",\"colorbar\":{\"outlinewidth\":0,\"ticks\":\"\"}}],\"scatter\":[{\"fillpattern\":{\"fillmode\":\"overlay\",\"size\":10,\"solidity\":0.2},\"type\":\"scatter\"}],\"parcoords\":[{\"type\":\"parcoords\",\"line\":{\"colorbar\":{\"outlinewidth\":0,\"ticks\":\"\"}}}],\"scatterpolargl\":[{\"type\":\"scatterpolargl\",\"marker\":{\"colorbar\":{\"outlinewidth\":0,\"ticks\":\"\"}}}],\"bar\":[{\"error_x\":{\"color\":\"#2a3f5f\"},\"error_y\":{\"color\":\"#2a3f5f\"},\"marker\":{\"line\":{\"color\":\"#E5ECF6\",\"width\":0.5},\"pattern\":{\"fillmode\":\"overlay\",\"size\":10,\"solidity\":0.2}},\"type\":\"bar\"}],\"scattergeo\":[{\"type\":\"scattergeo\",\"marker\":{\"colorbar\":{\"outlinewidth\":0,\"ticks\":\"\"}}}],\"scatterpolar\":[{\"type\":\"scatterpolar\",\"marker\":{\"colorbar\":{\"outlinewidth\":0,\"ticks\":\"\"}}}],\"histogram\":[{\"marker\":{\"pattern\":{\"fillmode\":\"overlay\",\"size\":10,\"solidity\":0.2}},\"type\":\"histogram\"}],\"scattergl\":[{\"type\":\"scattergl\",\"marker\":{\"colorbar\":{\"outlinewidth\":0,\"ticks\":\"\"}}}],\"scatter3d\":[{\"type\":\"scatter3d\",\"line\":{\"colorbar\":{\"outlinewidth\":0,\"ticks\":\"\"}},\"marker\":{\"colorbar\":{\"outlinewidth\":0,\"ticks\":\"\"}}}],\"scattermapbox\":[{\"type\":\"scattermapbox\",\"marker\":{\"colorbar\":{\"outlinewidth\":0,\"ticks\":\"\"}}}],\"scatterternary\":[{\"type\":\"scatterternary\",\"marker\":{\"colorbar\":{\"outlinewidth\":0,\"ticks\":\"\"}}}],\"scattercarpet\":[{\"type\":\"scattercarpet\",\"marker\":{\"colorbar\":{\"outlinewidth\":0,\"ticks\":\"\"}}}],\"carpet\":[{\"aaxis\":{\"endlinecolor\":\"#2a3f5f\",\"gridcolor\":\"white\",\"linecolor\":\"white\",\"minorgridcolor\":\"white\",\"startlinecolor\":\"#2a3f5f\"},\"baxis\":{\"endlinecolor\":\"#2a3f5f\",\"gridcolor\":\"white\",\"linecolor\":\"white\",\"minorgridcolor\":\"white\",\"startlinecolor\":\"#2a3f5f\"},\"type\":\"carpet\"}],\"table\":[{\"cells\":{\"fill\":{\"color\":\"#EBF0F8\"},\"line\":{\"color\":\"white\"}},\"header\":{\"fill\":{\"color\":\"#C8D4E3\"},\"line\":{\"color\":\"white\"}},\"type\":\"table\"}],\"barpolar\":[{\"marker\":{\"line\":{\"color\":\"#E5ECF6\",\"width\":0.5},\"pattern\":{\"fillmode\":\"overlay\",\"size\":10,\"solidity\":0.2}},\"type\":\"barpolar\"}],\"pie\":[{\"automargin\":true,\"type\":\"pie\"}]},\"layout\":{\"autotypenumbers\":\"strict\",\"colorway\":[\"#636efa\",\"#EF553B\",\"#00cc96\",\"#ab63fa\",\"#FFA15A\",\"#19d3f3\",\"#FF6692\",\"#B6E880\",\"#FF97FF\",\"#FECB52\"],\"font\":{\"color\":\"#2a3f5f\"},\"hovermode\":\"closest\",\"hoverlabel\":{\"align\":\"left\"},\"paper_bgcolor\":\"white\",\"plot_bgcolor\":\"#E5ECF6\",\"polar\":{\"bgcolor\":\"#E5ECF6\",\"angularaxis\":{\"gridcolor\":\"white\",\"linecolor\":\"white\",\"ticks\":\"\"},\"radialaxis\":{\"gridcolor\":\"white\",\"linecolor\":\"white\",\"ticks\":\"\"}},\"ternary\":{\"bgcolor\":\"#E5ECF6\",\"aaxis\":{\"gridcolor\":\"white\",\"linecolor\":\"white\",\"ticks\":\"\"},\"baxis\":{\"gridcolor\":\"white\",\"linecolor\":\"white\",\"ticks\":\"\"},\"caxis\":{\"gridcolor\":\"white\",\"linecolor\":\"white\",\"ticks\":\"\"}},\"coloraxis\":{\"colorbar\":{\"outlinewidth\":0,\"ticks\":\"\"}},\"colorscale\":{\"sequential\":[[0.0,\"#0d0887\"],[0.1111111111111111,\"#46039f\"],[0.2222222222222222,\"#7201a8\"],[0.3333333333333333,\"#9c179e\"],[0.4444444444444444,\"#bd3786\"],[0.5555555555555556,\"#d8576b\"],[0.6666666666666666,\"#ed7953\"],[0.7777777777777778,\"#fb9f3a\"],[0.8888888888888888,\"#fdca26\"],[1.0,\"#f0f921\"]],\"sequentialminus\":[[0.0,\"#0d0887\"],[0.1111111111111111,\"#46039f\"],[0.2222222222222222,\"#7201a8\"],[0.3333333333333333,\"#9c179e\"],[0.4444444444444444,\"#bd3786\"],[0.5555555555555556,\"#d8576b\"],[0.6666666666666666,\"#ed7953\"],[0.7777777777777778,\"#fb9f3a\"],[0.8888888888888888,\"#fdca26\"],[1.0,\"#f0f921\"]],\"diverging\":[[0,\"#8e0152\"],[0.1,\"#c51b7d\"],[0.2,\"#de77ae\"],[0.3,\"#f1b6da\"],[0.4,\"#fde0ef\"],[0.5,\"#f7f7f7\"],[0.6,\"#e6f5d0\"],[0.7,\"#b8e186\"],[0.8,\"#7fbc41\"],[0.9,\"#4d9221\"],[1,\"#276419\"]]},\"xaxis\":{\"gridcolor\":\"white\",\"linecolor\":\"white\",\"ticks\":\"\",\"title\":{\"standoff\":15},\"zerolinecolor\":\"white\",\"automargin\":true,\"zerolinewidth\":2},\"yaxis\":{\"gridcolor\":\"white\",\"linecolor\":\"white\",\"ticks\":\"\",\"title\":{\"standoff\":15},\"zerolinecolor\":\"white\",\"automargin\":true,\"zerolinewidth\":2},\"scene\":{\"xaxis\":{\"backgroundcolor\":\"#E5ECF6\",\"gridcolor\":\"white\",\"linecolor\":\"white\",\"showbackground\":true,\"ticks\":\"\",\"zerolinecolor\":\"white\",\"gridwidth\":2},\"yaxis\":{\"backgroundcolor\":\"#E5ECF6\",\"gridcolor\":\"white\",\"linecolor\":\"white\",\"showbackground\":true,\"ticks\":\"\",\"zerolinecolor\":\"white\",\"gridwidth\":2},\"zaxis\":{\"backgroundcolor\":\"#E5ECF6\",\"gridcolor\":\"white\",\"linecolor\":\"white\",\"showbackground\":true,\"ticks\":\"\",\"zerolinecolor\":\"white\",\"gridwidth\":2}},\"shapedefaults\":{\"line\":{\"color\":\"#2a3f5f\"}},\"annotationdefaults\":{\"arrowcolor\":\"#2a3f5f\",\"arrowhead\":0,\"arrowwidth\":1},\"geo\":{\"bgcolor\":\"white\",\"landcolor\":\"#E5ECF6\",\"subunitcolor\":\"white\",\"showland\":true,\"showlakes\":true,\"lakecolor\":\"white\"},\"title\":{\"x\":0.05},\"mapbox\":{\"style\":\"light\"}}},\"xaxis\":{\"anchor\":\"y\",\"domain\":[0.0,1.0],\"title\":{\"text\":\"date\"}},\"yaxis\":{\"anchor\":\"x\",\"domain\":[0.0,1.0],\"title\":{\"text\":\"real_adj_close\"}},\"legend\":{\"tracegroupgap\":0},\"margin\":{\"t\":60},\"shapes\":[{\"line\":{\"color\":\"orange\",\"dash\":\"dash\",\"width\":1},\"type\":\"line\",\"x0\":\"2021-02-26T00:00:00+00:00\",\"x1\":\"2021-02-26T00:00:00+00:00\",\"xref\":\"x\",\"y0\":0,\"y1\":1,\"yref\":\"y domain\"},{\"line\":{\"color\":\"orange\",\"dash\":\"dash\",\"width\":1},\"type\":\"line\",\"x0\":\"2021-03-29T00:00:00+00:00\",\"x1\":\"2021-03-29T00:00:00+00:00\",\"xref\":\"x\",\"y0\":0,\"y1\":1,\"yref\":\"y domain\"},{\"line\":{\"color\":\"orange\",\"dash\":\"dash\",\"width\":1},\"type\":\"line\",\"x0\":\"2021-04-20T00:00:00+00:00\",\"x1\":\"2021-04-20T00:00:00+00:00\",\"xref\":\"x\",\"y0\":0,\"y1\":1,\"yref\":\"y domain\"},{\"line\":{\"color\":\"orange\",\"dash\":\"dash\",\"width\":1},\"type\":\"line\",\"x0\":\"2021-05-13T00:00:00+00:00\",\"x1\":\"2021-05-13T00:00:00+00:00\",\"xref\":\"x\",\"y0\":0,\"y1\":1,\"yref\":\"y domain\"},{\"line\":{\"color\":\"orange\",\"dash\":\"dash\",\"width\":1},\"type\":\"line\",\"x0\":\"2021-06-01T00:00:00+00:00\",\"x1\":\"2021-06-01T00:00:00+00:00\",\"xref\":\"x\",\"y0\":0,\"y1\":1,\"yref\":\"y domain\"},{\"line\":{\"color\":\"orange\",\"dash\":\"dash\",\"width\":1},\"type\":\"line\",\"x0\":\"2021-07-16T00:00:00+00:00\",\"x1\":\"2021-07-16T00:00:00+00:00\",\"xref\":\"x\",\"y0\":0,\"y1\":1,\"yref\":\"y domain\"},{\"line\":{\"color\":\"orange\",\"dash\":\"dash\",\"width\":1},\"type\":\"line\",\"x0\":\"2021-08-06T00:00:00+00:00\",\"x1\":\"2021-08-06T00:00:00+00:00\",\"xref\":\"x\",\"y0\":0,\"y1\":1,\"yref\":\"y domain\"},{\"line\":{\"color\":\"orange\",\"dash\":\"dash\",\"width\":1},\"type\":\"line\",\"x0\":\"2021-09-30T00:00:00+00:00\",\"x1\":\"2021-09-30T00:00:00+00:00\",\"xref\":\"x\",\"y0\":0,\"y1\":1,\"yref\":\"y domain\"},{\"line\":{\"color\":\"orange\",\"dash\":\"dash\",\"width\":1},\"type\":\"line\",\"x0\":\"2021-10-04T00:00:00+00:00\",\"x1\":\"2021-10-04T00:00:00+00:00\",\"xref\":\"x\",\"y0\":0,\"y1\":1,\"yref\":\"y domain\"},{\"line\":{\"color\":\"orange\",\"dash\":\"dash\",\"width\":1},\"type\":\"line\",\"x0\":\"2021-11-23T00:00:00+00:00\",\"x1\":\"2021-11-23T00:00:00+00:00\",\"xref\":\"x\",\"y0\":0,\"y1\":1,\"yref\":\"y domain\"},{\"line\":{\"color\":\"orange\",\"dash\":\"dash\",\"width\":1},\"type\":\"line\",\"x0\":\"2021-12-20T00:00:00+00:00\",\"x1\":\"2021-12-20T00:00:00+00:00\",\"xref\":\"x\",\"y0\":0,\"y1\":1,\"yref\":\"y domain\"},{\"line\":{\"color\":\"orange\",\"dash\":\"dash\",\"width\":1},\"type\":\"line\",\"x0\":\"2022-01-27T00:00:00+00:00\",\"x1\":\"2022-01-27T00:00:00+00:00\",\"xref\":\"x\",\"y0\":0,\"y1\":1,\"yref\":\"y domain\"},{\"line\":{\"color\":\"orange\",\"dash\":\"dash\",\"width\":1},\"type\":\"line\",\"x0\":\"2022-02-23T00:00:00+00:00\",\"x1\":\"2022-02-23T00:00:00+00:00\",\"xref\":\"x\",\"y0\":0,\"y1\":1,\"yref\":\"y domain\"},{\"line\":{\"color\":\"orange\",\"dash\":\"dash\",\"width\":1},\"type\":\"line\",\"x0\":\"2022-03-14T00:00:00+00:00\",\"x1\":\"2022-03-14T00:00:00+00:00\",\"xref\":\"x\",\"y0\":0,\"y1\":1,\"yref\":\"y domain\"},{\"line\":{\"color\":\"orange\",\"dash\":\"dash\",\"width\":1},\"type\":\"line\",\"x0\":\"2022-04-29T00:00:00+00:00\",\"x1\":\"2022-04-29T00:00:00+00:00\",\"xref\":\"x\",\"y0\":0,\"y1\":1,\"yref\":\"y domain\"},{\"line\":{\"color\":\"orange\",\"dash\":\"dash\",\"width\":1},\"type\":\"line\",\"x0\":\"2022-05-11T00:00:00+00:00\",\"x1\":\"2022-05-11T00:00:00+00:00\",\"xref\":\"x\",\"y0\":0,\"y1\":1,\"yref\":\"y domain\"},{\"line\":{\"color\":\"orange\",\"dash\":\"dash\",\"width\":1},\"type\":\"line\",\"x0\":\"2022-06-13T00:00:00+00:00\",\"x1\":\"2022-06-13T00:00:00+00:00\",\"xref\":\"x\",\"y0\":0,\"y1\":1,\"yref\":\"y domain\"},{\"line\":{\"color\":\"orange\",\"dash\":\"dash\",\"width\":1},\"type\":\"line\",\"x0\":\"2022-07-14T00:00:00+00:00\",\"x1\":\"2022-07-14T00:00:00+00:00\",\"xref\":\"x\",\"y0\":0,\"y1\":1,\"yref\":\"y domain\"},{\"line\":{\"color\":\"orange\",\"dash\":\"dash\",\"width\":1},\"type\":\"line\",\"x0\":\"2022-08-31T00:00:00+00:00\",\"x1\":\"2022-08-31T00:00:00+00:00\",\"xref\":\"x\",\"y0\":0,\"y1\":1,\"yref\":\"y domain\"},{\"line\":{\"color\":\"orange\",\"dash\":\"dash\",\"width\":1},\"type\":\"line\",\"x0\":\"2022-09-06T00:00:00+00:00\",\"x1\":\"2022-09-06T00:00:00+00:00\",\"xref\":\"x\",\"y0\":0,\"y1\":1,\"yref\":\"y domain\"},{\"line\":{\"color\":\"orange\",\"dash\":\"dash\",\"width\":1},\"type\":\"line\",\"x0\":\"2022-10-14T00:00:00+00:00\",\"x1\":\"2022-10-14T00:00:00+00:00\",\"xref\":\"x\",\"y0\":0,\"y1\":1,\"yref\":\"y domain\"},{\"line\":{\"color\":\"orange\",\"dash\":\"dash\",\"width\":1},\"type\":\"line\",\"x0\":\"2022-11-09T00:00:00+00:00\",\"x1\":\"2022-11-09T00:00:00+00:00\",\"xref\":\"x\",\"y0\":0,\"y1\":1,\"yref\":\"y domain\"},{\"line\":{\"color\":\"orange\",\"dash\":\"dash\",\"width\":1},\"type\":\"line\",\"x0\":\"2022-12-27T00:00:00+00:00\",\"x1\":\"2022-12-27T00:00:00+00:00\",\"xref\":\"x\",\"y0\":0,\"y1\":1,\"yref\":\"y domain\"},{\"line\":{\"color\":\"orange\",\"dash\":\"dash\",\"width\":1},\"type\":\"line\",\"x0\":\"2023-01-05T00:00:00+00:00\",\"x1\":\"2023-01-05T00:00:00+00:00\",\"xref\":\"x\",\"y0\":0,\"y1\":1,\"yref\":\"y domain\"},{\"line\":{\"color\":\"orange\",\"dash\":\"dash\",\"width\":1},\"type\":\"line\",\"x0\":\"2023-02-10T00:00:00+00:00\",\"x1\":\"2023-02-10T00:00:00+00:00\",\"xref\":\"x\",\"y0\":0,\"y1\":1,\"yref\":\"y domain\"},{\"line\":{\"color\":\"orange\",\"dash\":\"dash\",\"width\":1},\"type\":\"line\",\"x0\":\"2023-03-10T00:00:00+00:00\",\"x1\":\"2023-03-10T00:00:00+00:00\",\"xref\":\"x\",\"y0\":0,\"y1\":1,\"yref\":\"y domain\"},{\"line\":{\"color\":\"orange\",\"dash\":\"dash\",\"width\":1},\"type\":\"line\",\"x0\":\"2023-05-04T00:00:00+00:00\",\"x1\":\"2023-05-04T00:00:00+00:00\",\"xref\":\"x\",\"y0\":0,\"y1\":1,\"yref\":\"y domain\"},{\"line\":{\"color\":\"orange\",\"dash\":\"dash\",\"width\":1},\"type\":\"line\",\"x0\":\"2023-06-26T00:00:00+00:00\",\"x1\":\"2023-06-26T00:00:00+00:00\",\"xref\":\"x\",\"y0\":0,\"y1\":1,\"yref\":\"y domain\"},{\"line\":{\"color\":\"orange\",\"dash\":\"dash\",\"width\":1},\"type\":\"line\",\"x0\":\"2023-07-06T00:00:00+00:00\",\"x1\":\"2023-07-06T00:00:00+00:00\",\"xref\":\"x\",\"y0\":0,\"y1\":1,\"yref\":\"y domain\"},{\"line\":{\"color\":\"orange\",\"dash\":\"dash\",\"width\":1},\"type\":\"line\",\"x0\":\"2023-08-24T00:00:00+00:00\",\"x1\":\"2023-08-24T00:00:00+00:00\",\"xref\":\"x\",\"y0\":0,\"y1\":1,\"yref\":\"y domain\"},{\"line\":{\"color\":\"orange\",\"dash\":\"dash\",\"width\":1},\"type\":\"line\",\"x0\":\"2023-09-26T00:00:00+00:00\",\"x1\":\"2023-09-26T00:00:00+00:00\",\"xref\":\"x\",\"y0\":0,\"y1\":1,\"yref\":\"y domain\"},{\"line\":{\"color\":\"orange\",\"dash\":\"dash\",\"width\":1},\"type\":\"line\",\"x0\":\"2023-10-30T00:00:00+00:00\",\"x1\":\"2023-10-30T00:00:00+00:00\",\"xref\":\"x\",\"y0\":0,\"y1\":1,\"yref\":\"y domain\"},{\"line\":{\"color\":\"orange\",\"dash\":\"dash\",\"width\":1},\"type\":\"line\",\"x0\":\"2023-11-01T00:00:00+00:00\",\"x1\":\"2023-11-01T00:00:00+00:00\",\"xref\":\"x\",\"y0\":0,\"y1\":1,\"yref\":\"y domain\"},{\"line\":{\"color\":\"orange\",\"dash\":\"dash\",\"width\":1},\"type\":\"line\",\"x0\":\"2023-12-06T00:00:00+00:00\",\"x1\":\"2023-12-06T00:00:00+00:00\",\"xref\":\"x\",\"y0\":0,\"y1\":1,\"yref\":\"y domain\"},{\"line\":{\"color\":\"orange\",\"dash\":\"dash\",\"width\":1},\"type\":\"line\",\"x0\":\"2024-01-05T00:00:00+00:00\",\"x1\":\"2024-01-05T00:00:00+00:00\",\"xref\":\"x\",\"y0\":0,\"y1\":1,\"yref\":\"y domain\"},{\"line\":{\"color\":\"orange\",\"dash\":\"dash\",\"width\":1},\"type\":\"line\",\"x0\":\"2024-02-01T00:00:00+00:00\",\"x1\":\"2024-02-01T00:00:00+00:00\",\"xref\":\"x\",\"y0\":0,\"y1\":1,\"yref\":\"y domain\"},{\"line\":{\"color\":\"orange\",\"dash\":\"dash\",\"width\":1},\"type\":\"line\",\"x0\":\"2024-03-28T00:00:00+00:00\",\"x1\":\"2024-03-28T00:00:00+00:00\",\"xref\":\"x\",\"y0\":0,\"y1\":1,\"yref\":\"y domain\"},{\"line\":{\"color\":\"orange\",\"dash\":\"dash\",\"width\":1},\"type\":\"line\",\"x0\":\"2024-04-19T00:00:00+00:00\",\"x1\":\"2024-04-19T00:00:00+00:00\",\"xref\":\"x\",\"y0\":0,\"y1\":1,\"yref\":\"y domain\"},{\"line\":{\"color\":\"orange\",\"dash\":\"dash\",\"width\":1},\"type\":\"line\",\"x0\":\"2024-05-10T00:00:00+00:00\",\"x1\":\"2024-05-10T00:00:00+00:00\",\"xref\":\"x\",\"y0\":0,\"y1\":1,\"yref\":\"y domain\"},{\"line\":{\"color\":\"orange\",\"dash\":\"dash\",\"width\":1},\"type\":\"line\",\"x0\":\"2024-06-03T00:00:00+00:00\",\"x1\":\"2024-06-03T00:00:00+00:00\",\"xref\":\"x\",\"y0\":0,\"y1\":1,\"yref\":\"y domain\"},{\"line\":{\"color\":\"orange\",\"dash\":\"dash\",\"width\":1},\"type\":\"line\",\"x0\":\"2024-07-02T00:00:00+00:00\",\"x1\":\"2024-07-02T00:00:00+00:00\",\"xref\":\"x\",\"y0\":0,\"y1\":1,\"yref\":\"y domain\"},{\"line\":{\"color\":\"orange\",\"dash\":\"dash\",\"width\":1},\"type\":\"line\",\"x0\":\"2024-08-05T00:00:00+00:00\",\"x1\":\"2024-08-05T00:00:00+00:00\",\"xref\":\"x\",\"y0\":0,\"y1\":1,\"yref\":\"y domain\"},{\"line\":{\"color\":\"orange\",\"dash\":\"dash\",\"width\":1},\"type\":\"line\",\"x0\":\"2024-09-05T00:00:00+00:00\",\"x1\":\"2024-09-05T00:00:00+00:00\",\"xref\":\"x\",\"y0\":0,\"y1\":1,\"yref\":\"y domain\"},{\"line\":{\"color\":\"orange\",\"dash\":\"dash\",\"width\":1},\"type\":\"line\",\"x0\":\"2024-10-01T00:00:00+00:00\",\"x1\":\"2024-10-01T00:00:00+00:00\",\"xref\":\"x\",\"y0\":0,\"y1\":1,\"yref\":\"y domain\"},{\"line\":{\"color\":\"orange\",\"dash\":\"dash\",\"width\":1},\"type\":\"line\",\"x0\":\"2024-11-04T00:00:00+00:00\",\"x1\":\"2024-11-04T00:00:00+00:00\",\"xref\":\"x\",\"y0\":0,\"y1\":1,\"yref\":\"y domain\"}],\"hovermode\":\"x\"},                        {\"responsive\": true}                    ).then(function(){\n",
       "                            \n",
       "var gd = document.getElementById('bf72395c-3dbe-4811-9111-f91d76c34787');\n",
       "var x = new MutationObserver(function (mutations, observer) {{\n",
       "        var display = window.getComputedStyle(gd).display;\n",
       "        if (!display || display === 'none') {{\n",
       "            console.log([gd, 'removed!']);\n",
       "            Plotly.purge(gd);\n",
       "            observer.disconnect();\n",
       "        }}\n",
       "}});\n",
       "\n",
       "// Listen for the removal of the full notebook cells\n",
       "var notebookContainer = gd.closest('#notebook-container');\n",
       "if (notebookContainer) {{\n",
       "    x.observe(notebookContainer, {childList: true});\n",
       "}}\n",
       "\n",
       "// Listen for the clearing of the current output cell\n",
       "var outputEl = gd.closest('.output');\n",
       "if (outputEl) {{\n",
       "    x.observe(outputEl, {childList: true});\n",
       "}}\n",
       "\n",
       "                        })                };                });            </script>        </div>"
      ]
     },
     "metadata": {},
     "output_type": "display_data"
    }
   ],
   "source": [
    "fig = px.line(data_frame=df, x=\"date\", y=\"real_adj_close\")\n",
    "for buy_date in strategies[\"oracle\"][\"buy\"]:\n",
    "    fig.add_vline(x=buy_date, line_width=1, line_dash=\"dash\", line_color=\"orange\")\n",
    "fig.update_layout(hovermode=\"x\")\n",
    "fig.show()"
   ]
  },
  {
   "cell_type": "code",
   "execution_count": null,
   "id": "3a00761e-4ea2-423a-859b-f3e2928295c9",
   "metadata": {},
   "outputs": [],
   "source": []
  }
 ],
 "metadata": {
  "kernelspec": {
   "display_name": "Python 3 (ipykernel)",
   "language": "python",
   "name": "python3"
  },
  "language_info": {
   "codemirror_mode": {
    "name": "ipython",
    "version": 3
   },
   "file_extension": ".py",
   "mimetype": "text/x-python",
   "name": "python",
   "nbconvert_exporter": "python",
   "pygments_lexer": "ipython3",
   "version": "3.12.5"
  }
 },
 "nbformat": 4,
 "nbformat_minor": 5
}
