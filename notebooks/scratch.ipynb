{
 "cells": [
  {
   "cell_type": "code",
   "execution_count": 1,
   "id": "25437434-e2de-44ea-abb6-d27edddd5b97",
   "metadata": {},
   "outputs": [],
   "source": [
    "import json\n",
    "import os\n",
    "\n",
    "import pandas as pd\n",
    "import plotly.express as px\n",
    "import requests\n",
    "\n",
    "from itertools import pairwise"
   ]
  },
  {
   "cell_type": "code",
   "execution_count": 2,
   "id": "62a91251-08e3-43f9-8b74-bf3b4915a4b0",
   "metadata": {},
   "outputs": [],
   "source": [
    "os.chdir(\"..\")"
   ]
  },
  {
   "cell_type": "markdown",
   "id": "190af059-9de0-4947-a527-ffc83b37e8ee",
   "metadata": {},
   "source": [
    "# fetch data"
   ]
  },
  {
   "cell_type": "code",
   "execution_count": 3,
   "id": "34e7683a-368b-4238-bd22-2301e753770b",
   "metadata": {},
   "outputs": [],
   "source": [
    "api_key = os.environ.get(\"MARKETSTACK_API_KEY\")"
   ]
  },
  {
   "cell_type": "code",
   "execution_count": 4,
   "id": "38b048ce-66a0-4dbc-bdf6-2d09e48dcf79",
   "metadata": {},
   "outputs": [],
   "source": [
    "dates = [\"2020-01-01\", \"2021-01-01\", \"2022-01-01\", \"2023-01-01\", \"2024-11-10\"]"
   ]
  },
  {
   "cell_type": "code",
   "execution_count": 50,
   "id": "52ce682f-a469-4ec7-aa74-5ae5339d6535",
   "metadata": {},
   "outputs": [],
   "source": [
    "ticker = \"PLTR\""
   ]
  },
  {
   "cell_type": "code",
   "execution_count": 51,
   "id": "801a8491-f1ce-4957-86e1-7908ef77b169",
   "metadata": {},
   "outputs": [],
   "source": [
    "url = f\"https://api.marketstack.com/v1/eod?access_key={api_key}\""
   ]
  },
  {
   "cell_type": "code",
   "execution_count": 52,
   "id": "32c14f3d-45a1-417d-8b9a-73b393ca843c",
   "metadata": {},
   "outputs": [],
   "source": [
    "file_path = f\"data/daily/{ticker}.json\""
   ]
  },
  {
   "cell_type": "code",
   "execution_count": 53,
   "id": "00ab2694-bef3-4aaa-9b85-5300df20c953",
   "metadata": {},
   "outputs": [],
   "source": [
    "data = []\n",
    "\n",
    "if os.path.exists(file_path):\n",
    "    print(\"File exists!\")\n",
    "else:\n",
    "    for date_from, date_to in pairwise(dates):\n",
    "        params = {\n",
    "            \"symbols\": ticker,\n",
    "            \"date_from\": date_from,\n",
    "            \"date_to\": date_to,\n",
    "            \"sort\": \"ASC\",\n",
    "            \"limit\": 1000\n",
    "        }\n",
    "        response = requests.get(url, params=params)\n",
    "        if response.ok:\n",
    "            data += response.json()[\"data\"]\n",
    "\n",
    "    with open(file_path, \"w\") as file:\n",
    "        json.dump(data, file, indent=4)"
   ]
  },
  {
   "cell_type": "code",
   "execution_count": 54,
   "id": "b47c6088-36f2-4d7d-81f4-852b6f708862",
   "metadata": {},
   "outputs": [],
   "source": [
    "with open(file_path, \"r\") as file:\n",
    "    data = json.load(file)"
   ]
  },
  {
   "cell_type": "markdown",
   "id": "cdf10684-ab17-4420-8bd3-31fc9d3b176a",
   "metadata": {},
   "source": [
    "# load data"
   ]
  },
  {
   "cell_type": "code",
   "execution_count": 55,
   "id": "814cda54-2a90-4362-8016-ac4ec8216cb7",
   "metadata": {},
   "outputs": [],
   "source": [
    "df = pd.DataFrame(data)"
   ]
  },
  {
   "cell_type": "code",
   "execution_count": 56,
   "id": "f5a6346d-495d-403f-a70f-1d282e74cb20",
   "metadata": {},
   "outputs": [],
   "source": [
    "df[\"date\"] = pd.to_datetime(df[\"date\"])\n",
    "df[\"week\"] = df[\"date\"] - pd.offsets.Week(weekday=6)"
   ]
  },
  {
   "cell_type": "code",
   "execution_count": 57,
   "id": "f1427902-4e4c-4d91-b42d-e39c28740808",
   "metadata": {},
   "outputs": [
    {
     "data": {
      "text/html": [
       "<div>\n",
       "<style scoped>\n",
       "    .dataframe tbody tr th:only-of-type {\n",
       "        vertical-align: middle;\n",
       "    }\n",
       "\n",
       "    .dataframe tbody tr th {\n",
       "        vertical-align: top;\n",
       "    }\n",
       "\n",
       "    .dataframe thead th {\n",
       "        text-align: right;\n",
       "    }\n",
       "</style>\n",
       "<table border=\"1\" class=\"dataframe\">\n",
       "  <thead>\n",
       "    <tr style=\"text-align: right;\">\n",
       "      <th></th>\n",
       "      <th>symbol</th>\n",
       "      <th>date</th>\n",
       "      <th>close</th>\n",
       "      <th>adj_close</th>\n",
       "      <th>split_factor</th>\n",
       "    </tr>\n",
       "  </thead>\n",
       "  <tbody>\n",
       "    <tr>\n",
       "      <th>371</th>\n",
       "      <td>PLTR</td>\n",
       "      <td>2022-08-10 00:00:00+00:00</td>\n",
       "      <td>9.59</td>\n",
       "      <td>9.59</td>\n",
       "      <td>1.0</td>\n",
       "    </tr>\n",
       "    <tr>\n",
       "      <th>372</th>\n",
       "      <td>PLTR</td>\n",
       "      <td>2022-08-11 00:00:00+00:00</td>\n",
       "      <td>9.42</td>\n",
       "      <td>9.42</td>\n",
       "      <td>1.0</td>\n",
       "    </tr>\n",
       "    <tr>\n",
       "      <th>373</th>\n",
       "      <td>PLTR</td>\n",
       "      <td>2022-08-12 00:00:00+00:00</td>\n",
       "      <td>9.91</td>\n",
       "      <td>9.91</td>\n",
       "      <td>1.0</td>\n",
       "    </tr>\n",
       "    <tr>\n",
       "      <th>374</th>\n",
       "      <td>PLTR</td>\n",
       "      <td>2022-08-15 00:00:00+00:00</td>\n",
       "      <td>9.91</td>\n",
       "      <td>9.91</td>\n",
       "      <td>1.0</td>\n",
       "    </tr>\n",
       "    <tr>\n",
       "      <th>375</th>\n",
       "      <td>PLTR</td>\n",
       "      <td>2022-08-16 00:00:00+00:00</td>\n",
       "      <td>9.74</td>\n",
       "      <td>9.74</td>\n",
       "      <td>1.0</td>\n",
       "    </tr>\n",
       "    <tr>\n",
       "      <th>376</th>\n",
       "      <td>PLTR</td>\n",
       "      <td>2022-08-17 00:00:00+00:00</td>\n",
       "      <td>9.43</td>\n",
       "      <td>9.43</td>\n",
       "      <td>1.0</td>\n",
       "    </tr>\n",
       "    <tr>\n",
       "      <th>377</th>\n",
       "      <td>PLTR</td>\n",
       "      <td>2022-08-18 00:00:00+00:00</td>\n",
       "      <td>9.15</td>\n",
       "      <td>9.15</td>\n",
       "      <td>1.0</td>\n",
       "    </tr>\n",
       "    <tr>\n",
       "      <th>378</th>\n",
       "      <td>PLTR</td>\n",
       "      <td>2022-08-19 00:00:00+00:00</td>\n",
       "      <td>8.51</td>\n",
       "      <td>8.51</td>\n",
       "      <td>1.0</td>\n",
       "    </tr>\n",
       "    <tr>\n",
       "      <th>379</th>\n",
       "      <td>PLTR</td>\n",
       "      <td>2022-08-22 00:00:00+00:00</td>\n",
       "      <td>8.07</td>\n",
       "      <td>8.07</td>\n",
       "      <td>1.0</td>\n",
       "    </tr>\n",
       "    <tr>\n",
       "      <th>380</th>\n",
       "      <td>PLTR</td>\n",
       "      <td>2022-08-23 00:00:00+00:00</td>\n",
       "      <td>8.01</td>\n",
       "      <td>8.01</td>\n",
       "      <td>1.0</td>\n",
       "    </tr>\n",
       "    <tr>\n",
       "      <th>381</th>\n",
       "      <td>PLTR</td>\n",
       "      <td>2022-08-24 00:00:00+00:00</td>\n",
       "      <td>8.10</td>\n",
       "      <td>8.10</td>\n",
       "      <td>1.0</td>\n",
       "    </tr>\n",
       "    <tr>\n",
       "      <th>382</th>\n",
       "      <td>PLTR</td>\n",
       "      <td>2022-08-25 00:00:00+00:00</td>\n",
       "      <td>8.42</td>\n",
       "      <td>8.42</td>\n",
       "      <td>1.0</td>\n",
       "    </tr>\n",
       "    <tr>\n",
       "      <th>383</th>\n",
       "      <td>PLTR</td>\n",
       "      <td>2022-08-26 00:00:00+00:00</td>\n",
       "      <td>7.94</td>\n",
       "      <td>7.94</td>\n",
       "      <td>1.0</td>\n",
       "    </tr>\n",
       "    <tr>\n",
       "      <th>384</th>\n",
       "      <td>PLTR</td>\n",
       "      <td>2022-08-29 00:00:00+00:00</td>\n",
       "      <td>7.81</td>\n",
       "      <td>7.81</td>\n",
       "      <td>1.0</td>\n",
       "    </tr>\n",
       "    <tr>\n",
       "      <th>385</th>\n",
       "      <td>PLTR</td>\n",
       "      <td>2022-08-30 00:00:00+00:00</td>\n",
       "      <td>7.79</td>\n",
       "      <td>7.79</td>\n",
       "      <td>1.0</td>\n",
       "    </tr>\n",
       "    <tr>\n",
       "      <th>386</th>\n",
       "      <td>PLTR</td>\n",
       "      <td>2022-08-31 00:00:00+00:00</td>\n",
       "      <td>7.72</td>\n",
       "      <td>7.72</td>\n",
       "      <td>1.0</td>\n",
       "    </tr>\n",
       "  </tbody>\n",
       "</table>\n",
       "</div>"
      ],
      "text/plain": [
       "    symbol                      date  close  adj_close  split_factor\n",
       "371   PLTR 2022-08-10 00:00:00+00:00   9.59       9.59           1.0\n",
       "372   PLTR 2022-08-11 00:00:00+00:00   9.42       9.42           1.0\n",
       "373   PLTR 2022-08-12 00:00:00+00:00   9.91       9.91           1.0\n",
       "374   PLTR 2022-08-15 00:00:00+00:00   9.91       9.91           1.0\n",
       "375   PLTR 2022-08-16 00:00:00+00:00   9.74       9.74           1.0\n",
       "376   PLTR 2022-08-17 00:00:00+00:00   9.43       9.43           1.0\n",
       "377   PLTR 2022-08-18 00:00:00+00:00   9.15       9.15           1.0\n",
       "378   PLTR 2022-08-19 00:00:00+00:00   8.51       8.51           1.0\n",
       "379   PLTR 2022-08-22 00:00:00+00:00   8.07       8.07           1.0\n",
       "380   PLTR 2022-08-23 00:00:00+00:00   8.01       8.01           1.0\n",
       "381   PLTR 2022-08-24 00:00:00+00:00   8.10       8.10           1.0\n",
       "382   PLTR 2022-08-25 00:00:00+00:00   8.42       8.42           1.0\n",
       "383   PLTR 2022-08-26 00:00:00+00:00   7.94       7.94           1.0\n",
       "384   PLTR 2022-08-29 00:00:00+00:00   7.81       7.81           1.0\n",
       "385   PLTR 2022-08-30 00:00:00+00:00   7.79       7.79           1.0\n",
       "386   PLTR 2022-08-31 00:00:00+00:00   7.72       7.72           1.0"
      ]
     },
     "execution_count": 57,
     "metadata": {},
     "output_type": "execute_result"
    }
   ],
   "source": [
    "df[df[\"date\"].between(\"2022-08-10\", \"2022-08-31\")][[\"symbol\", \"date\", \"close\", \"adj_close\", \"split_factor\"]]"
   ]
  },
  {
   "cell_type": "code",
   "execution_count": 58,
   "id": "a1a0cb5f-9c2f-452f-9651-f338cee6f4e8",
   "metadata": {},
   "outputs": [
    {
     "data": {
      "text/html": [
       "<div>\n",
       "<style scoped>\n",
       "    .dataframe tbody tr th:only-of-type {\n",
       "        vertical-align: middle;\n",
       "    }\n",
       "\n",
       "    .dataframe tbody tr th {\n",
       "        vertical-align: top;\n",
       "    }\n",
       "\n",
       "    .dataframe thead th {\n",
       "        text-align: right;\n",
       "    }\n",
       "</style>\n",
       "<table border=\"1\" class=\"dataframe\">\n",
       "  <thead>\n",
       "    <tr style=\"text-align: right;\">\n",
       "      <th></th>\n",
       "      <th>open</th>\n",
       "      <th>high</th>\n",
       "      <th>low</th>\n",
       "      <th>close</th>\n",
       "      <th>volume</th>\n",
       "      <th>adj_high</th>\n",
       "      <th>adj_low</th>\n",
       "      <th>adj_close</th>\n",
       "      <th>adj_open</th>\n",
       "      <th>adj_volume</th>\n",
       "      <th>split_factor</th>\n",
       "      <th>dividend</th>\n",
       "      <th>symbol</th>\n",
       "      <th>exchange</th>\n",
       "      <th>date</th>\n",
       "      <th>week</th>\n",
       "    </tr>\n",
       "  </thead>\n",
       "  <tbody>\n",
       "  </tbody>\n",
       "</table>\n",
       "</div>"
      ],
      "text/plain": [
       "Empty DataFrame\n",
       "Columns: [open, high, low, close, volume, adj_high, adj_low, adj_close, adj_open, adj_volume, split_factor, dividend, symbol, exchange, date, week]\n",
       "Index: []"
      ]
     },
     "execution_count": 58,
     "metadata": {},
     "output_type": "execute_result"
    }
   ],
   "source": [
    "df[df[\"split_factor\"]!=1]"
   ]
  },
  {
   "cell_type": "code",
   "execution_count": 59,
   "id": "9c4dcd9f-9706-42e7-8b83-61b16f2d3aae",
   "metadata": {},
   "outputs": [],
   "source": [
    "def calculate_split_factor(x):\n",
    "    split_factor = [1] + df[\"split_factor\"].to_list()[::-1][:-1]\n",
    "    current = 1\n",
    "    new_split_factor = []\n",
    "    for previous in split_factor:\n",
    "        new_factor = previous * current\n",
    "        new_split_factor.append(new_factor)\n",
    "        current = new_factor\n",
    "    return new_split_factor[::-1]"
   ]
  },
  {
   "cell_type": "code",
   "execution_count": 60,
   "id": "66727c6c-91bf-43b5-b5fd-cb9015220ce2",
   "metadata": {},
   "outputs": [],
   "source": [
    "df[\"net_split_factor\"] = calculate_split_factor(df[\"split_factor\"])\n",
    "df[\"real_adj_close\"] = (df[\"close\"] / df[\"net_split_factor\"]).round(4)"
   ]
  },
  {
   "cell_type": "markdown",
   "id": "51bb2170-650e-42ec-992b-d765bd8d8b7f",
   "metadata": {},
   "source": [
    "# some plots"
   ]
  },
  {
   "cell_type": "code",
   "execution_count": 61,
   "id": "6484ce09-7794-4249-8f80-8b2fa5995f40",
   "metadata": {},
   "outputs": [
    {
     "data": {
      "text/plain": [
       "<Axes: xlabel='date'>"
      ]
     },
     "execution_count": 61,
     "metadata": {},
     "output_type": "execute_result"
    },
    {
     "data": {
      "image/png": "[encoded data removed]",
      "text/plain": [
       "<Figure size 640x480 with 1 Axes>"
      ]
     },
     "metadata": {},
     "output_type": "display_data"
    }
   ],
   "source": [
    "df.set_index(\"date\")[\"close\"].plot.line()"
   ]
  },
  {
   "cell_type": "code",
   "execution_count": 62,
   "id": "4a9469ad-71aa-4ce4-bcd4-662aba0b12b0",
   "metadata": {},
   "outputs": [
    {
     "data": {
      "text/plain": [
       "<Axes: xlabel='date'>"
      ]
     },
     "execution_count": 62,
     "metadata": {},
     "output_type": "execute_result"
    },
    {
     "data": {
      "image/png": "[encoded data removed]",
      "text/plain": [
       "<Figure size 640x480 with 1 Axes>"
      ]
     },
     "metadata": {},
     "output_type": "display_data"
    }
   ],
   "source": [
    "df.set_index(\"date\")[\"adj_close\"].plot.line()"
   ]
  },
  {
   "cell_type": "code",
   "execution_count": 63,
   "id": "7aa0f5ed-58e0-49aa-ad80-530efc804e1e",
   "metadata": {},
   "outputs": [
    {
     "data": {
      "text/plain": [
       "<Axes: xlabel='date'>"
      ]
     },
     "execution_count": 63,
     "metadata": {},
     "output_type": "execute_result"
    },
    {
     "data": {
      "image/png": "[encoded data removed]",
      "text/plain": [
       "<Figure size 640x480 with 1 Axes>"
      ]
     },
     "metadata": {},
     "output_type": "display_data"
    }
   ],
   "source": [
    "df.set_index(\"date\")[\"real_adj_close\"].plot.line()"
   ]
  },
  {
   "cell_type": "code",
   "execution_count": 64,
   "id": "2c3662b7-6cd8-4ae2-a5f0-c26578901b44",
   "metadata": {},
   "outputs": [
    {
     "data": {
      "application/vnd.plotly.v1+json": {
       "config": {
        "plotlyServerURL": "https://plot.ly"
       },
       "data": [
        {
         "hovertemplate": "week=%{x}<br>real_adj_close=%{y}<extra></extra>",
         "legendgroup": "",
         "line": {
          "color": "#636efa",
          "dash": "solid"
         },
         "marker": {
          "symbol": "circle"
         },
         "mode": "lines",
         "name": "",
         "orientation": "v",
         "showlegend": false,
         "type": "scatter",
         "x": [
          "2021-02-14T00:00:00+00:00",
          "2021-02-21T00:00:00+00:00",
          "2021-02-28T00:00:00+00:00",
          "2021-03-07T00:00:00+00:00",
          "2021-03-14T00:00:00+00:00",
          "2021-03-21T00:00:00+00:00",
          "2021-03-28T00:00:00+00:00",
          "2021-04-04T00:00:00+00:00",
          "2021-04-11T00:00:00+00:00",
          "2021-04-18T00:00:00+00:00",
          "2021-04-25T00:00:00+00:00",
          "2021-05-02T00:00:00+00:00",
          "2021-05-09T00:00:00+00:00",
          "2021-05-16T00:00:00+00:00",
          "2021-05-23T00:00:00+00:00",
          "2021-05-30T00:00:00+00:00",
          "2021-06-06T00:00:00+00:00",
          "2021-06-13T00:00:00+00:00",
          "2021-06-20T00:00:00+00:00",
          "2021-06-27T00:00:00+00:00",
          "2021-07-04T00:00:00+00:00",
          "2021-07-11T00:00:00+00:00",
          "2021-07-18T00:00:00+00:00",
          "2021-07-25T00:00:00+00:00",
          "2021-08-01T00:00:00+00:00",
          "2021-08-08T00:00:00+00:00",
          "2021-08-15T00:00:00+00:00",
          "2021-08-22T00:00:00+00:00",
          "2021-08-29T00:00:00+00:00",
          "2021-09-05T00:00:00+00:00",
          "2021-09-12T00:00:00+00:00",
          "2021-09-19T00:00:00+00:00",
          "2021-09-26T00:00:00+00:00",
          "2021-10-03T00:00:00+00:00",
          "2021-10-10T00:00:00+00:00",
          "2021-10-17T00:00:00+00:00",
          "2021-10-24T00:00:00+00:00",
          "2021-10-31T00:00:00+00:00",
          "2021-11-07T00:00:00+00:00",
          "2021-11-14T00:00:00+00:00",
          "2021-11-21T00:00:00+00:00",
          "2021-11-28T00:00:00+00:00",
          "2021-12-05T00:00:00+00:00",
          "2021-12-12T00:00:00+00:00",
          "2021-12-19T00:00:00+00:00",
          "2021-12-26T00:00:00+00:00",
          "2022-01-02T00:00:00+00:00",
          "2022-01-09T00:00:00+00:00",
          "2022-01-16T00:00:00+00:00",
          "2022-01-23T00:00:00+00:00",
          "2022-01-30T00:00:00+00:00",
          "2022-02-06T00:00:00+00:00",
          "2022-02-13T00:00:00+00:00",
          "2022-02-20T00:00:00+00:00",
          "2022-02-27T00:00:00+00:00",
          "2022-03-06T00:00:00+00:00",
          "2022-03-13T00:00:00+00:00",
          "2022-03-20T00:00:00+00:00",
          "2022-03-27T00:00:00+00:00",
          "2022-04-03T00:00:00+00:00",
          "2022-04-10T00:00:00+00:00",
          "2022-04-17T00:00:00+00:00",
          "2022-04-24T00:00:00+00:00",
          "2022-05-01T00:00:00+00:00",
          "2022-05-08T00:00:00+00:00",
          "2022-05-15T00:00:00+00:00",
          "2022-05-22T00:00:00+00:00",
          "2022-05-29T00:00:00+00:00",
          "2022-06-05T00:00:00+00:00",
          "2022-06-12T00:00:00+00:00",
          "2022-06-19T00:00:00+00:00",
          "2022-06-26T00:00:00+00:00",
          "2022-07-03T00:00:00+00:00",
          "2022-07-10T00:00:00+00:00",
          "2022-07-17T00:00:00+00:00",
          "2022-07-24T00:00:00+00:00",
          "2022-07-31T00:00:00+00:00",
          "2022-08-07T00:00:00+00:00",
          "2022-08-14T00:00:00+00:00",
          "2022-08-21T00:00:00+00:00",
          "2022-08-28T00:00:00+00:00",
          "2022-09-04T00:00:00+00:00",
          "2022-09-11T00:00:00+00:00",
          "2022-09-18T00:00:00+00:00",
          "2022-09-25T00:00:00+00:00",
          "2022-10-02T00:00:00+00:00",
          "2022-10-09T00:00:00+00:00",
          "2022-10-16T00:00:00+00:00",
          "2022-10-23T00:00:00+00:00",
          "2022-10-30T00:00:00+00:00",
          "2022-11-06T00:00:00+00:00",
          "2022-11-13T00:00:00+00:00",
          "2022-11-20T00:00:00+00:00",
          "2022-11-27T00:00:00+00:00",
          "2022-12-04T00:00:00+00:00",
          "2022-12-11T00:00:00+00:00",
          "2022-12-18T00:00:00+00:00",
          "2022-12-25T00:00:00+00:00",
          "2023-01-01T00:00:00+00:00",
          "2023-01-08T00:00:00+00:00",
          "2023-01-15T00:00:00+00:00",
          "2023-01-22T00:00:00+00:00",
          "2023-01-29T00:00:00+00:00",
          "2023-02-05T00:00:00+00:00",
          "2023-02-12T00:00:00+00:00",
          "2023-02-19T00:00:00+00:00",
          "2023-02-26T00:00:00+00:00",
          "2023-03-05T00:00:00+00:00",
          "2023-03-12T00:00:00+00:00",
          "2023-03-19T00:00:00+00:00",
          "2023-03-26T00:00:00+00:00",
          "2023-04-02T00:00:00+00:00",
          "2023-04-09T00:00:00+00:00",
          "2023-04-16T00:00:00+00:00",
          "2023-04-23T00:00:00+00:00",
          "2023-04-30T00:00:00+00:00",
          "2023-05-07T00:00:00+00:00",
          "2023-05-14T00:00:00+00:00",
          "2023-05-21T00:00:00+00:00",
          "2023-05-28T00:00:00+00:00",
          "2023-06-04T00:00:00+00:00",
          "2023-06-11T00:00:00+00:00",
          "2023-06-18T00:00:00+00:00",
          "2023-06-25T00:00:00+00:00",
          "2023-07-02T00:00:00+00:00",
          "2023-07-09T00:00:00+00:00",
          "2023-07-16T00:00:00+00:00",
          "2023-07-23T00:00:00+00:00",
          "2023-07-30T00:00:00+00:00",
          "2023-08-06T00:00:00+00:00",
          "2023-08-13T00:00:00+00:00",
          "2023-08-20T00:00:00+00:00",
          "2023-08-27T00:00:00+00:00",
          "2023-09-03T00:00:00+00:00",
          "2023-09-10T00:00:00+00:00",
          "2023-09-17T00:00:00+00:00",
          "2023-09-24T00:00:00+00:00",
          "2023-10-01T00:00:00+00:00",
          "2023-10-08T00:00:00+00:00",
          "2023-10-15T00:00:00+00:00",
          "2023-10-22T00:00:00+00:00",
          "2023-10-29T00:00:00+00:00",
          "2023-11-05T00:00:00+00:00",
          "2023-11-12T00:00:00+00:00",
          "2023-11-19T00:00:00+00:00",
          "2023-11-26T00:00:00+00:00",
          "2023-12-03T00:00:00+00:00",
          "2023-12-10T00:00:00+00:00",
          "2023-12-17T00:00:00+00:00",
          "2023-12-24T00:00:00+00:00",
          "2023-12-31T00:00:00+00:00",
          "2024-01-07T00:00:00+00:00",
          "2024-01-14T00:00:00+00:00",
          "2024-01-21T00:00:00+00:00",
          "2024-01-28T00:00:00+00:00",
          "2024-02-04T00:00:00+00:00",
          "2024-02-11T00:00:00+00:00",
          "2024-02-18T00:00:00+00:00",
          "2024-02-25T00:00:00+00:00",
          "2024-03-03T00:00:00+00:00",
          "2024-03-10T00:00:00+00:00",
          "2024-03-17T00:00:00+00:00",
          "2024-03-24T00:00:00+00:00",
          "2024-03-31T00:00:00+00:00",
          "2024-04-07T00:00:00+00:00",
          "2024-04-14T00:00:00+00:00",
          "2024-04-21T00:00:00+00:00",
          "2024-04-28T00:00:00+00:00",
          "2024-05-05T00:00:00+00:00",
          "2024-05-12T00:00:00+00:00",
          "2024-05-19T00:00:00+00:00",
          "2024-05-26T00:00:00+00:00",
          "2024-06-02T00:00:00+00:00",
          "2024-06-09T00:00:00+00:00",
          "2024-06-16T00:00:00+00:00",
          "2024-06-23T00:00:00+00:00",
          "2024-06-30T00:00:00+00:00",
          "2024-07-07T00:00:00+00:00",
          "2024-07-14T00:00:00+00:00",
          "2024-07-21T00:00:00+00:00",
          "2024-07-28T00:00:00+00:00",
          "2024-08-04T00:00:00+00:00",
          "2024-08-11T00:00:00+00:00",
          "2024-08-18T00:00:00+00:00",
          "2024-08-25T00:00:00+00:00",
          "2024-09-01T00:00:00+00:00",
          "2024-09-08T00:00:00+00:00",
          "2024-09-15T00:00:00+00:00",
          "2024-09-22T00:00:00+00:00",
          "2024-09-29T00:00:00+00:00",
          "2024-10-06T00:00:00+00:00",
          "2024-10-13T00:00:00+00:00",
          "2024-10-20T00:00:00+00:00",
          "2024-10-27T00:00:00+00:00",
          "2024-11-03T00:00:00+00:00"
         ],
         "xaxis": "x",
         "y": [
          null,
          23.9,
          23.95,
          26.92,
          24.32,
          22.58,
          23.07,
          24.04,
          22.47,
          23.41,
          23.04,
          19.75,
          20.08,
          20.75,
          22.95,
          24.03,
          24.67,
          25.37,
          26.78,
          24.44,
          23.29,
          21.37,
          21.81,
          21.71,
          21.82,
          24.9,
          24.01,
          25.71,
          26.64,
          26.28,
          28.71,
          28.56,
          24.33,
          23.5,
          24,
          24.43,
          25.88,
          26,
          22.83,
          21.41,
          21.03,
          18.98,
          18.94,
          19.06,
          18.93,
          18.21,
          16.56,
          16.01,
          13.53,
          12.71,
          12.94,
          13.13,
          11.02,
          11.47,
          10.96,
          11.39,
          12.82,
          12.97,
          13.83,
          12.7,
          12.42,
          11.96,
          10.4,
          9.48,
          8.34,
          8.08,
          8.85,
          8.94,
          8.26,
          8.24,
          10.19,
          9.27,
          10.17,
          9.04,
          9.84,
          10.35,
          11.45,
          9.91,
          8.51,
          7.94,
          7.4,
          7.79,
          7.78,
          7.4,
          8.13,
          8.15,
          7.53,
          8.29,
          8.64,
          7.93,
          8.41,
          7.39,
          7.28,
          7.66,
          7.11,
          6.9,
          6.29,
          6.42,
          6.4,
          6.96,
          7.02,
          7.55,
          8.41,
          7.51,
          9.2,
          8.09,
          8.33,
          7.35,
          7.88,
          8.2,
          8.45,
          8.09,
          8.81,
          8.18,
          7.75,
          7.41,
          9.5,
          11.71,
          13.65,
          14.52,
          15.02,
          16.3,
          14.03,
          15.33,
          15.34,
          16.4,
          16.43,
          17.81,
          18.2,
          15.41,
          14.4,
          14.53,
          15.18,
          15.13,
          15.33,
          14.13,
          16,
          16.61,
          17.36,
          16.11,
          15.07,
          18.89,
          19.67,
          20.49,
          19.2,
          20.27,
          17.77,
          18.2,
          17.41,
          17.17,
          15.98,
          16.76,
          16.78,
          16.35,
          17.02,
          24.38,
          24.44,
          22.97,
          24.93,
          26.04,
          23.49,
          24.18,
          23.01,
          22.96,
          22.67,
          20.47,
          22.52,
          23.33,
          20.6,
          21.76,
          21.01,
          21.68,
          23.31,
          23.57,
          23.84,
          25.33,
          27.23,
          28.07,
          28.58,
          27.18,
          24.74,
          30.01,
          32.08,
          31.78,
          31.48,
          30.33,
          35.59,
          37.2,
          36.84,
          40.01,
          43.51,
          42.97,
          44.86,
          41.92,
          58.39
         ],
         "yaxis": "y"
        }
       ],
       "layout": {
        "autosize": true,
        "hovermode": "x",
        "legend": {
         "tracegroupgap": 0
        },
        "margin": {
         "t": 60
        },
        "template": {
         "data": {
          "bar": [
           {
            "error_x": {
             "color": "#2a3f5f"
            },
            "error_y": {
             "color": "#2a3f5f"
            },
            "marker": {
             "line": {
              "color": "#E5ECF6",
              "width": 0.5
             },
             "pattern": {
              "fillmode": "overlay",
              "size": 10,
              "solidity": 0.2
             }
            },
            "type": "bar"
           }
          ],
          "barpolar": [
           {
            "marker": {
             "line": {
              "color": "#E5ECF6",
              "width": 0.5
             },
             "pattern": {
              "fillmode": "overlay",
              "size": 10,
              "solidity": 0.2
             }
            },
            "type": "barpolar"
           }
          ],
          "carpet": [
           {
            "aaxis": {
             "endlinecolor": "#2a3f5f",
             "gridcolor": "white",
             "linecolor": "white",
             "minorgridcolor": "white",
             "startlinecolor": "#2a3f5f"
            },
            "baxis": {
             "endlinecolor": "#2a3f5f",
             "gridcolor": "white",
             "linecolor": "white",
             "minorgridcolor": "white",
             "startlinecolor": "#2a3f5f"
            },
            "type": "carpet"
           }
          ],
          "choropleth": [
           {
            "colorbar": {
             "outlinewidth": 0,
             "ticks": ""
            },
            "type": "choropleth"
           }
          ],
          "contour": [
           {
            "colorbar": {
             "outlinewidth": 0,
             "ticks": ""
            },
            "colorscale": [
             [
              0,
              "#0d0887"
             ],
             [
              0.1111111111111111,
              "#46039f"
             ],
             [
              0.2222222222222222,
              "#7201a8"
             ],
             [
              0.3333333333333333,
              "#9c179e"
             ],
             [
              0.4444444444444444,
              "#bd3786"
             ],
             [
              0.5555555555555556,
              "#d8576b"
             ],
             [
              0.6666666666666666,
              "#ed7953"
             ],
             [
              0.7777777777777778,
              "#fb9f3a"
             ],
             [
              0.8888888888888888,
              "#fdca26"
             ],
             [
              1,
              "#f0f921"
             ]
            ],
            "type": "contour"
           }
          ],
          "contourcarpet": [
           {
            "colorbar": {
             "outlinewidth": 0,
             "ticks": ""
            },
            "type": "contourcarpet"
           }
          ],
          "heatmap": [
           {
            "colorbar": {
             "outlinewidth": 0,
             "ticks": ""
            },
            "colorscale": [
             [
              0,
              "#0d0887"
             ],
             [
              0.1111111111111111,
              "#46039f"
             ],
             [
              0.2222222222222222,
              "#7201a8"
             ],
             [
              0.3333333333333333,
              "#9c179e"
             ],
             [
              0.4444444444444444,
              "#bd3786"
             ],
             [
              0.5555555555555556,
              "#d8576b"
             ],
             [
              0.6666666666666666,
              "#ed7953"
             ],
             [
              0.7777777777777778,
              "#fb9f3a"
             ],
             [
              0.8888888888888888,
              "#fdca26"
             ],
             [
              1,
              "#f0f921"
             ]
            ],
            "type": "heatmap"
           }
          ],
          "heatmapgl": [
           {
            "colorbar": {
             "outlinewidth": 0,
             "ticks": ""
            },
            "colorscale": [
             [
              0,
              "#0d0887"
             ],
             [
              0.1111111111111111,
              "#46039f"
             ],
             [
              0.2222222222222222,
              "#7201a8"
             ],
             [
              0.3333333333333333,
              "#9c179e"
             ],
             [
              0.4444444444444444,
              "#bd3786"
             ],
             [
              0.5555555555555556,
              "#d8576b"
             ],
             [
              0.6666666666666666,
              "#ed7953"
             ],
             [
              0.7777777777777778,
              "#fb9f3a"
             ],
             [
              0.8888888888888888,
              "#fdca26"
             ],
             [
              1,
              "#f0f921"
             ]
            ],
            "type": "heatmapgl"
           }
          ],
          "histogram": [
           {
            "marker": {
             "pattern": {
              "fillmode": "overlay",
              "size": 10,
              "solidity": 0.2
             }
            },
            "type": "histogram"
           }
          ],
          "histogram2d": [
           {
            "colorbar": {
             "outlinewidth": 0,
             "ticks": ""
            },
            "colorscale": [
             [
              0,
              "#0d0887"
             ],
             [
              0.1111111111111111,
              "#46039f"
             ],
             [
              0.2222222222222222,
              "#7201a8"
             ],
             [
              0.3333333333333333,
              "#9c179e"
             ],
             [
              0.4444444444444444,
              "#bd3786"
             ],
             [
              0.5555555555555556,
              "#d8576b"
             ],
             [
              0.6666666666666666,
              "#ed7953"
             ],
             [
              0.7777777777777778,
              "#fb9f3a"
             ],
             [
              0.8888888888888888,
              "#fdca26"
             ],
             [
              1,
              "#f0f921"
             ]
            ],
            "type": "histogram2d"
           }
          ],
          "histogram2dcontour": [
           {
            "colorbar": {
             "outlinewidth": 0,
             "ticks": ""
            },
            "colorscale": [
             [
              0,
              "#0d0887"
             ],
             [
              0.1111111111111111,
              "#46039f"
             ],
             [
              0.2222222222222222,
              "#7201a8"
             ],
             [
              0.3333333333333333,
              "#9c179e"
             ],
             [
              0.4444444444444444,
              "#bd3786"
             ],
             [
              0.5555555555555556,
              "#d8576b"
             ],
             [
              0.6666666666666666,
              "#ed7953"
             ],
             [
              0.7777777777777778,
              "#fb9f3a"
             ],
             [
              0.8888888888888888,
              "#fdca26"
             ],
             [
              1,
              "#f0f921"
             ]
            ],
            "type": "histogram2dcontour"
           }
          ],
          "mesh3d": [
           {
            "colorbar": {
             "outlinewidth": 0,
             "ticks": ""
            },
            "type": "mesh3d"
           }
          ],
          "parcoords": [
           {
            "line": {
             "colorbar": {
              "outlinewidth": 0,
              "ticks": ""
             }
            },
            "type": "parcoords"
           }
          ],
          "pie": [
           {
            "automargin": true,
            "type": "pie"
           }
          ],
          "scatter": [
           {
            "fillpattern": {
             "fillmode": "overlay",
             "size": 10,
             "solidity": 0.2
            },
            "type": "scatter"
           }
          ],
          "scatter3d": [
           {
            "line": {
             "colorbar": {
              "outlinewidth": 0,
              "ticks": ""
             }
            },
            "marker": {
             "colorbar": {
              "outlinewidth": 0,
              "ticks": ""
             }
            },
            "type": "scatter3d"
           }
          ],
          "scattercarpet": [
           {
            "marker": {
             "colorbar": {
              "outlinewidth": 0,
              "ticks": ""
             }
            },
            "type": "scattercarpet"
           }
          ],
          "scattergeo": [
           {
            "marker": {
             "colorbar": {
              "outlinewidth": 0,
              "ticks": ""
             }
            },
            "type": "scattergeo"
           }
          ],
          "scattergl": [
           {
            "marker": {
             "colorbar": {
              "outlinewidth": 0,
              "ticks": ""
             }
            },
            "type": "scattergl"
           }
          ],
          "scattermapbox": [
           {
            "marker": {
             "colorbar": {
              "outlinewidth": 0,
              "ticks": ""
             }
            },
            "type": "scattermapbox"
           }
          ],
          "scatterpolar": [
           {
            "marker": {
             "colorbar": {
              "outlinewidth": 0,
              "ticks": ""
             }
            },
            "type": "scatterpolar"
           }
          ],
          "scatterpolargl": [
           {
            "marker": {
             "colorbar": {
              "outlinewidth": 0,
              "ticks": ""
             }
            },
            "type": "scatterpolargl"
           }
          ],
          "scatterternary": [
           {
            "marker": {
             "colorbar": {
              "outlinewidth": 0,
              "ticks": ""
             }
            },
            "type": "scatterternary"
           }
          ],
          "surface": [
           {
            "colorbar": {
             "outlinewidth": 0,
             "ticks": ""
            },
            "colorscale": [
             [
              0,
              "#0d0887"
             ],
             [
              0.1111111111111111,
              "#46039f"
             ],
             [
              0.2222222222222222,
              "#7201a8"
             ],
             [
              0.3333333333333333,
              "#9c179e"
             ],
             [
              0.4444444444444444,
              "#bd3786"
             ],
             [
              0.5555555555555556,
              "#d8576b"
             ],
             [
              0.6666666666666666,
              "#ed7953"
             ],
             [
              0.7777777777777778,
              "#fb9f3a"
             ],
             [
              0.8888888888888888,
              "#fdca26"
             ],
             [
              1,
              "#f0f921"
             ]
            ],
            "type": "surface"
           }
          ],
          "table": [
           {
            "cells": {
             "fill": {
              "color": "#EBF0F8"
             },
             "line": {
              "color": "white"
             }
            },
            "header": {
             "fill": {
              "color": "#C8D4E3"
             },
             "line": {
              "color": "white"
             }
            },
            "type": "table"
           }
          ]
         },
         "layout": {
          "annotationdefaults": {
           "arrowcolor": "#2a3f5f",
           "arrowhead": 0,
           "arrowwidth": 1
          },
          "autotypenumbers": "strict",
          "coloraxis": {
           "colorbar": {
            "outlinewidth": 0,
            "ticks": ""
           }
          },
          "colorscale": {
           "diverging": [
            [
             0,
             "#8e0152"
            ],
            [
             0.1,
             "#c51b7d"
            ],
            [
             0.2,
             "#de77ae"
            ],
            [
             0.3,
             "#f1b6da"
            ],
            [
             0.4,
             "#fde0ef"
            ],
            [
             0.5,
             "#f7f7f7"
            ],
            [
             0.6,
             "#e6f5d0"
            ],
            [
             0.7,
             "#b8e186"
            ],
            [
             0.8,
             "#7fbc41"
            ],
            [
             0.9,
             "#4d9221"
            ],
            [
             1,
             "#276419"
            ]
           ],
           "sequential": [
            [
             0,
             "#0d0887"
            ],
            [
             0.1111111111111111,
             "#46039f"
            ],
            [
             0.2222222222222222,
             "#7201a8"
            ],
            [
             0.3333333333333333,
             "#9c179e"
            ],
            [
             0.4444444444444444,
             "#bd3786"
            ],
            [
             0.5555555555555556,
             "#d8576b"
            ],
            [
             0.6666666666666666,
             "#ed7953"
            ],
            [
             0.7777777777777778,
             "#fb9f3a"
            ],
            [
             0.8888888888888888,
             "#fdca26"
            ],
            [
             1,
             "#f0f921"
            ]
           ],
           "sequentialminus": [
            [
             0,
             "#0d0887"
            ],
            [
             0.1111111111111111,
             "#46039f"
            ],
            [
             0.2222222222222222,
             "#7201a8"
            ],
            [
             0.3333333333333333,
             "#9c179e"
            ],
            [
             0.4444444444444444,
             "#bd3786"
            ],
            [
             0.5555555555555556,
             "#d8576b"
            ],
            [
             0.6666666666666666,
             "#ed7953"
            ],
            [
             0.7777777777777778,
             "#fb9f3a"
            ],
            [
             0.8888888888888888,
             "#fdca26"
            ],
            [
             1,
             "#f0f921"
            ]
           ]
          },
          "colorway": [
           "#636efa",
           "#EF553B",
           "#00cc96",
           "#ab63fa",
           "#FFA15A",
           "#19d3f3",
           "#FF6692",
           "#B6E880",
           "#FF97FF",
           "#FECB52"
          ],
          "font": {
           "color": "#2a3f5f"
          },
          "geo": {
           "bgcolor": "white",
           "lakecolor": "white",
           "landcolor": "#E5ECF6",
           "showlakes": true,
           "showland": true,
           "subunitcolor": "white"
          },
          "hoverlabel": {
           "align": "left"
          },
          "hovermode": "closest",
          "mapbox": {
           "style": "light"
          },
          "paper_bgcolor": "white",
          "plot_bgcolor": "#E5ECF6",
          "polar": {
           "angularaxis": {
            "gridcolor": "white",
            "linecolor": "white",
            "ticks": ""
           },
           "bgcolor": "#E5ECF6",
           "radialaxis": {
            "gridcolor": "white",
            "linecolor": "white",
            "ticks": ""
           }
          },
          "scene": {
           "xaxis": {
            "backgroundcolor": "#E5ECF6",
            "gridcolor": "white",
            "gridwidth": 2,
            "linecolor": "white",
            "showbackground": true,
            "ticks": "",
            "zerolinecolor": "white"
           },
           "yaxis": {
            "backgroundcolor": "#E5ECF6",
            "gridcolor": "white",
            "gridwidth": 2,
            "linecolor": "white",
            "showbackground": true,
            "ticks": "",
            "zerolinecolor": "white"
           },
           "zaxis": {
            "backgroundcolor": "#E5ECF6",
            "gridcolor": "white",
            "gridwidth": 2,
            "linecolor": "white",
            "showbackground": true,
            "ticks": "",
            "zerolinecolor": "white"
           }
          },
          "shapedefaults": {
           "line": {
            "color": "#2a3f5f"
           }
          },
          "ternary": {
           "aaxis": {
            "gridcolor": "white",
            "linecolor": "white",
            "ticks": ""
           },
           "baxis": {
            "gridcolor": "white",
            "linecolor": "white",
            "ticks": ""
           },
           "bgcolor": "#E5ECF6",
           "caxis": {
            "gridcolor": "white",
            "linecolor": "white",
            "ticks": ""
           }
          },
          "title": {
           "x": 0.05
          },
          "xaxis": {
           "automargin": true,
           "gridcolor": "white",
           "linecolor": "white",
           "ticks": "",
           "title": {
            "standoff": 15
           },
           "zerolinecolor": "white",
           "zerolinewidth": 2
          },
          "yaxis": {
           "automargin": true,
           "gridcolor": "white",
           "linecolor": "white",
           "ticks": "",
           "title": {
            "standoff": 15
           },
           "zerolinecolor": "white",
           "zerolinewidth": 2
          }
         }
        },
        "xaxis": {
         "anchor": "y",
         "autorange": true,
         "domain": [
          0,
          1
         ],
         "range": [
          "2021-02-14",
          "2024-11-03"
         ],
         "title": {
          "text": "week"
         },
         "type": "date"
        },
        "yaxis": {
         "anchor": "x",
         "autorange": true,
         "domain": [
          0,
          1
         ],
         "range": [
          3.395555555555555,
          61.284444444444446
         ],
         "title": {
          "text": "real_adj_close"
         },
         "type": "linear"
        }
       }
      },
      "image/png": "[encoded data removed]",
      "text/html": [
       "<div>                            <div id=\"2af530b3-2b3b-4b08-b6d5-47e6fdecb2a7\" class=\"plotly-graph-div\" style=\"height:525px; width:100%;\"></div>            <script type=\"text/javascript\">                require([\"plotly\"], function(Plotly) {                    window.PLOTLYENV=window.PLOTLYENV || {};                                    if (document.getElementById(\"2af530b3-2b3b-4b08-b6d5-47e6fdecb2a7\")) {                    Plotly.newPlot(                        \"2af530b3-2b3b-4b08-b6d5-47e6fdecb2a7\",                        [{\"hovertemplate\":\"week=%{x}\\u003cbr\\u003ereal_adj_close=%{y}\\u003cextra\\u003e\\u003c\\u002fextra\\u003e\",\"legendgroup\":\"\",\"line\":{\"color\":\"#636efa\",\"dash\":\"solid\"},\"marker\":{\"symbol\":\"circle\"},\"mode\":\"lines\",\"name\":\"\",\"orientation\":\"v\",\"showlegend\":false,\"x\":[\"2021-02-14T00:00:00+00:00\",\"2021-02-21T00:00:00+00:00\",\"2021-02-28T00:00:00+00:00\",\"2021-03-07T00:00:00+00:00\",\"2021-03-14T00:00:00+00:00\",\"2021-03-21T00:00:00+00:00\",\"2021-03-28T00:00:00+00:00\",\"2021-04-04T00:00:00+00:00\",\"2021-04-11T00:00:00+00:00\",\"2021-04-18T00:00:00+00:00\",\"2021-04-25T00:00:00+00:00\",\"2021-05-02T00:00:00+00:00\",\"2021-05-09T00:00:00+00:00\",\"2021-05-16T00:00:00+00:00\",\"2021-05-23T00:00:00+00:00\",\"2021-05-30T00:00:00+00:00\",\"2021-06-06T00:00:00+00:00\",\"2021-06-13T00:00:00+00:00\",\"2021-06-20T00:00:00+00:00\",\"2021-06-27T00:00:00+00:00\",\"2021-07-04T00:00:00+00:00\",\"2021-07-11T00:00:00+00:00\",\"2021-07-18T00:00:00+00:00\",\"2021-07-25T00:00:00+00:00\",\"2021-08-01T00:00:00+00:00\",\"2021-08-08T00:00:00+00:00\",\"2021-08-15T00:00:00+00:00\",\"2021-08-22T00:00:00+00:00\",\"2021-08-29T00:00:00+00:00\",\"2021-09-05T00:00:00+00:00\",\"2021-09-12T00:00:00+00:00\",\"2021-09-19T00:00:00+00:00\",\"2021-09-26T00:00:00+00:00\",\"2021-10-03T00:00:00+00:00\",\"2021-10-10T00:00:00+00:00\",\"2021-10-17T00:00:00+00:00\",\"2021-10-24T00:00:00+00:00\",\"2021-10-31T00:00:00+00:00\",\"2021-11-07T00:00:00+00:00\",\"2021-11-14T00:00:00+00:00\",\"2021-11-21T00:00:00+00:00\",\"2021-11-28T00:00:00+00:00\",\"2021-12-05T00:00:00+00:00\",\"2021-12-12T00:00:00+00:00\",\"2021-12-19T00:00:00+00:00\",\"2021-12-26T00:00:00+00:00\",\"2022-01-02T00:00:00+00:00\",\"2022-01-09T00:00:00+00:00\",\"2022-01-16T00:00:00+00:00\",\"2022-01-23T00:00:00+00:00\",\"2022-01-30T00:00:00+00:00\",\"2022-02-06T00:00:00+00:00\",\"2022-02-13T00:00:00+00:00\",\"2022-02-20T00:00:00+00:00\",\"2022-02-27T00:00:00+00:00\",\"2022-03-06T00:00:00+00:00\",\"2022-03-13T00:00:00+00:00\",\"2022-03-20T00:00:00+00:00\",\"2022-03-27T00:00:00+00:00\",\"2022-04-03T00:00:00+00:00\",\"2022-04-10T00:00:00+00:00\",\"2022-04-17T00:00:00+00:00\",\"2022-04-24T00:00:00+00:00\",\"2022-05-01T00:00:00+00:00\",\"2022-05-08T00:00:00+00:00\",\"2022-05-15T00:00:00+00:00\",\"2022-05-22T00:00:00+00:00\",\"2022-05-29T00:00:00+00:00\",\"2022-06-05T00:00:00+00:00\",\"2022-06-12T00:00:00+00:00\",\"2022-06-19T00:00:00+00:00\",\"2022-06-26T00:00:00+00:00\",\"2022-07-03T00:00:00+00:00\",\"2022-07-10T00:00:00+00:00\",\"2022-07-17T00:00:00+00:00\",\"2022-07-24T00:00:00+00:00\",\"2022-07-31T00:00:00+00:00\",\"2022-08-07T00:00:00+00:00\",\"2022-08-14T00:00:00+00:00\",\"2022-08-21T00:00:00+00:00\",\"2022-08-28T00:00:00+00:00\",\"2022-09-04T00:00:00+00:00\",\"2022-09-11T00:00:00+00:00\",\"2022-09-18T00:00:00+00:00\",\"2022-09-25T00:00:00+00:00\",\"2022-10-02T00:00:00+00:00\",\"2022-10-09T00:00:00+00:00\",\"2022-10-16T00:00:00+00:00\",\"2022-10-23T00:00:00+00:00\",\"2022-10-30T00:00:00+00:00\",\"2022-11-06T00:00:00+00:00\",\"2022-11-13T00:00:00+00:00\",\"2022-11-20T00:00:00+00:00\",\"2022-11-27T00:00:00+00:00\",\"2022-12-04T00:00:00+00:00\",\"2022-12-11T00:00:00+00:00\",\"2022-12-18T00:00:00+00:00\",\"2022-12-25T00:00:00+00:00\",\"2023-01-01T00:00:00+00:00\",\"2023-01-08T00:00:00+00:00\",\"2023-01-15T00:00:00+00:00\",\"2023-01-22T00:00:00+00:00\",\"2023-01-29T00:00:00+00:00\",\"2023-02-05T00:00:00+00:00\",\"2023-02-12T00:00:00+00:00\",\"2023-02-19T00:00:00+00:00\",\"2023-02-26T00:00:00+00:00\",\"2023-03-05T00:00:00+00:00\",\"2023-03-12T00:00:00+00:00\",\"2023-03-19T00:00:00+00:00\",\"2023-03-26T00:00:00+00:00\",\"2023-04-02T00:00:00+00:00\",\"2023-04-09T00:00:00+00:00\",\"2023-04-16T00:00:00+00:00\",\"2023-04-23T00:00:00+00:00\",\"2023-04-30T00:00:00+00:00\",\"2023-05-07T00:00:00+00:00\",\"2023-05-14T00:00:00+00:00\",\"2023-05-21T00:00:00+00:00\",\"2023-05-28T00:00:00+00:00\",\"2023-06-04T00:00:00+00:00\",\"2023-06-11T00:00:00+00:00\",\"2023-06-18T00:00:00+00:00\",\"2023-06-25T00:00:00+00:00\",\"2023-07-02T00:00:00+00:00\",\"2023-07-09T00:00:00+00:00\",\"2023-07-16T00:00:00+00:00\",\"2023-07-23T00:00:00+00:00\",\"2023-07-30T00:00:00+00:00\",\"2023-08-06T00:00:00+00:00\",\"2023-08-13T00:00:00+00:00\",\"2023-08-20T00:00:00+00:00\",\"2023-08-27T00:00:00+00:00\",\"2023-09-03T00:00:00+00:00\",\"2023-09-10T00:00:00+00:00\",\"2023-09-17T00:00:00+00:00\",\"2023-09-24T00:00:00+00:00\",\"2023-10-01T00:00:00+00:00\",\"2023-10-08T00:00:00+00:00\",\"2023-10-15T00:00:00+00:00\",\"2023-10-22T00:00:00+00:00\",\"2023-10-29T00:00:00+00:00\",\"2023-11-05T00:00:00+00:00\",\"2023-11-12T00:00:00+00:00\",\"2023-11-19T00:00:00+00:00\",\"2023-11-26T00:00:00+00:00\",\"2023-12-03T00:00:00+00:00\",\"2023-12-10T00:00:00+00:00\",\"2023-12-17T00:00:00+00:00\",\"2023-12-24T00:00:00+00:00\",\"2023-12-31T00:00:00+00:00\",\"2024-01-07T00:00:00+00:00\",\"2024-01-14T00:00:00+00:00\",\"2024-01-21T00:00:00+00:00\",\"2024-01-28T00:00:00+00:00\",\"2024-02-04T00:00:00+00:00\",\"2024-02-11T00:00:00+00:00\",\"2024-02-18T00:00:00+00:00\",\"2024-02-25T00:00:00+00:00\",\"2024-03-03T00:00:00+00:00\",\"2024-03-10T00:00:00+00:00\",\"2024-03-17T00:00:00+00:00\",\"2024-03-24T00:00:00+00:00\",\"2024-03-31T00:00:00+00:00\",\"2024-04-07T00:00:00+00:00\",\"2024-04-14T00:00:00+00:00\",\"2024-04-21T00:00:00+00:00\",\"2024-04-28T00:00:00+00:00\",\"2024-05-05T00:00:00+00:00\",\"2024-05-12T00:00:00+00:00\",\"2024-05-19T00:00:00+00:00\",\"2024-05-26T00:00:00+00:00\",\"2024-06-02T00:00:00+00:00\",\"2024-06-09T00:00:00+00:00\",\"2024-06-16T00:00:00+00:00\",\"2024-06-23T00:00:00+00:00\",\"2024-06-30T00:00:00+00:00\",\"2024-07-07T00:00:00+00:00\",\"2024-07-14T00:00:00+00:00\",\"2024-07-21T00:00:00+00:00\",\"2024-07-28T00:00:00+00:00\",\"2024-08-04T00:00:00+00:00\",\"2024-08-11T00:00:00+00:00\",\"2024-08-18T00:00:00+00:00\",\"2024-08-25T00:00:00+00:00\",\"2024-09-01T00:00:00+00:00\",\"2024-09-08T00:00:00+00:00\",\"2024-09-15T00:00:00+00:00\",\"2024-09-22T00:00:00+00:00\",\"2024-09-29T00:00:00+00:00\",\"2024-10-06T00:00:00+00:00\",\"2024-10-13T00:00:00+00:00\",\"2024-10-20T00:00:00+00:00\",\"2024-10-27T00:00:00+00:00\",\"2024-11-03T00:00:00+00:00\"],\"xaxis\":\"x\",\"y\":[null,23.9,23.95,26.92,24.32,22.58,23.07,24.04,22.47,23.41,23.04,19.75,20.08,20.75,22.95,24.03,24.67,25.37,26.78,24.44,23.29,21.37,21.81,21.71,21.82,24.9,24.01,25.71,26.64,26.28,28.71,28.56,24.33,23.5,24.0,24.43,25.88,26.0,22.83,21.41,21.03,18.98,18.94,19.06,18.93,18.21,16.56,16.01,13.53,12.71,12.94,13.13,11.02,11.47,10.96,11.39,12.82,12.97,13.83,12.7,12.42,11.96,10.4,9.48,8.34,8.08,8.85,8.94,8.26,8.24,10.19,9.27,10.17,9.04,9.84,10.35,11.45,9.91,8.51,7.94,7.4,7.79,7.78,7.4,8.13,8.15,7.53,8.29,8.64,7.93,8.41,7.39,7.28,7.66,7.11,6.9,6.29,6.42,6.4,6.96,7.02,7.55,8.41,7.51,9.2,8.09,8.33,7.35,7.88,8.2,8.45,8.09,8.81,8.18,7.75,7.41,9.5,11.71,13.65,14.52,15.02,16.3,14.03,15.33,15.34,16.4,16.43,17.81,18.2,15.41,14.4,14.53,15.18,15.13,15.33,14.13,16.0,16.61,17.36,16.11,15.07,18.89,19.67,20.49,19.2,20.27,17.77,18.2,17.41,17.17,15.98,16.76,16.78,16.35,17.02,24.38,24.44,22.97,24.93,26.04,23.49,24.18,23.01,22.96,22.67,20.47,22.52,23.33,20.6,21.76,21.01,21.68,23.31,23.57,23.84,25.33,27.23,28.07,28.58,27.18,24.74,30.01,32.08,31.78,31.48,30.33,35.59,37.2,36.84,40.01,43.51,42.97,44.86,41.92,58.39],\"yaxis\":\"y\",\"type\":\"scatter\"}],                        {\"template\":{\"data\":{\"histogram2dcontour\":[{\"type\":\"histogram2dcontour\",\"colorbar\":{\"outlinewidth\":0,\"ticks\":\"\"},\"colorscale\":[[0.0,\"#0d0887\"],[0.1111111111111111,\"#46039f\"],[0.2222222222222222,\"#7201a8\"],[0.3333333333333333,\"#9c179e\"],[0.4444444444444444,\"#bd3786\"],[0.5555555555555556,\"#d8576b\"],[0.6666666666666666,\"#ed7953\"],[0.7777777777777778,\"#fb9f3a\"],[0.8888888888888888,\"#fdca26\"],[1.0,\"#f0f921\"]]}],\"choropleth\":[{\"type\":\"choropleth\",\"colorbar\":{\"outlinewidth\":0,\"ticks\":\"\"}}],\"histogram2d\":[{\"type\":\"histogram2d\",\"colorbar\":{\"outlinewidth\":0,\"ticks\":\"\"},\"colorscale\":[[0.0,\"#0d0887\"],[0.1111111111111111,\"#46039f\"],[0.2222222222222222,\"#7201a8\"],[0.3333333333333333,\"#9c179e\"],[0.4444444444444444,\"#bd3786\"],[0.5555555555555556,\"#d8576b\"],[0.6666666666666666,\"#ed7953\"],[0.7777777777777778,\"#fb9f3a\"],[0.8888888888888888,\"#fdca26\"],[1.0,\"#f0f921\"]]}],\"heatmap\":[{\"type\":\"heatmap\",\"colorbar\":{\"outlinewidth\":0,\"ticks\":\"\"},\"colorscale\":[[0.0,\"#0d0887\"],[0.1111111111111111,\"#46039f\"],[0.2222222222222222,\"#7201a8\"],[0.3333333333333333,\"#9c179e\"],[0.4444444444444444,\"#bd3786\"],[0.5555555555555556,\"#d8576b\"],[0.6666666666666666,\"#ed7953\"],[0.7777777777777778,\"#fb9f3a\"],[0.8888888888888888,\"#fdca26\"],[1.0,\"#f0f921\"]]}],\"heatmapgl\":[{\"type\":\"heatmapgl\",\"colorbar\":{\"outlinewidth\":0,\"ticks\":\"\"},\"colorscale\":[[0.0,\"#0d0887\"],[0.1111111111111111,\"#46039f\"],[0.2222222222222222,\"#7201a8\"],[0.3333333333333333,\"#9c179e\"],[0.4444444444444444,\"#bd3786\"],[0.5555555555555556,\"#d8576b\"],[0.6666666666666666,\"#ed7953\"],[0.7777777777777778,\"#fb9f3a\"],[0.8888888888888888,\"#fdca26\"],[1.0,\"#f0f921\"]]}],\"contourcarpet\":[{\"type\":\"contourcarpet\",\"colorbar\":{\"outlinewidth\":0,\"ticks\":\"\"}}],\"contour\":[{\"type\":\"contour\",\"colorbar\":{\"outlinewidth\":0,\"ticks\":\"\"},\"colorscale\":[[0.0,\"#0d0887\"],[0.1111111111111111,\"#46039f\"],[0.2222222222222222,\"#7201a8\"],[0.3333333333333333,\"#9c179e\"],[0.4444444444444444,\"#bd3786\"],[0.5555555555555556,\"#d8576b\"],[0.6666666666666666,\"#ed7953\"],[0.7777777777777778,\"#fb9f3a\"],[0.8888888888888888,\"#fdca26\"],[1.0,\"#f0f921\"]]}],\"surface\":[{\"type\":\"surface\",\"colorbar\":{\"outlinewidth\":0,\"ticks\":\"\"},\"colorscale\":[[0.0,\"#0d0887\"],[0.1111111111111111,\"#46039f\"],[0.2222222222222222,\"#7201a8\"],[0.3333333333333333,\"#9c179e\"],[0.4444444444444444,\"#bd3786\"],[0.5555555555555556,\"#d8576b\"],[0.6666666666666666,\"#ed7953\"],[0.7777777777777778,\"#fb9f3a\"],[0.8888888888888888,\"#fdca26\"],[1.0,\"#f0f921\"]]}],\"mesh3d\":[{\"type\":\"mesh3d\",\"colorbar\":{\"outlinewidth\":0,\"ticks\":\"\"}}],\"scatter\":[{\"fillpattern\":{\"fillmode\":\"overlay\",\"size\":10,\"solidity\":0.2},\"type\":\"scatter\"}],\"parcoords\":[{\"type\":\"parcoords\",\"line\":{\"colorbar\":{\"outlinewidth\":0,\"ticks\":\"\"}}}],\"scatterpolargl\":[{\"type\":\"scatterpolargl\",\"marker\":{\"colorbar\":{\"outlinewidth\":0,\"ticks\":\"\"}}}],\"bar\":[{\"error_x\":{\"color\":\"#2a3f5f\"},\"error_y\":{\"color\":\"#2a3f5f\"},\"marker\":{\"line\":{\"color\":\"#E5ECF6\",\"width\":0.5},\"pattern\":{\"fillmode\":\"overlay\",\"size\":10,\"solidity\":0.2}},\"type\":\"bar\"}],\"scattergeo\":[{\"type\":\"scattergeo\",\"marker\":{\"colorbar\":{\"outlinewidth\":0,\"ticks\":\"\"}}}],\"scatterpolar\":[{\"type\":\"scatterpolar\",\"marker\":{\"colorbar\":{\"outlinewidth\":0,\"ticks\":\"\"}}}],\"histogram\":[{\"marker\":{\"pattern\":{\"fillmode\":\"overlay\",\"size\":10,\"solidity\":0.2}},\"type\":\"histogram\"}],\"scattergl\":[{\"type\":\"scattergl\",\"marker\":{\"colorbar\":{\"outlinewidth\":0,\"ticks\":\"\"}}}],\"scatter3d\":[{\"type\":\"scatter3d\",\"line\":{\"colorbar\":{\"outlinewidth\":0,\"ticks\":\"\"}},\"marker\":{\"colorbar\":{\"outlinewidth\":0,\"ticks\":\"\"}}}],\"scattermapbox\":[{\"type\":\"scattermapbox\",\"marker\":{\"colorbar\":{\"outlinewidth\":0,\"ticks\":\"\"}}}],\"scatterternary\":[{\"type\":\"scatterternary\",\"marker\":{\"colorbar\":{\"outlinewidth\":0,\"ticks\":\"\"}}}],\"scattercarpet\":[{\"type\":\"scattercarpet\",\"marker\":{\"colorbar\":{\"outlinewidth\":0,\"ticks\":\"\"}}}],\"carpet\":[{\"aaxis\":{\"endlinecolor\":\"#2a3f5f\",\"gridcolor\":\"white\",\"linecolor\":\"white\",\"minorgridcolor\":\"white\",\"startlinecolor\":\"#2a3f5f\"},\"baxis\":{\"endlinecolor\":\"#2a3f5f\",\"gridcolor\":\"white\",\"linecolor\":\"white\",\"minorgridcolor\":\"white\",\"startlinecolor\":\"#2a3f5f\"},\"type\":\"carpet\"}],\"table\":[{\"cells\":{\"fill\":{\"color\":\"#EBF0F8\"},\"line\":{\"color\":\"white\"}},\"header\":{\"fill\":{\"color\":\"#C8D4E3\"},\"line\":{\"color\":\"white\"}},\"type\":\"table\"}],\"barpolar\":[{\"marker\":{\"line\":{\"color\":\"#E5ECF6\",\"width\":0.5},\"pattern\":{\"fillmode\":\"overlay\",\"size\":10,\"solidity\":0.2}},\"type\":\"barpolar\"}],\"pie\":[{\"automargin\":true,\"type\":\"pie\"}]},\"layout\":{\"autotypenumbers\":\"strict\",\"colorway\":[\"#636efa\",\"#EF553B\",\"#00cc96\",\"#ab63fa\",\"#FFA15A\",\"#19d3f3\",\"#FF6692\",\"#B6E880\",\"#FF97FF\",\"#FECB52\"],\"font\":{\"color\":\"#2a3f5f\"},\"hovermode\":\"closest\",\"hoverlabel\":{\"align\":\"left\"},\"paper_bgcolor\":\"white\",\"plot_bgcolor\":\"#E5ECF6\",\"polar\":{\"bgcolor\":\"#E5ECF6\",\"angularaxis\":{\"gridcolor\":\"white\",\"linecolor\":\"white\",\"ticks\":\"\"},\"radialaxis\":{\"gridcolor\":\"white\",\"linecolor\":\"white\",\"ticks\":\"\"}},\"ternary\":{\"bgcolor\":\"#E5ECF6\",\"aaxis\":{\"gridcolor\":\"white\",\"linecolor\":\"white\",\"ticks\":\"\"},\"baxis\":{\"gridcolor\":\"white\",\"linecolor\":\"white\",\"ticks\":\"\"},\"caxis\":{\"gridcolor\":\"white\",\"linecolor\":\"white\",\"ticks\":\"\"}},\"coloraxis\":{\"colorbar\":{\"outlinewidth\":0,\"ticks\":\"\"}},\"colorscale\":{\"sequential\":[[0.0,\"#0d0887\"],[0.1111111111111111,\"#46039f\"],[0.2222222222222222,\"#7201a8\"],[0.3333333333333333,\"#9c179e\"],[0.4444444444444444,\"#bd3786\"],[0.5555555555555556,\"#d8576b\"],[0.6666666666666666,\"#ed7953\"],[0.7777777777777778,\"#fb9f3a\"],[0.8888888888888888,\"#fdca26\"],[1.0,\"#f0f921\"]],\"sequentialminus\":[[0.0,\"#0d0887\"],[0.1111111111111111,\"#46039f\"],[0.2222222222222222,\"#7201a8\"],[0.3333333333333333,\"#9c179e\"],[0.4444444444444444,\"#bd3786\"],[0.5555555555555556,\"#d8576b\"],[0.6666666666666666,\"#ed7953\"],[0.7777777777777778,\"#fb9f3a\"],[0.8888888888888888,\"#fdca26\"],[1.0,\"#f0f921\"]],\"diverging\":[[0,\"#8e0152\"],[0.1,\"#c51b7d\"],[0.2,\"#de77ae\"],[0.3,\"#f1b6da\"],[0.4,\"#fde0ef\"],[0.5,\"#f7f7f7\"],[0.6,\"#e6f5d0\"],[0.7,\"#b8e186\"],[0.8,\"#7fbc41\"],[0.9,\"#4d9221\"],[1,\"#276419\"]]},\"xaxis\":{\"gridcolor\":\"white\",\"linecolor\":\"white\",\"ticks\":\"\",\"title\":{\"standoff\":15},\"zerolinecolor\":\"white\",\"automargin\":true,\"zerolinewidth\":2},\"yaxis\":{\"gridcolor\":\"white\",\"linecolor\":\"white\",\"ticks\":\"\",\"title\":{\"standoff\":15},\"zerolinecolor\":\"white\",\"automargin\":true,\"zerolinewidth\":2},\"scene\":{\"xaxis\":{\"backgroundcolor\":\"#E5ECF6\",\"gridcolor\":\"white\",\"linecolor\":\"white\",\"showbackground\":true,\"ticks\":\"\",\"zerolinecolor\":\"white\",\"gridwidth\":2},\"yaxis\":{\"backgroundcolor\":\"#E5ECF6\",\"gridcolor\":\"white\",\"linecolor\":\"white\",\"showbackground\":true,\"ticks\":\"\",\"zerolinecolor\":\"white\",\"gridwidth\":2},\"zaxis\":{\"backgroundcolor\":\"#E5ECF6\",\"gridcolor\":\"white\",\"linecolor\":\"white\",\"showbackground\":true,\"ticks\":\"\",\"zerolinecolor\":\"white\",\"gridwidth\":2}},\"shapedefaults\":{\"line\":{\"color\":\"#2a3f5f\"}},\"annotationdefaults\":{\"arrowcolor\":\"#2a3f5f\",\"arrowhead\":0,\"arrowwidth\":1},\"geo\":{\"bgcolor\":\"white\",\"landcolor\":\"#E5ECF6\",\"subunitcolor\":\"white\",\"showland\":true,\"showlakes\":true,\"lakecolor\":\"white\"},\"title\":{\"x\":0.05},\"mapbox\":{\"style\":\"light\"}}},\"xaxis\":{\"anchor\":\"y\",\"domain\":[0.0,1.0],\"title\":{\"text\":\"week\"}},\"yaxis\":{\"anchor\":\"x\",\"domain\":[0.0,1.0],\"title\":{\"text\":\"real_adj_close\"}},\"legend\":{\"tracegroupgap\":0},\"margin\":{\"t\":60},\"hovermode\":\"x\"},                        {\"responsive\": true}                    ).then(function(){\n",
       "                            \n",
       "var gd = document.getElementById('2af530b3-2b3b-4b08-b6d5-47e6fdecb2a7');\n",
       "var x = new MutationObserver(function (mutations, observer) {{\n",
       "        var display = window.getComputedStyle(gd).display;\n",
       "        if (!display || display === 'none') {{\n",
       "            console.log([gd, 'removed!']);\n",
       "            Plotly.purge(gd);\n",
       "            observer.disconnect();\n",
       "        }}\n",
       "}});\n",
       "\n",
       "// Listen for the removal of the full notebook cells\n",
       "var notebookContainer = gd.closest('#notebook-container');\n",
       "if (notebookContainer) {{\n",
       "    x.observe(notebookContainer, {childList: true});\n",
       "}}\n",
       "\n",
       "// Listen for the clearing of the current output cell\n",
       "var outputEl = gd.closest('.output');\n",
       "if (outputEl) {{\n",
       "    x.observe(outputEl, {childList: true});\n",
       "}}\n",
       "\n",
       "                        })                };                });            </script>        </div>"
      ]
     },
     "metadata": {},
     "output_type": "display_data"
    }
   ],
   "source": [
    "fig = px.line(data_frame=df.groupby(\"week\")[\"real_adj_close\"].last().reset_index(), x=\"week\", y=\"real_adj_close\")\n",
    "fig.update_layout(hovermode=\"x\")\n",
    "fig.show()"
   ]
  },
  {
   "cell_type": "code",
   "execution_count": 65,
   "id": "88db8dd7-eaec-4fab-bfcd-eb22e69c70d1",
   "metadata": {},
   "outputs": [
    {
     "data": {
      "text/html": [
       "<div>\n",
       "<style scoped>\n",
       "    .dataframe tbody tr th:only-of-type {\n",
       "        vertical-align: middle;\n",
       "    }\n",
       "\n",
       "    .dataframe tbody tr th {\n",
       "        vertical-align: top;\n",
       "    }\n",
       "\n",
       "    .dataframe thead th {\n",
       "        text-align: right;\n",
       "    }\n",
       "</style>\n",
       "<table border=\"1\" class=\"dataframe\">\n",
       "  <thead>\n",
       "    <tr style=\"text-align: right;\">\n",
       "      <th></th>\n",
       "      <th>date</th>\n",
       "      <th>week</th>\n",
       "      <th>real_adj_close</th>\n",
       "    </tr>\n",
       "  </thead>\n",
       "  <tbody>\n",
       "    <tr>\n",
       "      <th>172</th>\n",
       "      <td>2021-10-25 00:00:00+00:00</td>\n",
       "      <td>2021-10-24 00:00:00+00:00</td>\n",
       "      <td>25.41</td>\n",
       "    </tr>\n",
       "    <tr>\n",
       "      <th>173</th>\n",
       "      <td>2021-10-26 00:00:00+00:00</td>\n",
       "      <td>2021-10-24 00:00:00+00:00</td>\n",
       "      <td>25.52</td>\n",
       "    </tr>\n",
       "    <tr>\n",
       "      <th>174</th>\n",
       "      <td>2021-10-27 00:00:00+00:00</td>\n",
       "      <td>2021-10-24 00:00:00+00:00</td>\n",
       "      <td>25.06</td>\n",
       "    </tr>\n",
       "    <tr>\n",
       "      <th>175</th>\n",
       "      <td>2021-10-28 00:00:00+00:00</td>\n",
       "      <td>2021-10-24 00:00:00+00:00</td>\n",
       "      <td>25.64</td>\n",
       "    </tr>\n",
       "    <tr>\n",
       "      <th>176</th>\n",
       "      <td>2021-10-29 00:00:00+00:00</td>\n",
       "      <td>2021-10-24 00:00:00+00:00</td>\n",
       "      <td>25.88</td>\n",
       "    </tr>\n",
       "    <tr>\n",
       "      <th>177</th>\n",
       "      <td>2021-11-01 00:00:00+00:00</td>\n",
       "      <td>2021-10-31 00:00:00+00:00</td>\n",
       "      <td>26.56</td>\n",
       "    </tr>\n",
       "    <tr>\n",
       "      <th>178</th>\n",
       "      <td>2021-11-02 00:00:00+00:00</td>\n",
       "      <td>2021-10-31 00:00:00+00:00</td>\n",
       "      <td>25.92</td>\n",
       "    </tr>\n",
       "    <tr>\n",
       "      <th>179</th>\n",
       "      <td>2021-11-03 00:00:00+00:00</td>\n",
       "      <td>2021-10-31 00:00:00+00:00</td>\n",
       "      <td>26.12</td>\n",
       "    </tr>\n",
       "    <tr>\n",
       "      <th>180</th>\n",
       "      <td>2021-11-04 00:00:00+00:00</td>\n",
       "      <td>2021-10-31 00:00:00+00:00</td>\n",
       "      <td>26.47</td>\n",
       "    </tr>\n",
       "    <tr>\n",
       "      <th>181</th>\n",
       "      <td>2021-11-05 00:00:00+00:00</td>\n",
       "      <td>2021-10-31 00:00:00+00:00</td>\n",
       "      <td>26.00</td>\n",
       "    </tr>\n",
       "  </tbody>\n",
       "</table>\n",
       "</div>"
      ],
      "text/plain": [
       "                         date                      week  real_adj_close\n",
       "172 2021-10-25 00:00:00+00:00 2021-10-24 00:00:00+00:00           25.41\n",
       "173 2021-10-26 00:00:00+00:00 2021-10-24 00:00:00+00:00           25.52\n",
       "174 2021-10-27 00:00:00+00:00 2021-10-24 00:00:00+00:00           25.06\n",
       "175 2021-10-28 00:00:00+00:00 2021-10-24 00:00:00+00:00           25.64\n",
       "176 2021-10-29 00:00:00+00:00 2021-10-24 00:00:00+00:00           25.88\n",
       "177 2021-11-01 00:00:00+00:00 2021-10-31 00:00:00+00:00           26.56\n",
       "178 2021-11-02 00:00:00+00:00 2021-10-31 00:00:00+00:00           25.92\n",
       "179 2021-11-03 00:00:00+00:00 2021-10-31 00:00:00+00:00           26.12\n",
       "180 2021-11-04 00:00:00+00:00 2021-10-31 00:00:00+00:00           26.47\n",
       "181 2021-11-05 00:00:00+00:00 2021-10-31 00:00:00+00:00           26.00"
      ]
     },
     "execution_count": 65,
     "metadata": {},
     "output_type": "execute_result"
    }
   ],
   "source": [
    "df[df[\"date\"].between(\"2021-10-25\", \"2021-11-05\")][[\"date\", \"week\", \"real_adj_close\"]]"
   ]
  },
  {
   "cell_type": "markdown",
   "id": "6db960a3-0b2a-43a0-9a2a-684f7c546c7c",
   "metadata": {},
   "source": [
    "# strategies"
   ]
  },
  {
   "cell_type": "markdown",
   "id": "fe8677cd-c4be-4c26-9219-8ee2fb8182b3",
   "metadata": {},
   "source": [
    "A strategy is a set of buy/sell timestamps. "
   ]
  },
  {
   "cell_type": "markdown",
   "id": "945e37e0-3e14-4845-b76d-872bb647c469",
   "metadata": {},
   "source": [
    "## strategy 1: buy on the lowest day of every week"
   ]
  },
  {
   "cell_type": "code",
   "execution_count": 67,
   "id": "144f7241-9214-4c5c-bef5-493ed77039df",
   "metadata": {},
   "outputs": [
    {
     "data": {
      "text/html": [
       "<div>\n",
       "<style scoped>\n",
       "    .dataframe tbody tr th:only-of-type {\n",
       "        vertical-align: middle;\n",
       "    }\n",
       "\n",
       "    .dataframe tbody tr th {\n",
       "        vertical-align: top;\n",
       "    }\n",
       "\n",
       "    .dataframe thead th {\n",
       "        text-align: right;\n",
       "    }\n",
       "</style>\n",
       "<table border=\"1\" class=\"dataframe\">\n",
       "  <thead>\n",
       "    <tr style=\"text-align: right;\">\n",
       "      <th></th>\n",
       "      <th>date</th>\n",
       "      <th>week</th>\n",
       "      <th>real_adj_close</th>\n",
       "    </tr>\n",
       "  </thead>\n",
       "  <tbody>\n",
       "    <tr>\n",
       "      <th>0</th>\n",
       "      <td>2021-02-19 00:00:00+00:00</td>\n",
       "      <td>2021-02-14 00:00:00+00:00</td>\n",
       "      <td>NaN</td>\n",
       "    </tr>\n",
       "    <tr>\n",
       "      <th>1</th>\n",
       "      <td>2021-02-22 00:00:00+00:00</td>\n",
       "      <td>2021-02-21 00:00:00+00:00</td>\n",
       "      <td>28.00</td>\n",
       "    </tr>\n",
       "    <tr>\n",
       "      <th>2</th>\n",
       "      <td>2021-02-23 00:00:00+00:00</td>\n",
       "      <td>2021-02-21 00:00:00+00:00</td>\n",
       "      <td>26.75</td>\n",
       "    </tr>\n",
       "    <tr>\n",
       "      <th>3</th>\n",
       "      <td>2021-02-24 00:00:00+00:00</td>\n",
       "      <td>2021-02-21 00:00:00+00:00</td>\n",
       "      <td>26.39</td>\n",
       "    </tr>\n",
       "    <tr>\n",
       "      <th>4</th>\n",
       "      <td>2021-02-25 00:00:00+00:00</td>\n",
       "      <td>2021-02-21 00:00:00+00:00</td>\n",
       "      <td>23.96</td>\n",
       "    </tr>\n",
       "    <tr>\n",
       "      <th>...</th>\n",
       "      <td>...</td>\n",
       "      <td>...</td>\n",
       "      <td>...</td>\n",
       "    </tr>\n",
       "    <tr>\n",
       "      <th>933</th>\n",
       "      <td>2024-11-04 00:00:00+00:00</td>\n",
       "      <td>2024-11-03 00:00:00+00:00</td>\n",
       "      <td>41.41</td>\n",
       "    </tr>\n",
       "    <tr>\n",
       "      <th>934</th>\n",
       "      <td>2024-11-05 00:00:00+00:00</td>\n",
       "      <td>2024-11-03 00:00:00+00:00</td>\n",
       "      <td>51.13</td>\n",
       "    </tr>\n",
       "    <tr>\n",
       "      <th>935</th>\n",
       "      <td>2024-11-06 00:00:00+00:00</td>\n",
       "      <td>2024-11-03 00:00:00+00:00</td>\n",
       "      <td>55.53</td>\n",
       "    </tr>\n",
       "    <tr>\n",
       "      <th>936</th>\n",
       "      <td>2024-11-07 00:00:00+00:00</td>\n",
       "      <td>2024-11-03 00:00:00+00:00</td>\n",
       "      <td>55.88</td>\n",
       "    </tr>\n",
       "    <tr>\n",
       "      <th>937</th>\n",
       "      <td>2024-11-08 00:00:00+00:00</td>\n",
       "      <td>2024-11-03 00:00:00+00:00</td>\n",
       "      <td>58.39</td>\n",
       "    </tr>\n",
       "  </tbody>\n",
       "</table>\n",
       "<p>938 rows × 3 columns</p>\n",
       "</div>"
      ],
      "text/plain": [
       "                         date                      week  real_adj_close\n",
       "0   2021-02-19 00:00:00+00:00 2021-02-14 00:00:00+00:00             NaN\n",
       "1   2021-02-22 00:00:00+00:00 2021-02-21 00:00:00+00:00           28.00\n",
       "2   2021-02-23 00:00:00+00:00 2021-02-21 00:00:00+00:00           26.75\n",
       "3   2021-02-24 00:00:00+00:00 2021-02-21 00:00:00+00:00           26.39\n",
       "4   2021-02-25 00:00:00+00:00 2021-02-21 00:00:00+00:00           23.96\n",
       "..                        ...                       ...             ...\n",
       "933 2024-11-04 00:00:00+00:00 2024-11-03 00:00:00+00:00           41.41\n",
       "934 2024-11-05 00:00:00+00:00 2024-11-03 00:00:00+00:00           51.13\n",
       "935 2024-11-06 00:00:00+00:00 2024-11-03 00:00:00+00:00           55.53\n",
       "936 2024-11-07 00:00:00+00:00 2024-11-03 00:00:00+00:00           55.88\n",
       "937 2024-11-08 00:00:00+00:00 2024-11-03 00:00:00+00:00           58.39\n",
       "\n",
       "[938 rows x 3 columns]"
      ]
     },
     "execution_count": 67,
     "metadata": {},
     "output_type": "execute_result"
    }
   ],
   "source": [
    "df[[\"date\", \"week\", \"real_adj_close\"]]"
   ]
  },
  {
   "cell_type": "code",
   "execution_count": null,
   "id": "7f9e7ce4-7cba-4b2d-ab02-bb172d7775b4",
   "metadata": {},
   "outputs": [],
   "source": []
  }
 ],
 "metadata": {
  "kernelspec": {
   "display_name": "Python 3 (ipykernel)",
   "language": "python",
   "name": "python3"
  },
  "language_info": {
   "codemirror_mode": {
    "name": "ipython",
    "version": 3
   },
   "file_extension": ".py",
   "mimetype": "text/x-python",
   "name": "python",
   "nbconvert_exporter": "python",
   "pygments_lexer": "ipython3",
   "version": "3.12.5"
  }
 },
 "nbformat": 4,
 "nbformat_minor": 5
}
